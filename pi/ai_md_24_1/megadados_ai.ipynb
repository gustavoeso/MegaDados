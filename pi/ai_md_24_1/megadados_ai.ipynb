{
 "cells": [
  {
   "cell_type": "markdown",
   "id": "f62ded59",
   "metadata": {},
   "source": [
    "# AI MEGADADOS 24-1"
   ]
  },
  {
   "cell_type": "markdown",
   "id": "ee1fa31d",
   "metadata": {},
   "source": [
    "**NOME**: SEU NOME AQUI!"
   ]
  },
  {
   "cell_type": "markdown",
   "id": "347b3f0a",
   "metadata": {},
   "source": [
    "## Parte 1 - Autocar!\n",
    "\n",
    "Na parte 1 da prova de Megadados, iremos trabalhar com a base de dados sintética **autocar**. Esta base modela um cenário de manutenção de automóveis.\n",
    "\n",
    "Ao levar um automóvel para manutenção, é criada uma **ordem de serviço**. Na ordem de serviço, são incluídos **serviços** realizados, para que o cliente pague pela mão de obra (limpeza, desmontagem). Ainda, também é possível incluir **peças** na ordem de serviço (pastilhas de freios, engrenagens).\n",
    "\n",
    "### Instalação da base\n",
    "\n",
    "Execute os scripts `autocar.sql` no MySQL Workbench. Este script cria uma base `autocar` e insere alguns dados de exemplo para resolução da prova.\n",
    "\n",
    "A base pode ser representada pelo seguinte diagrama do model orelacional (diagrama ER):\n",
    "\n",
    "<img src=\"img/deer_autocar.png\">"
   ]
  },
  {
   "cell_type": "markdown",
   "id": "f1b22c4b",
   "metadata": {},
   "source": [
    "### Insper autograding!\n",
    "\n",
    "Para receber feedback dos exercício na parte 1, iremos utilizar o `insper autograding`. Garanta que a biblioteca está instalada em seu ambiente Python.\n",
    "\n",
    "**Sugestão**: para aproveitar o `.env`, crie uma pasta para a prova no mesmo local onde costuma deixar as pastas das **aulas**!"
   ]
  },
  {
   "cell_type": "markdown",
   "id": "69ee33d4",
   "metadata": {},
   "source": [
    "## Como resolver os exercícios?\n",
    "\n",
    "Crie a base da prova em sua máquina (passo anterior). Utilize o MySQL Workbench ou o conector para testar as queries. Quando estiver bastante certo de que a resposta está correta, faça a submissão para o servidor.\n",
    "\n",
    "Em alguns momentos, pode ser necessário analisar a resposta esperada do servidor para entender modificações na sua solução, mesmo que não seja algo explícito no enunciado.\n",
    "\n",
    "## Import das bibliotecas\n",
    "\n",
    "Vamos realizar o import das bibliotecas."
   ]
  },
  {
   "cell_type": "code",
   "execution_count": 92,
   "id": "b2f1597a",
   "metadata": {},
   "outputs": [],
   "source": [
    "import mysql.connector\n",
    "from functools import partial\n",
    "import os\n",
    "import insperautograder.jupyter as ia\n",
    "from dotenv import load_dotenv"
   ]
  },
  {
   "cell_type": "markdown",
   "id": "33eefa0d",
   "metadata": {},
   "source": [
    "E vamos criar nosso HELPER de conexão com o banco! Perceba que, uma vez configurado o `.env` não precisaremos mais informar usuários, senhas e URLs!"
   ]
  },
  {
   "cell_type": "code",
   "execution_count": 93,
   "id": "f5147533",
   "metadata": {},
   "outputs": [],
   "source": [
    "load_dotenv(override=True)\n",
    "\n",
    "def get_connection_helper():\n",
    "\n",
    "    def run_db_query(connection, query, args=None):\n",
    "        with connection.cursor() as cursor:\n",
    "            print(\"Executando query:\")\n",
    "            cursor.execute(query, args)\n",
    "            for result in cursor:\n",
    "                print(result)\n",
    "\n",
    "    connection = mysql.connector.connect(\n",
    "        host=os.getenv(\"MD_DB_SERVER\"),\n",
    "        user=os.getenv(\"MD_DB_USERNAME\"),\n",
    "        password=os.getenv(\"MD_DB_PASSWORD\"),\n",
    "        database=\"autocar\",\n",
    "    )\n",
    "    return connection, partial(run_db_query, connection)\n",
    "\n",
    "\n",
    "connection, db = get_connection_helper()"
   ]
  },
  {
   "cell_type": "markdown",
   "id": "86e481dc",
   "metadata": {},
   "source": [
    "### Notas\n",
    "\n",
    "Para conferir a nota da correção automática da prova, utilize:"
   ]
  },
  {
   "cell_type": "code",
   "execution_count": 94,
   "id": "9d0c9a82",
   "metadata": {},
   "outputs": [
    {
     "data": {
      "text/markdown": [
       "|    | Atividade   | Exercício   |   Peso |   Nota |\n",
       "|---:|:------------|:------------|-------:|-------:|\n",
       "|  0 | ai_md_24_1  | ex01        |      2 |     10 |\n",
       "|  1 | ai_md_24_1  | ex02        |      2 |     10 |\n",
       "|  2 | ai_md_24_1  | ex03        |      2 |     10 |\n",
       "|  3 | ai_md_24_1  | ex04        |      2 |     10 |\n",
       "|  4 | ai_md_24_1  | ex05        |      4 |      0 |\n",
       "|  5 | ai_md_24_1  | ex06        |      2 |     10 |\n",
       "|  6 | ai_md_24_1  | ex07        |      2 |     10 |"
      ],
      "text/plain": [
       "<IPython.core.display.Markdown object>"
      ]
     },
     "metadata": {},
     "output_type": "display_data"
    }
   ],
   "source": [
    "ia.grades(task=\"ai_md_24_1\")"
   ]
  },
  {
   "cell_type": "code",
   "execution_count": 95,
   "id": "088634f3",
   "metadata": {},
   "outputs": [
    {
     "data": {
      "text/markdown": [
       "|    | Tarefa     |   Nota |\n",
       "|---:|:-----------|-------:|\n",
       "|  0 | ai_md_24_1 |    7.5 |"
      ],
      "text/plain": [
       "<IPython.core.display.Markdown object>"
      ]
     },
     "metadata": {},
     "output_type": "display_data"
    }
   ],
   "source": [
    "ia.grades(by=\"TASK\", task=\"ai_md_24_1\")"
   ]
  },
  {
   "cell_type": "markdown",
   "id": "c210879c",
   "metadata": {},
   "source": [
    "**Obs**:\n",
    "\n",
    "- As questões 1 a 7 valem **6.0 pontos** na nota da prova.\n",
    "    - Estas questões serão corrigidas **apenas** pela correção automática. Não haverá nota manual.\n",
    "    - Confira os pesos pela API.\n",
    "    - No servidor, a nota da atividade estará no intervalo 0 a 10. Multiplique por `0.6` para saber a real contribuição na nota da prova.\n",
    "- A questão 8 vale **0.5 pontos** na nota da prova.\n",
    "- As questões 9 e 10 valem **3.5 pontos** na nota da prova:\n",
    "    - **2.5 pontos** para a questão 9.\n",
    "    - **1.0 pontos** para a questão 10."
   ]
  },
  {
   "cell_type": "markdown",
   "id": "8a3c8ba9",
   "metadata": {},
   "source": [
    "**Exercício 1**: Crie uma query que retorne o nome, telefone e e-mail de todos os clientes que moram em alguma avenida.\n",
    "\n",
    "**Obs**: Ordene de forma crescente pelo nome do cliente."
   ]
  },
  {
   "cell_type": "code",
   "execution_count": 96,
   "id": "faa95959",
   "metadata": {},
   "outputs": [
    {
     "name": "stdout",
     "output_type": "stream",
     "text": [
      "Executando query:\n",
      "(1, 'João da Silva', '11-98765-4321', 'joao@email.com', 'Rua Ave Maria, 123', 1)\n",
      "(2, 'Maria Santos', '11-98765-4322', 'maria@email.com', 'Avenida Brasil, 500', 2)\n",
      "(3, 'José Souza', '21-99876-5432', 'jose@email.com', 'Rua do Comércio, 50', 1)\n",
      "(4, 'Pedro Pereira', '31-99874-6543', 'pedro@email.com', 'Av. Sete de Setembro, 987', 5)\n",
      "(5, 'Ana Paula', '41-99873-7654', 'ana@email.com', 'Rua João XXIII, 300', 1)\n",
      "(6, 'Carlos Almeida', '51-99875-4321', 'carlos@email.com', 'Rua Francisco Glicério, 900', 2)\n",
      "(7, 'Amanda Costa', '61-99872-4321', 'amanda@email.com', 'SQSW 105 Sul bloco D, apto 401', 7)\n",
      "(8, 'Paulo Oliveira', '11-99911-1234', 'paulo@email.com', 'Av. Paulista, 1500', 8)\n"
     ]
    }
   ],
   "source": [
    "db(\"SELECT * FROM cliente\")"
   ]
  },
  {
   "cell_type": "code",
   "execution_count": 97,
   "id": "5b56ff5a",
   "metadata": {},
   "outputs": [
    {
     "name": "stdout",
     "output_type": "stream",
     "text": [
      "Executando query:\n",
      "('cliente_id', 'int', 'NO', 'PRI', None, '')\n",
      "('nome', 'varchar(100)', 'NO', '', None, '')\n",
      "('telefone', 'varchar(20)', 'NO', '', None, '')\n",
      "('email', 'varchar(100)', 'NO', '', None, '')\n",
      "('endereco', 'varchar(200)', 'NO', '', None, '')\n",
      "('cep_id', 'int', 'YES', 'MUL', None, '')\n"
     ]
    }
   ],
   "source": [
    "db(\"DESCRIBE cliente\")"
   ]
  },
  {
   "cell_type": "code",
   "execution_count": 98,
   "id": "49f356af",
   "metadata": {},
   "outputs": [
    {
     "name": "stdout",
     "output_type": "stream",
     "text": [
      "Executando query:\n",
      "('Maria Santos', '11-98765-4322', 'maria@email.com')\n",
      "('Paulo Oliveira', '11-99911-1234', 'paulo@email.com')\n",
      "('Pedro Pereira', '31-99874-6543', 'pedro@email.com')\n"
     ]
    }
   ],
   "source": [
    "sql_ex01 = \"\"\"\n",
    "SELECT\n",
    "    cl.nome,\n",
    "    cl.telefone,\n",
    "    cl.email\n",
    "FROM\n",
    "    cliente cl\n",
    "WHERE\n",
    "    cl.endereco LIKE \"Av%\"\n",
    "ORDER BY\n",
    "    cl.nome ASC\n",
    "\"\"\"\n",
    "\n",
    "db(sql_ex01)"
   ]
  },
  {
   "cell_type": "markdown",
   "id": "912fa816",
   "metadata": {},
   "source": [
    "Após testar localmente e considerar sua solução correta, faça o envio clicando no botão abaixo!"
   ]
  },
  {
   "cell_type": "code",
   "execution_count": 99,
   "id": "5e07ed2b",
   "metadata": {},
   "outputs": [
    {
     "data": {
      "application/vnd.jupyter.widget-view+json": {
       "model_id": "0978534535ec47f596fc00375db0888a",
       "version_major": 2,
       "version_minor": 0
      },
      "text/plain": [
       "interactive(children=(Button(description='Enviar ex01', style=ButtonStyle()), Output()), _dom_classes=('widget…"
      ]
     },
     "execution_count": 99,
     "metadata": {},
     "output_type": "execute_result"
    }
   ],
   "source": [
    "ia.sender(answer=\"sql_ex01\", task=\"ai_md_24_1\", question=\"ex01\", answer_type=\"pyvar\")"
   ]
  },
  {
   "cell_type": "markdown",
   "id": "c167b70e",
   "metadata": {},
   "source": [
    "**Exercício 2**: Crie uma query que retorne o `cep`, o nome da `cidade` e o nome do `uf` dos CEPs cadastrados.\n",
    "\n",
    "Utilize a nomenclatura (`cep`, `cidade`, `uf`) e ordene de forma decrescente pelo código do CEP."
   ]
  },
  {
   "cell_type": "code",
   "execution_count": 100,
   "id": "0203756a",
   "metadata": {},
   "outputs": [
    {
     "name": "stdout",
     "output_type": "stream",
     "text": [
      "Executando query:\n",
      "('90901000', 'Porto Alegre', 'RS')\n",
      "('80000000', 'Curitiba', 'PR')\n",
      "('70002970', 'Brasília', 'DF')\n",
      "('30120000', 'Belo Horizonte', 'MG')\n",
      "('24030000', 'Niterói', 'RJ')\n",
      "('20000000', 'Rio de Janeiro', 'RJ')\n",
      "('01002200', 'São Paulo', 'SP')\n",
      "('01001000', 'São Paulo', 'SP')\n"
     ]
    }
   ],
   "source": [
    "sql_ex02 = \"\"\"\n",
    "SELECT\n",
    "    cep.codigo AS cep,\n",
    "    ci.nome AS cidade,\n",
    "    uf.nome AS uf\n",
    "FROM\n",
    "    cep AS cep\n",
    "JOIN\n",
    "    cidade AS ci ON cep.cidade_id = ci.cidade_id\n",
    "JOIN\n",
    "    uf AS uf ON ci.uf_id = uf.uf_id\n",
    "ORDER BY\n",
    "    cep.codigo DESC\n",
    "\"\"\"\n",
    "\n",
    "db(sql_ex02)"
   ]
  },
  {
   "cell_type": "markdown",
   "id": "ed653f31",
   "metadata": {},
   "source": [
    "Após testar localmente e considerar sua solução correta, faça o envio clicando no botão abaixo!"
   ]
  },
  {
   "cell_type": "code",
   "execution_count": 101,
   "id": "b38f883b",
   "metadata": {},
   "outputs": [
    {
     "data": {
      "application/vnd.jupyter.widget-view+json": {
       "model_id": "9915aef5eaca47429603c732a9cd46a2",
       "version_major": 2,
       "version_minor": 0
      },
      "text/plain": [
       "interactive(children=(Button(description='Enviar ex02', style=ButtonStyle()), Output()), _dom_classes=('widget…"
      ]
     },
     "execution_count": 101,
     "metadata": {},
     "output_type": "execute_result"
    }
   ],
   "source": [
    "ia.sender(answer=\"sql_ex02\", task=\"ai_md_24_1\", question=\"ex02\", answer_type=\"pyvar\")"
   ]
  },
  {
   "cell_type": "markdown",
   "id": "a1f510dc",
   "metadata": {},
   "source": [
    "**Exercício 3**: O gestor da empresa deseja saber o preço mínimo, médio e máximo cobrado **por peça**.\n",
    "\n",
    "Crie uma query que retorne estas informações dentre as peças utilizadas nas ordens de serviço.\n",
    "\n",
    "**Obs**:\n",
    "- Nas peças, o preço representa o preço atual da peça;\n",
    "- Nas peças utilizadas, o campo de `preco` representa o preço por unidade da peça, no momento em que foi utilizada na ordem de serviço.\n",
    "- Retorne os atributos `nome` da peça,`descricao`, `preco_minimo`, `preco_medio` e `preco_maximo` (nesta ordem).\n",
    "- Ordene pelo preço médio."
   ]
  },
  {
   "cell_type": "code",
   "execution_count": 102,
   "id": "f124731c",
   "metadata": {},
   "outputs": [
    {
     "name": "stdout",
     "output_type": "stream",
     "text": [
      "Executando query:\n",
      "('Filtro de óleo', 'Filtro de óleo motor', Decimal('15.00'), Decimal('16.250000'), Decimal('20.00'))\n",
      "('Vela de ignição', 'Vela de ignição platinada', Decimal('25.00'), Decimal('25.000000'), Decimal('25.00'))\n",
      "('Gás freio', 'Cartucho de gás do freio', Decimal('35.00'), Decimal('35.000000'), Decimal('35.00'))\n",
      "('Pastilhas de freio', 'Conjunto de pastilhas', Decimal('75.00'), Decimal('77.000000'), Decimal('85.00'))\n",
      "('Bobina', 'Bobina de ignição', Decimal('90.00'), Decimal('90.000000'), Decimal('90.00'))\n",
      "('Correia dentada', 'Correia dentada do alternador', Decimal('120.00'), Decimal('120.000000'), Decimal('120.00'))\n",
      "('Suspensão', 'Amortecedor dianteiro esquerdo', Decimal('150.00'), Decimal('150.000000'), Decimal('150.00'))\n"
     ]
    }
   ],
   "source": [
    "sql_ex03 = \"\"\"\n",
    "SELECT DISTINCT\n",
    "    pe.nome,\n",
    "    pe.descricao,\n",
    "    MIN(peut.preco) AS preco_minimo,\n",
    "    AVG(peut.preco) AS preco_medio,\n",
    "    MAX(peut.preco) AS preco_maximo\n",
    "FROM\n",
    "    peca pe\n",
    "JOIN\n",
    "    peca_utilizada peut ON pe.peca_id = peut.peca_id\n",
    "JOIN\n",
    "    ordem_de_servico ods ON peut.ordem_id = ods.ordem_id\n",
    "GROUP BY\n",
    "    pe.nome,\n",
    "    pe.descricao\n",
    "ORDER BY\n",
    "    preco_medio\n",
    "\"\"\"\n",
    "\n",
    "db(sql_ex03)"
   ]
  },
  {
   "cell_type": "markdown",
   "id": "6e1251f9",
   "metadata": {},
   "source": [
    "Após testar localmente e considerar sua solução correta, faça o envio clicando no botão abaixo!"
   ]
  },
  {
   "cell_type": "code",
   "execution_count": 103,
   "id": "4a3e71f9",
   "metadata": {},
   "outputs": [
    {
     "data": {
      "application/vnd.jupyter.widget-view+json": {
       "model_id": "a8e72cd7024847eca5bf267360d01908",
       "version_major": 2,
       "version_minor": 0
      },
      "text/plain": [
       "interactive(children=(Button(description='Enviar ex03', style=ButtonStyle()), Output()), _dom_classes=('widget…"
      ]
     },
     "execution_count": 103,
     "metadata": {},
     "output_type": "execute_result"
    }
   ],
   "source": [
    "ia.sender(answer=\"sql_ex03\", task=\"ai_md_24_1\", question=\"ex03\", answer_type=\"pyvar\")"
   ]
  },
  {
   "cell_type": "markdown",
   "id": "7cce319d",
   "metadata": {},
   "source": [
    "**Exercício 4**: Crie uma query que retorne o código, nome, descrição e estoque das peças que ainda não tiveram uso em nenhuma ordem de serviço.\n",
    "\n",
    "**Obs**:\n",
    "- Ordene pelo nome da peça."
   ]
  },
  {
   "cell_type": "code",
   "execution_count": 104,
   "id": "6752e69b",
   "metadata": {},
   "outputs": [
    {
     "name": "stdout",
     "output_type": "stream",
     "text": [
      "Executando query:\n",
      "(1, 'Filtro de óleo', 'Filtro de óleo motor', Decimal('15.00'), 50, 1, 1, 1, Decimal('15.00'), 1, 1)\n",
      "(1, 'Filtro de óleo', 'Filtro de óleo motor', Decimal('15.00'), 50, 2, 5, 1, Decimal('20.00'), 1, 1)\n",
      "(1, 'Filtro de óleo', 'Filtro de óleo motor', Decimal('15.00'), 50, 5, 11, 1, Decimal('15.00'), 1, 1)\n",
      "(1, 'Filtro de óleo', 'Filtro de óleo motor', Decimal('15.00'), 50, 9, 4, 1, Decimal('15.00'), 1, 2)\n",
      "(2, 'Pastilhas de freio', 'Conjunto de pastilhas', Decimal('75.00'), 20, 3, 6, 2, Decimal('85.00'), 4, 1)\n",
      "(2, 'Pastilhas de freio', 'Conjunto de pastilhas', Decimal('75.00'), 20, 4, 7, 2, Decimal('75.00'), 2, 1)\n",
      "(2, 'Pastilhas de freio', 'Conjunto de pastilhas', Decimal('75.00'), 20, 8, 2, 2, Decimal('75.00'), 2, 2)\n",
      "(2, 'Pastilhas de freio', 'Conjunto de pastilhas', Decimal('75.00'), 20, 11, 10, 2, Decimal('75.00'), 3, 2)\n",
      "(2, 'Pastilhas de freio', 'Conjunto de pastilhas', Decimal('75.00'), 20, 15, 16, 2, Decimal('75.00'), 4, 2)\n",
      "(3, 'Correia dentada', 'Correia dentada do alternador', Decimal('96.00'), 10, 12, 12, 3, Decimal('120.00'), 1, 2)\n",
      "(4, 'Vela de ignição', 'Vela de ignição platinada', Decimal('25.00'), 40, 6, 14, 4, Decimal('25.00'), 2, 1)\n",
      "(4, 'Vela de ignição', 'Vela de ignição platinada', Decimal('25.00'), 40, 13, 13, 4, Decimal('25.00'), 2, 2)\n",
      "(5, 'Bobina', 'Bobina de ignição', Decimal('100.00'), 30, 10, 5, 5, Decimal('90.00'), 2, 2)\n",
      "(6, 'Gás freio', 'Cartucho de gás do freio', Decimal('35.00'), 15, 7, 14, 6, Decimal('35.00'), 1, 1)\n",
      "(7, 'Ar condicionado', 'Filtro do ar condicionado', Decimal('30.00'), 25, None, None, None, None, None, None)\n",
      "(8, 'Suspensão', 'Amortecedor dianteiro esquerdo', Decimal('120.00'), 5, 14, 15, 8, Decimal('150.00'), 1, 2)\n",
      "(9, 'Suspensão', 'Amortecedor traseiro esquerdo', Decimal('200.00'), 2, None, None, None, None, None, None)\n",
      "(10, 'Bobina', 'Bobina de ignição alta performance', Decimal('320.00'), 8, None, None, None, None, None, None)\n"
     ]
    }
   ],
   "source": [
    "db(\"SELECT * FROM peca pe LEFT JOIN peca_utilizada peut ON pe.peca_id = peut.peca_id\")"
   ]
  },
  {
   "cell_type": "code",
   "execution_count": 105,
   "id": "d298ffce",
   "metadata": {},
   "outputs": [
    {
     "name": "stdout",
     "output_type": "stream",
     "text": [
      "Executando query:\n",
      "(7, 'Ar condicionado', 'Filtro do ar condicionado', 25)\n",
      "(10, 'Bobina', 'Bobina de ignição alta performance', 8)\n",
      "(9, 'Suspensão', 'Amortecedor traseiro esquerdo', 2)\n"
     ]
    }
   ],
   "source": [
    "sql_ex04 = \"\"\"\n",
    "SELECT\n",
    "    pe.peca_id,\n",
    "    pe.nome,\n",
    "    pe.descricao,\n",
    "    pe.estoque\n",
    "FROM\n",
    "    peca pe\n",
    "LEFT JOIN\n",
    "    peca_utilizada peut ON pe.peca_id = peut.peca_id\n",
    "WHERE\n",
    "    peut.quantidade IS NULL\n",
    "ORDER BY\n",
    "    pe.nome\n",
    "\"\"\"\n",
    "\n",
    "db(sql_ex04)"
   ]
  },
  {
   "cell_type": "markdown",
   "id": "026cb741",
   "metadata": {},
   "source": [
    "Após testar localmente e considerar sua solução correta, faça o envio clicando no botão abaixo!"
   ]
  },
  {
   "cell_type": "code",
   "execution_count": 106,
   "id": "0b32e8e4",
   "metadata": {},
   "outputs": [
    {
     "data": {
      "application/vnd.jupyter.widget-view+json": {
       "model_id": "ac02d2800be34981842669b5521767b6",
       "version_major": 2,
       "version_minor": 0
      },
      "text/plain": [
       "interactive(children=(Button(description='Enviar ex04', style=ButtonStyle()), Output()), _dom_classes=('widget…"
      ]
     },
     "execution_count": 106,
     "metadata": {},
     "output_type": "execute_result"
    }
   ],
   "source": [
    "ia.sender(answer=\"sql_ex04\", task=\"ai_md_24_1\", question=\"ex04\", answer_type=\"pyvar\")"
   ]
  },
  {
   "cell_type": "markdown",
   "id": "ae19d0a1",
   "metadata": {},
   "source": [
    "**Exercício 5**: Crie uma query que retorne:\n",
    "\n",
    "- o `id` da ordem de serviço.\n",
    "- um texto com a descrição do `status` da ordem de serviço.\n",
    "- quantas peças diferentes foram utilizadas na ordem de serviço.\n",
    "- o valor total gasto em peças.\n",
    "- quantos serviços diferentes foram realizados na ordem de serviço.\n",
    "- o valor total gasto em serviços.\n",
    "- o valor total geral (peças e serviços) da ordem de serviço.\n",
    "\n",
    "\n",
    "**Obs**:\n",
    "- As ordens de serviço que deram maior faturamento para a empresa devem aparecer primeiro. Em caso de empate, as ordens com menor `id`  devem aparecer primeiro.\n",
    "- Ordens sem serviços (ou sem peças) devem  ser retornadas com valor zerado nos campos totalizadores correspondentes.\n",
    "- O nome das colunas deve ser: `ordem_id`, `qt_unitaria_peca`, `valor_total_peca`, `qt_unitaria_servico`, `valor_total_servico`, `valor_total_geral`.\n",
    "- Retorne apenas as ordens de serviço cujo valor total geral tenha ficado de 200 (inclusive) a 410 reais (inclusive)."
   ]
  },
  {
   "cell_type": "code",
   "execution_count": 107,
   "id": "764c4328",
   "metadata": {},
   "outputs": [
    {
     "name": "stdout",
     "output_type": "stream",
     "text": [
      "Executando query:\n",
      "(1, 'Em Andamento')\n",
      "(2, 'Concluído')\n",
      "(3, 'Cancelado')\n"
     ]
    }
   ],
   "source": [
    "db(\"SELECT * FROM status\")"
   ]
  },
  {
   "cell_type": "code",
   "execution_count": 115,
   "id": "b8a0a9bc",
   "metadata": {},
   "outputs": [
    {
     "name": "stdout",
     "output_type": "stream",
     "text": [
      "Executando query:\n",
      "(3, 'Concluído', 0, None, 3, Decimal('300.00'))\n",
      "(5, 'Concluído', 2, Decimal('110.00'), 2, Decimal('290.00'))\n",
      "(4, 'Em Andamento', 2, Decimal('30.00'), 2, Decimal('255.00'))\n",
      "(7, 'Concluído', 2, Decimal('150.00'), 2, Decimal('255.00'))\n"
     ]
    }
   ],
   "source": [
    "sql_ex05 = \"\"\"\n",
    "SELECT\n",
    "    ods.ordem_id AS ordem_id,\n",
    "    st.nome,\n",
    "    COUNT(peut.ordem_id) qt_unitaria_peca,\n",
    "    SUM(peut.preco) AS valor_total_peca,\n",
    "    COUNT(sere.ordem_id) AS qt_unitaria_servico,\n",
    "    SUM(sere.preco) AS valor_total_servico\n",
    "FROM\n",
    "    ordem_de_servico ods\n",
    "LEFT JOIN\n",
    "    status st ON ods.status_id = st.status_id\n",
    "LEFT JOIN\n",
    "    peca_utilizada peut ON ods.ordem_id = peut.ordem_id\n",
    "LEFT JOIN\n",
    "    servico_realizado sere ON ods.ordem_id = sere.ordem_id\n",
    "GROUP BY\n",
    "    ods.ordem_id,\n",
    "    st.nome\n",
    "HAVING\n",
    "    valor_total_servico >= 200 AND valor_total_servico <= 410\n",
    "ORDER BY\n",
    "    valor_total_servico DESC, ordem_id ASC\n",
    "\"\"\"\n",
    "\n",
    "db(sql_ex05)"
   ]
  },
  {
   "cell_type": "markdown",
   "id": "1865f073",
   "metadata": {},
   "source": [
    "Após testar localmente e considerar sua solução correta, faça o envio clicando no botão abaixo!"
   ]
  },
  {
   "cell_type": "code",
   "execution_count": 109,
   "id": "1e93079b",
   "metadata": {},
   "outputs": [
    {
     "data": {
      "application/vnd.jupyter.widget-view+json": {
       "model_id": "9336ab4aebd244d7a21b26db86d38471",
       "version_major": 2,
       "version_minor": 0
      },
      "text/plain": [
       "interactive(children=(Button(description='Enviar ex05', style=ButtonStyle()), Output()), _dom_classes=('widget…"
      ]
     },
     "execution_count": 109,
     "metadata": {},
     "output_type": "execute_result"
    }
   ],
   "source": [
    "ia.sender(answer=\"sql_ex05\", task=\"ai_md_24_1\", question=\"ex05\", answer_type=\"pyvar\")"
   ]
  },
  {
   "cell_type": "markdown",
   "id": "6d9f7e61",
   "metadata": {},
   "source": [
    "**Exercício 6**:\n",
    "\n",
    "Gerenciar uma quantidade insana de peças diferentes dá um trabalhão. Pensando nisso, o gerente lançou a promoção **\"Deu a louca no patrão!\"**.\n",
    "\n",
    "Nesta promoção, todas as peças com estoque atual em 10 unidades ou menos deve ter seu preço reduzido em 20%.\n",
    "\n",
    "Crie uma query para atualizar o preço das peças."
   ]
  },
  {
   "cell_type": "code",
   "execution_count": 110,
   "id": "632c9fc8",
   "metadata": {},
   "outputs": [
    {
     "name": "stdout",
     "output_type": "stream",
     "text": [
      "Executando query:\n"
     ]
    }
   ],
   "source": [
    "sql_ex06 = \"\"\"\n",
    "UPDATE\n",
    "    peca\n",
    "SET\n",
    "    preco = preco*0.8\n",
    "WHERE\n",
    "    estoque <= 10\n",
    "\"\"\"\n",
    "\n",
    "db(sql_ex06)"
   ]
  },
  {
   "cell_type": "markdown",
   "id": "4bfb28da",
   "metadata": {},
   "source": [
    "Após testar localmente e considerar sua solução correta, faça o envio clicando no botão abaixo!"
   ]
  },
  {
   "cell_type": "code",
   "execution_count": 111,
   "id": "75b5ad42",
   "metadata": {},
   "outputs": [
    {
     "data": {
      "application/vnd.jupyter.widget-view+json": {
       "model_id": "096e30532e2c42d896a15dd730ece0c4",
       "version_major": 2,
       "version_minor": 0
      },
      "text/plain": [
       "interactive(children=(Button(description='Enviar ex06', style=ButtonStyle()), Output()), _dom_classes=('widget…"
      ]
     },
     "execution_count": 111,
     "metadata": {},
     "output_type": "execute_result"
    }
   ],
   "source": [
    "ia.sender(answer=\"sql_ex06\", task=\"ai_md_24_1\", question=\"ex06\", answer_type=\"pyvar\")"
   ]
  },
  {
   "cell_type": "markdown",
   "id": "fdd6343b",
   "metadata": {},
   "source": [
    "**Exercício 7**: A tabela de `orcamento` deveria ter sido criada conforme o diagrama do modelo relacional disponibilizado pelo professor na pasta da prova e exibido no começo deste notebook. \n",
    "\n",
    "Entretanto, ela foi criada com a DDL:\n",
    "\n",
    "```sql\n",
    "CREATE TABLE orcamento (\n",
    "    orcamento_id INT PRIMARY KEY,\n",
    "    data DATE NOT NULL,\n",
    "    total DECIMAL(10,2)\n",
    ")\n",
    "```\n",
    "\n",
    "Crie uma query para corrigir a tabela, de forma que fique como o proposto no diagrama.\n",
    "\n",
    "**Obs**: Você deve alterar a tabela. Apagar e recriar não será considerada uma solução válida."
   ]
  },
  {
   "cell_type": "code",
   "execution_count": 112,
   "id": "6d443e77",
   "metadata": {},
   "outputs": [
    {
     "name": "stdout",
     "output_type": "stream",
     "text": [
      "Executando query:\n"
     ]
    },
    {
     "ename": "ProgrammingError",
     "evalue": "1060 (42S21): Duplicate column name 'ordem_id'",
     "output_type": "error",
     "traceback": [
      "\u001b[1;31m---------------------------------------------------------------------------\u001b[0m",
      "\u001b[1;31mProgrammingError\u001b[0m                          Traceback (most recent call last)",
      "Cell \u001b[1;32mIn[112], line 10\u001b[0m\n\u001b[0;32m      1\u001b[0m sql_ex07 \u001b[38;5;241m=\u001b[39m \u001b[38;5;124m\"\"\"\u001b[39m\n\u001b[0;32m      2\u001b[0m \u001b[38;5;124mALTER TABLE orcamento\u001b[39m\n\u001b[0;32m      3\u001b[0m \u001b[38;5;124mMODIFY COLUMN total DECIMAL(10,2) NOT NULL,\u001b[39m\n\u001b[1;32m   (...)\u001b[0m\n\u001b[0;32m      7\u001b[0m \u001b[38;5;124m    REFERENCES ordem_de_servico(ordem_id);\u001b[39m\n\u001b[0;32m      8\u001b[0m \u001b[38;5;124m\"\"\"\u001b[39m\n\u001b[1;32m---> 10\u001b[0m \u001b[43mdb\u001b[49m\u001b[43m(\u001b[49m\u001b[43msql_ex07\u001b[49m\u001b[43m)\u001b[49m\n",
      "Cell \u001b[1;32mIn[93], line 8\u001b[0m, in \u001b[0;36mget_connection_helper.<locals>.run_db_query\u001b[1;34m(connection, query, args)\u001b[0m\n\u001b[0;32m      6\u001b[0m \u001b[38;5;28;01mwith\u001b[39;00m connection\u001b[38;5;241m.\u001b[39mcursor() \u001b[38;5;28;01mas\u001b[39;00m cursor:\n\u001b[0;32m      7\u001b[0m     \u001b[38;5;28mprint\u001b[39m(\u001b[38;5;124m\"\u001b[39m\u001b[38;5;124mExecutando query:\u001b[39m\u001b[38;5;124m\"\u001b[39m)\n\u001b[1;32m----> 8\u001b[0m     \u001b[43mcursor\u001b[49m\u001b[38;5;241;43m.\u001b[39;49m\u001b[43mexecute\u001b[49m\u001b[43m(\u001b[49m\u001b[43mquery\u001b[49m\u001b[43m,\u001b[49m\u001b[43m \u001b[49m\u001b[43margs\u001b[49m\u001b[43m)\u001b[49m\n\u001b[0;32m      9\u001b[0m     \u001b[38;5;28;01mfor\u001b[39;00m result \u001b[38;5;129;01min\u001b[39;00m cursor:\n\u001b[0;32m     10\u001b[0m         \u001b[38;5;28mprint\u001b[39m(result)\n",
      "File \u001b[1;32m~\\AppData\\Local\\Packages\\PythonSoftwareFoundation.Python.3.12_qbz5n2kfra8p0\\LocalCache\\local-packages\\Python312\\site-packages\\mysql\\connector\\cursor.py:748\u001b[0m, in \u001b[0;36mMySQLCursor.execute\u001b[1;34m(self, operation, params, multi)\u001b[0m\n\u001b[0;32m    745\u001b[0m     \u001b[38;5;28;01mreturn\u001b[39;00m \u001b[38;5;28mself\u001b[39m\u001b[38;5;241m.\u001b[39m_execute_iter(\u001b[38;5;28mself\u001b[39m\u001b[38;5;241m.\u001b[39m_connection\u001b[38;5;241m.\u001b[39mcmd_query_iter(stmt))\n\u001b[0;32m    747\u001b[0m \u001b[38;5;28;01mtry\u001b[39;00m:\n\u001b[1;32m--> 748\u001b[0m     \u001b[38;5;28mself\u001b[39m\u001b[38;5;241m.\u001b[39m_handle_result(\u001b[38;5;28;43mself\u001b[39;49m\u001b[38;5;241;43m.\u001b[39;49m\u001b[43m_connection\u001b[49m\u001b[38;5;241;43m.\u001b[39;49m\u001b[43mcmd_query\u001b[49m\u001b[43m(\u001b[49m\u001b[43mstmt\u001b[49m\u001b[43m)\u001b[49m)\n\u001b[0;32m    749\u001b[0m \u001b[38;5;28;01mexcept\u001b[39;00m InterfaceError \u001b[38;5;28;01mas\u001b[39;00m err:\n\u001b[0;32m    750\u001b[0m     \u001b[38;5;28;01mif\u001b[39;00m \u001b[38;5;28mself\u001b[39m\u001b[38;5;241m.\u001b[39m_connection\u001b[38;5;241m.\u001b[39mhave_next_result:\n",
      "File \u001b[1;32m~\\AppData\\Local\\Packages\\PythonSoftwareFoundation.Python.3.12_qbz5n2kfra8p0\\LocalCache\\local-packages\\Python312\\site-packages\\mysql\\connector\\opentelemetry\\context_propagation.py:74\u001b[0m, in \u001b[0;36mwith_context_propagation.<locals>.wrapper\u001b[1;34m(cnx, *args, **kwargs)\u001b[0m\n\u001b[0;32m     72\u001b[0m \u001b[38;5;250m\u001b[39m\u001b[38;5;124;03m\"\"\"Context propagation decorator.\"\"\"\u001b[39;00m\n\u001b[0;32m     73\u001b[0m \u001b[38;5;28;01mif\u001b[39;00m \u001b[38;5;129;01mnot\u001b[39;00m OTEL_ENABLED \u001b[38;5;129;01mor\u001b[39;00m \u001b[38;5;129;01mnot\u001b[39;00m cnx\u001b[38;5;241m.\u001b[39motel_context_propagation:\n\u001b[1;32m---> 74\u001b[0m     \u001b[38;5;28;01mreturn\u001b[39;00m \u001b[43mmethod\u001b[49m\u001b[43m(\u001b[49m\u001b[43mcnx\u001b[49m\u001b[43m,\u001b[49m\u001b[43m \u001b[49m\u001b[38;5;241;43m*\u001b[39;49m\u001b[43margs\u001b[49m\u001b[43m,\u001b[49m\u001b[43m \u001b[49m\u001b[38;5;241;43m*\u001b[39;49m\u001b[38;5;241;43m*\u001b[39;49m\u001b[43mkwargs\u001b[49m\u001b[43m)\u001b[49m\n\u001b[0;32m     76\u001b[0m current_span \u001b[38;5;241m=\u001b[39m trace\u001b[38;5;241m.\u001b[39mget_current_span()\n\u001b[0;32m     77\u001b[0m tp_header \u001b[38;5;241m=\u001b[39m \u001b[38;5;28;01mNone\u001b[39;00m\n",
      "File \u001b[1;32m~\\AppData\\Local\\Packages\\PythonSoftwareFoundation.Python.3.12_qbz5n2kfra8p0\\LocalCache\\local-packages\\Python312\\site-packages\\mysql\\connector\\connection.py:855\u001b[0m, in \u001b[0;36mMySQLConnection.cmd_query\u001b[1;34m(self, query, raw, buffered, raw_as_string)\u001b[0m\n\u001b[0;32m    853\u001b[0m query \u001b[38;5;241m=\u001b[39m \u001b[38;5;28mbytes\u001b[39m(packet)\n\u001b[0;32m    854\u001b[0m \u001b[38;5;28;01mtry\u001b[39;00m:\n\u001b[1;32m--> 855\u001b[0m     result \u001b[38;5;241m=\u001b[39m \u001b[38;5;28;43mself\u001b[39;49m\u001b[38;5;241;43m.\u001b[39;49m\u001b[43m_handle_result\u001b[49m\u001b[43m(\u001b[49m\u001b[38;5;28;43mself\u001b[39;49m\u001b[38;5;241;43m.\u001b[39;49m\u001b[43m_send_cmd\u001b[49m\u001b[43m(\u001b[49m\u001b[43mServerCmd\u001b[49m\u001b[38;5;241;43m.\u001b[39;49m\u001b[43mQUERY\u001b[49m\u001b[43m,\u001b[49m\u001b[43m \u001b[49m\u001b[43mquery\u001b[49m\u001b[43m)\u001b[49m\u001b[43m)\u001b[49m\n\u001b[0;32m    856\u001b[0m \u001b[38;5;28;01mexcept\u001b[39;00m ProgrammingError \u001b[38;5;28;01mas\u001b[39;00m err:\n\u001b[0;32m    857\u001b[0m     \u001b[38;5;28;01mif\u001b[39;00m err\u001b[38;5;241m.\u001b[39merrno \u001b[38;5;241m==\u001b[39m \u001b[38;5;241m3948\u001b[39m \u001b[38;5;129;01mand\u001b[39;00m \u001b[38;5;124m\"\u001b[39m\u001b[38;5;124mLoading local data is disabled\u001b[39m\u001b[38;5;124m\"\u001b[39m \u001b[38;5;129;01min\u001b[39;00m err\u001b[38;5;241m.\u001b[39mmsg:\n",
      "File \u001b[1;32m~\\AppData\\Local\\Packages\\PythonSoftwareFoundation.Python.3.12_qbz5n2kfra8p0\\LocalCache\\local-packages\\Python312\\site-packages\\mysql\\connector\\connection.py:631\u001b[0m, in \u001b[0;36mMySQLConnection._handle_result\u001b[1;34m(self, packet)\u001b[0m\n\u001b[0;32m    629\u001b[0m     \u001b[38;5;28;01mreturn\u001b[39;00m \u001b[38;5;28mself\u001b[39m\u001b[38;5;241m.\u001b[39m_handle_eof(packet)\n\u001b[0;32m    630\u001b[0m \u001b[38;5;28;01mif\u001b[39;00m packet[\u001b[38;5;241m4\u001b[39m] \u001b[38;5;241m==\u001b[39m \u001b[38;5;241m255\u001b[39m:\n\u001b[1;32m--> 631\u001b[0m     \u001b[38;5;28;01mraise\u001b[39;00m get_exception(packet)\n\u001b[0;32m    633\u001b[0m \u001b[38;5;66;03m# We have a text result set\u001b[39;00m\n\u001b[0;32m    634\u001b[0m column_count \u001b[38;5;241m=\u001b[39m \u001b[38;5;28mself\u001b[39m\u001b[38;5;241m.\u001b[39m_protocol\u001b[38;5;241m.\u001b[39mparse_column_count(packet)\n",
      "\u001b[1;31mProgrammingError\u001b[0m: 1060 (42S21): Duplicate column name 'ordem_id'"
     ]
    }
   ],
   "source": [
    "sql_ex07 = \"\"\"\n",
    "ALTER TABLE orcamento\n",
    "MODIFY COLUMN total DECIMAL(10,2) NOT NULL,\n",
    "ADD COLUMN ordem_id INT NOT NULL,\n",
    "ADD CONSTRAINT fk_ordem_id\n",
    "    FOREIGN KEY(ordem_id)\n",
    "    REFERENCES ordem_de_servico(ordem_id);\n",
    "\"\"\"\n",
    "\n",
    "db(sql_ex07)"
   ]
  },
  {
   "cell_type": "markdown",
   "id": "7b4fce3a",
   "metadata": {},
   "source": [
    "Após testar localmente e considerar sua solução correta, faça o envio clicando no botão abaixo!"
   ]
  },
  {
   "cell_type": "code",
   "execution_count": null,
   "id": "f0c5c9e3",
   "metadata": {},
   "outputs": [
    {
     "data": {
      "application/vnd.jupyter.widget-view+json": {
       "model_id": "3b5e9254ffcb401eac210239fee7e941",
       "version_major": 2,
       "version_minor": 0
      },
      "text/plain": [
       "interactive(children=(Button(description='Enviar ex07', style=ButtonStyle()), Output()), _dom_classes=('widget…"
      ]
     },
     "execution_count": 43,
     "metadata": {},
     "output_type": "execute_result"
    }
   ],
   "source": [
    "ia.sender(answer=\"sql_ex07\", task=\"ai_md_24_1\", question=\"ex07\", answer_type=\"pyvar\")"
   ]
  },
  {
   "cell_type": "markdown",
   "id": "b92ff0ce",
   "metadata": {},
   "source": [
    "### Conferindo as notas!"
   ]
  },
  {
   "cell_type": "code",
   "execution_count": null,
   "id": "0da6de09",
   "metadata": {},
   "outputs": [
    {
     "data": {
      "text/markdown": [
       "|    | Atividade   | Exercício   |   Peso |   Nota |\n",
       "|---:|:------------|:------------|-------:|-------:|\n",
       "|  0 | ai_md_24_1  | ex01        |      2 |     10 |\n",
       "|  1 | ai_md_24_1  | ex02        |      2 |     10 |\n",
       "|  2 | ai_md_24_1  | ex03        |      2 |     10 |\n",
       "|  3 | ai_md_24_1  | ex04        |      2 |     10 |\n",
       "|  4 | ai_md_24_1  | ex05        |      4 |      0 |\n",
       "|  5 | ai_md_24_1  | ex06        |      2 |     10 |\n",
       "|  6 | ai_md_24_1  | ex07        |      2 |     10 |"
      ],
      "text/plain": [
       "<IPython.core.display.Markdown object>"
      ]
     },
     "metadata": {},
     "output_type": "display_data"
    }
   ],
   "source": [
    "ia.grades(task=\"ai_md_24_1\")"
   ]
  },
  {
   "cell_type": "markdown",
   "id": "4c902f7c",
   "metadata": {},
   "source": [
    "**Exercício 8**: O seu exercício cinco será conferido em relação a padronização do código SQL. Caso tudo esteja ok, você ganhará meio ponto!\n",
    "\n",
    "Cole a melhor versão da sua resposta do ex 5 onde indicado logo abaixo. Faça isto mesmo que não tenha passado nos testes!\n",
    "\n",
    "A conferência levará em conta:\n",
    "- Se a query está formatada:\n",
    "    - Padrão de maiúsculas e minúsculas\n",
    "    - Tabulações e quebras de linhas, sem linhas muito longas\n",
    "- Se utiliza *alias* nas tabelas."
   ]
  },
  {
   "cell_type": "markdown",
   "id": "9ae2c174",
   "metadata": {
    "scrolled": true
   },
   "source": [
    "```sql\n",
    "-- Dê dois cliques AQUI!\n",
    "-- Cole a melhor versão da sua query do Ex 5, mesmo que não esteja completamente correta!\n",
    "\n",
    "SELECT\n",
    "    ods.ordem_id AS ordem_id,\n",
    "    st.nome,\n",
    "    COUNT(peut.ordem_id) qt_unitaria_peca,\n",
    "    SUM(peut.preco) AS valor_total_peca,\n",
    "    COUNT(sere.ordem_id) AS qt_unitaria_servico,\n",
    "    SUM(sere.preco) AS valor_total_servico\n",
    "FROM\n",
    "    ordem_de_servico ods\n",
    "LEFT JOIN\n",
    "    status st ON ods.status_id = st.status_id\n",
    "LEFT JOIN\n",
    "    peca_utilizada peut ON ods.ordem_id = peut.ordem_id\n",
    "LEFT JOIN\n",
    "    servico_realizado sere ON ods.ordem_id = sere.ordem_id\n",
    "GROUP BY\n",
    "    ods.ordem_id,\n",
    "    st.nome\n",
    "HAVING\n",
    "    valor_total_servico >= 200 AND valor_total_servico <= 410\n",
    "ORDER BY\n",
    "    valor_total_servico DESC, ordem_id ASC\n",
    "```"
   ]
  },
  {
   "cell_type": "markdown",
   "id": "8acfd788",
   "metadata": {},
   "source": [
    "## Parte 2 - Compartilhamento de Caronas\n",
    "\n",
    "Você foi contratado pelo Insper para atuar na área de mobilidade urbana. Você deve desenvolver um sistema de compartilhamento de caronas para facilitar o deslocamento dos usuários na cidade, reduzindo o tráfego e contribuindo para a sustentabilidade.\n",
    "\n",
    "Em conversas com a empresa, você levantou as seguintes informações sobre o domínio de negócio:\n",
    "\n",
    "- Deve ser possível cadastrar usuários e veículos.\n",
    "- Os passageiros e motoristas (usuários) podem ser alunos, professores ou funcionários do Insper. É necessário manter um cadastro dos passageiros, indicando sua afiliação com a universidade.\n",
    "- Um veículo pode ser dirigido por mais de um usuário (ex: veículo compartilhado por pais e irmãos).\n",
    "- Os usuários podem oferecer caronas ou solicitar caronas.\n",
    "- Cada carona possui uma data e um horário de partida, uma origem e um destino dentro da cidade de São Paulo.\n",
    "- Para cada carona, é necessário registrar o motorista responsável pela oferta da carona e o veículo a ser utilizado.\n",
    "- Os usuários podem ser motoristas em algumas caronas e passageiros em outras.\n",
    "- Um usuário pode oferecer várias caronas.\n",
    "- Uma carona pode ter vagas para vários usuários (o oferecedor da carona define o limite).\n",
    "- Além disso, é importante poder identificar os passageiros que irão utilizar as caronas.\n",
    "\n",
    "A empresa deseja implementar um sistema digital para facilitar o compartilhamento de caronas, permitindo que os usuários possam oferecer e solicitar caronas de forma eficiente."
   ]
  },
  {
   "cell_type": "markdown",
   "id": "87a72d7f",
   "metadata": {},
   "source": [
    "**Exercício 9**: Desenhe o diagrama do modelo relacional com uma solução para o problema. Não esqueça de indicar claramente os tipos, chaves primárias, chaves estrangeiras, e a cardinalidade dos relacionamentos.\n",
    "\n",
    "**Obs:** Salve a imagem do diagrama na pasta `img`. Edite na resposta o caminho para a imagem!"
   ]
  },
  {
   "cell_type": "markdown",
   "id": "f20e9048",
   "metadata": {},
   "source": [
    "<div class=\"alert alert-success\">\n",
    "    \n",
    "Edite na resposta o caminho para a imagem!\n",
    "    \n",
    "<img src=\"img/diagrama_ex9_2.png\">\n",
    "\n",
    "</div>"
   ]
  },
  {
   "cell_type": "markdown",
   "id": "a795d1da",
   "metadata": {},
   "source": [
    "**Opcional**: caso julgue necessário, utilize o bloco abaixo para justificar decisões tomadas no desenho do diagrama."
   ]
  },
  {
   "cell_type": "markdown",
   "id": "59ec78d3",
   "metadata": {},
   "source": [
    "<div class=\"alert alert-success\">\n",
    "    \n",
    "Foi feita uma conexão n-m do motorista com passageiro pois o passageiro pode ser tanto um passageiro como um motorista, portanto isso garante que pode ser verdade.\n",
    "\n",
    "</div>"
   ]
  },
  {
   "cell_type": "markdown",
   "id": "b0fb57a5",
   "metadata": {},
   "source": [
    "**Exercício 10**: Discorra sobre armazenamento informações como senhas em tabelas de bancos de dados.\n",
    "\n",
    "Esta questão será corrigida considerando a seguinte subrica:\n",
    "| Conceito | Nota | Descrição                                                                                                                                               |\n",
    "|:----------:|----------:|:---------------------------------------------------------------------------------------------------------------------------------------------------------|\n",
    "| I        | 0.0 |Apenas citou o assunto ou alguns fatos sem explicações                                                                                                  |\n",
    "| D        | 0.3 |Explicou superficialmente o assunto ou fatos mas sem muitos detalhes conclusivos                                                                        |\n",
    "| C        | 0.6 |Explicou com detalhes, apresentando definições concretas.                                                                                               |\n",
    "| B        | 0.8 |Explicou com detalhes, apresentando definições concretas e exemplos de uso.                                                                            |\n",
    "| A        | 1.0 |Explicou com detalhes, apresentando definições concretas, exemplos de uso e ainda outros tópicos correlatos, fazendo uma conexão lógica entre eles. |"
   ]
  },
  {
   "cell_type": "markdown",
   "id": "f3b863f4",
   "metadata": {},
   "source": [
    "<div class=\"alert alert-success\">\n",
    "\n",
    "Armazenamento de senhas em uma base de dados é algo necessario para a construção de um serviço que irá utilizar contas de login por exemplo. para que otras pessoas não tenham acesso a conta de um individuo, existe a implementação de senha, onde apenas o usuário que saberá daquela senha tem acesso a conta. A aplicação de senha é interessante para que não há vazamento de dados ou modificação do que o usuário tem por pessoas mal intencionadas. Senha é algo sensível, portanto quanto mais seguraça, melhor, por isso no caso que a senha dos usuários está guardado em uma base de dados, é importante que ela fique anonima mesmo para quem está manipulando ela. Por isso utiliza-se o SHA2. o SHA2, tambem conhecido como hash SHA-256 é uma forma de encryption onde ele pega o texto e com uma chave cria uma senha ou texto encriptado onde apenas a pessoa ou sistema que tem aquela chave consegue interpretar ele (brute force não é possível pela quantidade de possibilidades, iria demorar centenas de anos para decifrar). Juntando o SHA2 com limitação de permissões de pessoas com acesso a base, isso vai garantir que a senhora fique segura contra invasões a base de dados ou de pessoas internas que queiram acessar ela. Você pode dar apenas permissões necessárias para as pessoas com acesso a base, portanto, criando um filtro de acesso de funcionarios por exemplo que esta na base de dados que ele não consiga abrir a tabela com as senhas, voce deixa mais seguro tambem, já que a pessoa não iria conseguir fazer a engenharia reversa do SHA2.\n",
    "\n",
    "</div>"
   ]
  },
  {
   "cell_type": "markdown",
   "id": "cc63d0f3",
   "metadata": {},
   "source": [
    "## Entrega!\n",
    "\n",
    "É hora de entregar. Faça um **zip** do notebook + imagens chamado `ai_megadados.zip` e submeta no Blackboard!\n",
    "\n",
    "**Obs**:\n",
    "- `zip`, não use `rar`!\n",
    "- Não precisa entregar os scripts fornecidos pelo professor (pasta scripts)"
   ]
  }
 ],
 "metadata": {
  "kernelspec": {
   "display_name": "Python 3 (ipykernel)",
   "language": "python",
   "name": "python3"
  },
  "language_info": {
   "codemirror_mode": {
    "name": "ipython",
    "version": 3
   },
   "file_extension": ".py",
   "mimetype": "text/x-python",
   "name": "python",
   "nbconvert_exporter": "python",
   "pygments_lexer": "ipython3",
   "version": "3.12.2"
  }
 },
 "nbformat": 4,
 "nbformat_minor": 5
}
