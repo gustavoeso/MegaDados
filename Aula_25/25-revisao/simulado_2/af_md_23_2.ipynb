{
 "cells": [
  {
   "cell_type": "markdown",
   "id": "f62ded59",
   "metadata": {},
   "source": [
    "# AF de MEGADADOS\n",
    "\n",
    "A prova tem duração de **2h30**. Veja mais informações no Blackboard!\n",
    "\n",
    "Não se esqueça de **anexar o notebook** no **Blackboard** ao final da prova. Deixe as células **executadas**!"
   ]
  },
  {
   "cell_type": "markdown",
   "id": "ee1fa31d",
   "metadata": {},
   "source": [
    "**NOME**: Gustavo E. S. Oliveira"
   ]
  },
  {
   "cell_type": "markdown",
   "id": "5244ce30",
   "metadata": {},
   "source": [
    "## Insper autograding!\n",
    "\n",
    "Para receber feedback dos exercício, iremos utilizar o `insper autograding`.\n",
    "\n",
    "**Importante**: você precisará do `.env`, utilize o mesmo procedimento feito na aula de **Spark**!"
   ]
  },
  {
   "cell_type": "code",
   "execution_count": 1,
   "id": "46762e1a-ab06-4efb-8d2f-896c3c56d7e5",
   "metadata": {},
   "outputs": [
    {
     "name": "stdout",
     "output_type": "stream",
     "text": [
      "Collecting git+https://github.com/macielcalebe/insperautograding.git\n",
      "  Cloning https://github.com/macielcalebe/insperautograding.git to /tmp/pip-req-build-y5sr43dh\n",
      "  Running command git clone --filter=blob:none --quiet https://github.com/macielcalebe/insperautograding.git /tmp/pip-req-build-y5sr43dh\n",
      "  Resolved https://github.com/macielcalebe/insperautograding.git to commit acdda51152774d9e1a979b426e41daa7a8a7793c\n",
      "  Preparing metadata (setup.py) ... \u001b[?25ldone\n",
      "\u001b[?25hRequirement already satisfied: python-dotenv in /opt/conda/lib/python3.11/site-packages (from insperautograder==0.2.0) (1.0.1)\n",
      "Requirement already satisfied: requests in /opt/conda/lib/python3.11/site-packages (from insperautograder==0.2.0) (2.31.0)\n",
      "Requirement already satisfied: ipython in /opt/conda/lib/python3.11/site-packages (from insperautograder==0.2.0) (8.16.1)\n",
      "Requirement already satisfied: ipywidgets in /opt/conda/lib/python3.11/site-packages (from insperautograder==0.2.0) (8.1.1)\n",
      "Requirement already satisfied: backcall in /opt/conda/lib/python3.11/site-packages (from ipython->insperautograder==0.2.0) (0.2.0)\n",
      "Requirement already satisfied: decorator in /opt/conda/lib/python3.11/site-packages (from ipython->insperautograder==0.2.0) (5.1.1)\n",
      "Requirement already satisfied: jedi>=0.16 in /opt/conda/lib/python3.11/site-packages (from ipython->insperautograder==0.2.0) (0.19.1)\n",
      "Requirement already satisfied: matplotlib-inline in /opt/conda/lib/python3.11/site-packages (from ipython->insperautograder==0.2.0) (0.1.6)\n",
      "Requirement already satisfied: pickleshare in /opt/conda/lib/python3.11/site-packages (from ipython->insperautograder==0.2.0) (0.7.5)\n",
      "Requirement already satisfied: prompt-toolkit!=3.0.37,<3.1.0,>=3.0.30 in /opt/conda/lib/python3.11/site-packages (from ipython->insperautograder==0.2.0) (3.0.39)\n",
      "Requirement already satisfied: pygments>=2.4.0 in /opt/conda/lib/python3.11/site-packages (from ipython->insperautograder==0.2.0) (2.16.1)\n",
      "Requirement already satisfied: stack-data in /opt/conda/lib/python3.11/site-packages (from ipython->insperautograder==0.2.0) (0.6.2)\n",
      "Requirement already satisfied: traitlets>=5 in /opt/conda/lib/python3.11/site-packages (from ipython->insperautograder==0.2.0) (5.11.2)\n",
      "Requirement already satisfied: pexpect>4.3 in /opt/conda/lib/python3.11/site-packages (from ipython->insperautograder==0.2.0) (4.8.0)\n",
      "Requirement already satisfied: comm>=0.1.3 in /opt/conda/lib/python3.11/site-packages (from ipywidgets->insperautograder==0.2.0) (0.1.4)\n",
      "Requirement already satisfied: widgetsnbextension~=4.0.9 in /opt/conda/lib/python3.11/site-packages (from ipywidgets->insperautograder==0.2.0) (4.0.9)\n",
      "Requirement already satisfied: jupyterlab-widgets~=3.0.9 in /opt/conda/lib/python3.11/site-packages (from ipywidgets->insperautograder==0.2.0) (3.0.9)\n",
      "Requirement already satisfied: charset-normalizer<4,>=2 in /opt/conda/lib/python3.11/site-packages (from requests->insperautograder==0.2.0) (3.3.0)\n",
      "Requirement already satisfied: idna<4,>=2.5 in /opt/conda/lib/python3.11/site-packages (from requests->insperautograder==0.2.0) (3.4)\n",
      "Requirement already satisfied: urllib3<3,>=1.21.1 in /opt/conda/lib/python3.11/site-packages (from requests->insperautograder==0.2.0) (2.0.7)\n",
      "Requirement already satisfied: certifi>=2017.4.17 in /opt/conda/lib/python3.11/site-packages (from requests->insperautograder==0.2.0) (2023.7.22)\n",
      "Requirement already satisfied: parso<0.9.0,>=0.8.3 in /opt/conda/lib/python3.11/site-packages (from jedi>=0.16->ipython->insperautograder==0.2.0) (0.8.3)\n",
      "Requirement already satisfied: ptyprocess>=0.5 in /opt/conda/lib/python3.11/site-packages (from pexpect>4.3->ipython->insperautograder==0.2.0) (0.7.0)\n",
      "Requirement already satisfied: wcwidth in /opt/conda/lib/python3.11/site-packages (from prompt-toolkit!=3.0.37,<3.1.0,>=3.0.30->ipython->insperautograder==0.2.0) (0.2.8)\n",
      "Requirement already satisfied: executing>=1.2.0 in /opt/conda/lib/python3.11/site-packages (from stack-data->ipython->insperautograder==0.2.0) (1.2.0)\n",
      "Requirement already satisfied: asttokens>=2.1.0 in /opt/conda/lib/python3.11/site-packages (from stack-data->ipython->insperautograder==0.2.0) (2.4.0)\n",
      "Requirement already satisfied: pure-eval in /opt/conda/lib/python3.11/site-packages (from stack-data->ipython->insperautograder==0.2.0) (0.2.2)\n",
      "Requirement already satisfied: six>=1.12.0 in /opt/conda/lib/python3.11/site-packages (from asttokens>=2.1.0->stack-data->ipython->insperautograder==0.2.0) (1.16.0)\n",
      "Requirement already satisfied: mysql-connector-python in /opt/conda/lib/python3.11/site-packages (8.4.0)\n"
     ]
    }
   ],
   "source": [
    "!pip install -U git+https://github.com/macielcalebe/insperautograding.git\n",
    "!pip install mysql-connector-python"
   ]
  },
  {
   "cell_type": "markdown",
   "id": "b33a2a9b",
   "metadata": {},
   "source": [
    "## Como resolver os exercícios?\n",
    "\n",
    "Crie a base da prova em sua máquina (Exercício 1). Utilize o notebook, MySQL Workbench ou o conector para testar as queries e soluções. Quando estiver bastante certo de que a resposta está correta, faça a submissão para o servidor."
   ]
  },
  {
   "cell_type": "markdown",
   "id": "96d7f2f2-d556-4679-bad6-a426ffe68d27",
   "metadata": {},
   "source": [
    "## Base de dados\n",
    "\n",
    "Em alguns exercícios, iremos utilizar a base de dados `af_md_23_2`.\n",
    "\n",
    "Execute o script `mensagens.sql` no Workbench para criar e popular a base."
   ]
  },
  {
   "cell_type": "markdown",
   "id": "69ee33d4",
   "metadata": {},
   "source": [
    "## Import das bibliotecas\n",
    "\n",
    "Vamos realizar o import das bibliotecas."
   ]
  },
  {
   "cell_type": "code",
   "execution_count": 2,
   "id": "b2f1597a",
   "metadata": {},
   "outputs": [],
   "source": [
    "import mysql.connector\n",
    "import os\n",
    "import insperautograder.jupyter as ia\n",
    "from functools import partial\n",
    "from pyspark.sql import SparkSession\n",
    "from dotenv import load_dotenv"
   ]
  },
  {
   "cell_type": "markdown",
   "id": "33eefa0d",
   "metadata": {},
   "source": [
    "E vamos criar nosso HELPER de conexão com o banco! Perceba que, uma vez configurado o `.env` não precisaremos mais informar usuários, senhas e URLs!"
   ]
  },
  {
   "cell_type": "code",
   "execution_count": 3,
   "id": "f5147533",
   "metadata": {},
   "outputs": [
    {
     "ename": "DatabaseError",
     "evalue": "2003 (HY000): Can't connect to MySQL server on 'localhost:3306' (111)",
     "output_type": "error",
     "traceback": [
      "\u001b[0;31m---------------------------------------------------------------------------\u001b[0m",
      "\u001b[0;31mMySQLInterfaceError\u001b[0m                       Traceback (most recent call last)",
      "File \u001b[0;32m/opt/conda/lib/python3.11/site-packages/mysql/connector/connection_cext.py:327\u001b[0m, in \u001b[0;36mCMySQLConnection._open_connection\u001b[0;34m(self)\u001b[0m\n\u001b[1;32m    326\u001b[0m \u001b[38;5;28;01mtry\u001b[39;00m:\n\u001b[0;32m--> 327\u001b[0m     \u001b[38;5;28;43mself\u001b[39;49m\u001b[38;5;241;43m.\u001b[39;49m\u001b[43m_cmysql\u001b[49m\u001b[38;5;241;43m.\u001b[39;49m\u001b[43mconnect\u001b[49m\u001b[43m(\u001b[49m\u001b[38;5;241;43m*\u001b[39;49m\u001b[38;5;241;43m*\u001b[39;49m\u001b[43mcnx_kwargs\u001b[49m\u001b[43m)\u001b[49m\n\u001b[1;32m    328\u001b[0m     \u001b[38;5;28mself\u001b[39m\u001b[38;5;241m.\u001b[39m_cmysql\u001b[38;5;241m.\u001b[39mconverter_str_fallback \u001b[38;5;241m=\u001b[39m \u001b[38;5;28mself\u001b[39m\u001b[38;5;241m.\u001b[39m_converter_str_fallback\n",
      "\u001b[0;31mMySQLInterfaceError\u001b[0m: Can't connect to MySQL server on 'localhost:3306' (111)",
      "\nThe above exception was the direct cause of the following exception:\n",
      "\u001b[0;31mDatabaseError\u001b[0m                             Traceback (most recent call last)",
      "Cell \u001b[0;32mIn[3], line 25\u001b[0m\n\u001b[1;32m     16\u001b[0m     connection \u001b[38;5;241m=\u001b[39m mysql\u001b[38;5;241m.\u001b[39mconnector\u001b[38;5;241m.\u001b[39mconnect(\n\u001b[1;32m     17\u001b[0m         host\u001b[38;5;241m=\u001b[39mos\u001b[38;5;241m.\u001b[39mgetenv(\u001b[38;5;124m\"\u001b[39m\u001b[38;5;124mMD_DB_SERVER\u001b[39m\u001b[38;5;124m\"\u001b[39m),\n\u001b[1;32m     18\u001b[0m         user\u001b[38;5;241m=\u001b[39mos\u001b[38;5;241m.\u001b[39mgetenv(\u001b[38;5;124m\"\u001b[39m\u001b[38;5;124mMD_DB_USERNAME\u001b[39m\u001b[38;5;124m\"\u001b[39m),\n\u001b[1;32m     19\u001b[0m         password\u001b[38;5;241m=\u001b[39mos\u001b[38;5;241m.\u001b[39mgetenv(\u001b[38;5;124m\"\u001b[39m\u001b[38;5;124mMD_DB_PASSWORD\u001b[39m\u001b[38;5;124m\"\u001b[39m),\n\u001b[1;32m     20\u001b[0m         database\u001b[38;5;241m=\u001b[39mdatabase,\n\u001b[1;32m     21\u001b[0m     )\n\u001b[1;32m     22\u001b[0m     \u001b[38;5;28;01mreturn\u001b[39;00m connection, partial(run_db_query, connection)\n\u001b[0;32m---> 25\u001b[0m connection, db \u001b[38;5;241m=\u001b[39m \u001b[43mget_connection_helper\u001b[49m\u001b[43m(\u001b[49m\u001b[38;5;124;43m\"\u001b[39;49m\u001b[38;5;124;43maf_md_23_2\u001b[39;49m\u001b[38;5;124;43m\"\u001b[39;49m\u001b[43m)\u001b[49m\n",
      "Cell \u001b[0;32mIn[3], line 16\u001b[0m, in \u001b[0;36mget_connection_helper\u001b[0;34m(database)\u001b[0m\n\u001b[1;32m     13\u001b[0m             \u001b[38;5;28;01melse\u001b[39;00m:\n\u001b[1;32m     14\u001b[0m                 \u001b[38;5;28mprint\u001b[39m(\u001b[38;5;124mf\u001b[39m\u001b[38;5;124m\"\u001b[39m\u001b[38;5;124mQuery \u001b[39m\u001b[38;5;132;01m{\u001b[39;00mi\u001b[38;5;132;01m}\u001b[39;00m\u001b[38;5;124m executada!\u001b[39m\u001b[38;5;124m\"\u001b[39m)\n\u001b[0;32m---> 16\u001b[0m connection \u001b[38;5;241m=\u001b[39m \u001b[43mmysql\u001b[49m\u001b[38;5;241;43m.\u001b[39;49m\u001b[43mconnector\u001b[49m\u001b[38;5;241;43m.\u001b[39;49m\u001b[43mconnect\u001b[49m\u001b[43m(\u001b[49m\n\u001b[1;32m     17\u001b[0m \u001b[43m    \u001b[49m\u001b[43mhost\u001b[49m\u001b[38;5;241;43m=\u001b[39;49m\u001b[43mos\u001b[49m\u001b[38;5;241;43m.\u001b[39;49m\u001b[43mgetenv\u001b[49m\u001b[43m(\u001b[49m\u001b[38;5;124;43m\"\u001b[39;49m\u001b[38;5;124;43mMD_DB_SERVER\u001b[39;49m\u001b[38;5;124;43m\"\u001b[39;49m\u001b[43m)\u001b[49m\u001b[43m,\u001b[49m\n\u001b[1;32m     18\u001b[0m \u001b[43m    \u001b[49m\u001b[43muser\u001b[49m\u001b[38;5;241;43m=\u001b[39;49m\u001b[43mos\u001b[49m\u001b[38;5;241;43m.\u001b[39;49m\u001b[43mgetenv\u001b[49m\u001b[43m(\u001b[49m\u001b[38;5;124;43m\"\u001b[39;49m\u001b[38;5;124;43mMD_DB_USERNAME\u001b[39;49m\u001b[38;5;124;43m\"\u001b[39;49m\u001b[43m)\u001b[49m\u001b[43m,\u001b[49m\n\u001b[1;32m     19\u001b[0m \u001b[43m    \u001b[49m\u001b[43mpassword\u001b[49m\u001b[38;5;241;43m=\u001b[39;49m\u001b[43mos\u001b[49m\u001b[38;5;241;43m.\u001b[39;49m\u001b[43mgetenv\u001b[49m\u001b[43m(\u001b[49m\u001b[38;5;124;43m\"\u001b[39;49m\u001b[38;5;124;43mMD_DB_PASSWORD\u001b[39;49m\u001b[38;5;124;43m\"\u001b[39;49m\u001b[43m)\u001b[49m\u001b[43m,\u001b[49m\n\u001b[1;32m     20\u001b[0m \u001b[43m    \u001b[49m\u001b[43mdatabase\u001b[49m\u001b[38;5;241;43m=\u001b[39;49m\u001b[43mdatabase\u001b[49m\u001b[43m,\u001b[49m\n\u001b[1;32m     21\u001b[0m \u001b[43m\u001b[49m\u001b[43m)\u001b[49m\n\u001b[1;32m     22\u001b[0m \u001b[38;5;28;01mreturn\u001b[39;00m connection, partial(run_db_query, connection)\n",
      "File \u001b[0;32m/opt/conda/lib/python3.11/site-packages/mysql/connector/pooling.py:322\u001b[0m, in \u001b[0;36mconnect\u001b[0;34m(*args, **kwargs)\u001b[0m\n\u001b[1;32m    319\u001b[0m         \u001b[38;5;28;01mraise\u001b[39;00m \u001b[38;5;167;01mImportError\u001b[39;00m(ERROR_NO_CEXT)\n\u001b[1;32m    321\u001b[0m \u001b[38;5;28;01mif\u001b[39;00m CMySQLConnection \u001b[38;5;129;01mand\u001b[39;00m \u001b[38;5;129;01mnot\u001b[39;00m use_pure:\n\u001b[0;32m--> 322\u001b[0m     \u001b[38;5;28;01mreturn\u001b[39;00m \u001b[43mCMySQLConnection\u001b[49m\u001b[43m(\u001b[49m\u001b[38;5;241;43m*\u001b[39;49m\u001b[43margs\u001b[49m\u001b[43m,\u001b[49m\u001b[43m \u001b[49m\u001b[38;5;241;43m*\u001b[39;49m\u001b[38;5;241;43m*\u001b[39;49m\u001b[43mkwargs\u001b[49m\u001b[43m)\u001b[49m\n\u001b[1;32m    323\u001b[0m \u001b[38;5;28;01mreturn\u001b[39;00m MySQLConnection(\u001b[38;5;241m*\u001b[39margs, \u001b[38;5;241m*\u001b[39m\u001b[38;5;241m*\u001b[39mkwargs)\n",
      "File \u001b[0;32m/opt/conda/lib/python3.11/site-packages/mysql/connector/connection_cext.py:144\u001b[0m, in \u001b[0;36mCMySQLConnection.__init__\u001b[0;34m(self, **kwargs)\u001b[0m\n\u001b[1;32m    142\u001b[0m \u001b[38;5;28;01mif\u001b[39;00m kwargs:\n\u001b[1;32m    143\u001b[0m     \u001b[38;5;28;01mtry\u001b[39;00m:\n\u001b[0;32m--> 144\u001b[0m         \u001b[38;5;28;43mself\u001b[39;49m\u001b[38;5;241;43m.\u001b[39;49m\u001b[43mconnect\u001b[49m\u001b[43m(\u001b[49m\u001b[38;5;241;43m*\u001b[39;49m\u001b[38;5;241;43m*\u001b[39;49m\u001b[43mkwargs\u001b[49m\u001b[43m)\u001b[49m\n\u001b[1;32m    145\u001b[0m     \u001b[38;5;28;01mexcept\u001b[39;00m \u001b[38;5;167;01mException\u001b[39;00m:\n\u001b[1;32m    146\u001b[0m         \u001b[38;5;28mself\u001b[39m\u001b[38;5;241m.\u001b[39mclose()\n",
      "File \u001b[0;32m/opt/conda/lib/python3.11/site-packages/mysql/connector/abstracts.py:1360\u001b[0m, in \u001b[0;36mMySQLConnectionAbstract.connect\u001b[0;34m(self, **kwargs)\u001b[0m\n\u001b[1;32m   1357\u001b[0m     \u001b[38;5;28mself\u001b[39m\u001b[38;5;241m.\u001b[39mconfig(\u001b[38;5;241m*\u001b[39m\u001b[38;5;241m*\u001b[39mkwargs)\n\u001b[1;32m   1359\u001b[0m \u001b[38;5;28mself\u001b[39m\u001b[38;5;241m.\u001b[39mdisconnect()\n\u001b[0;32m-> 1360\u001b[0m \u001b[38;5;28;43mself\u001b[39;49m\u001b[38;5;241;43m.\u001b[39;49m\u001b[43m_open_connection\u001b[49m\u001b[43m(\u001b[49m\u001b[43m)\u001b[49m\n\u001b[1;32m   1362\u001b[0m charset, collation \u001b[38;5;241m=\u001b[39m (\n\u001b[1;32m   1363\u001b[0m     kwargs\u001b[38;5;241m.\u001b[39mpop(\u001b[38;5;124m\"\u001b[39m\u001b[38;5;124mcharset\u001b[39m\u001b[38;5;124m\"\u001b[39m, \u001b[38;5;28;01mNone\u001b[39;00m),\n\u001b[1;32m   1364\u001b[0m     kwargs\u001b[38;5;241m.\u001b[39mpop(\u001b[38;5;124m\"\u001b[39m\u001b[38;5;124mcollation\u001b[39m\u001b[38;5;124m\"\u001b[39m, \u001b[38;5;28;01mNone\u001b[39;00m),\n\u001b[1;32m   1365\u001b[0m )\n\u001b[1;32m   1366\u001b[0m \u001b[38;5;28;01mif\u001b[39;00m charset \u001b[38;5;129;01mor\u001b[39;00m collation:\n",
      "File \u001b[0;32m/opt/conda/lib/python3.11/site-packages/mysql/connector/connection_cext.py:332\u001b[0m, in \u001b[0;36mCMySQLConnection._open_connection\u001b[0;34m(self)\u001b[0m\n\u001b[1;32m    330\u001b[0m         \u001b[38;5;28mself\u001b[39m\u001b[38;5;241m.\u001b[39mconverter\u001b[38;5;241m.\u001b[39mstr_fallback \u001b[38;5;241m=\u001b[39m \u001b[38;5;28mself\u001b[39m\u001b[38;5;241m.\u001b[39m_converter_str_fallback\n\u001b[1;32m    331\u001b[0m \u001b[38;5;28;01mexcept\u001b[39;00m MySQLInterfaceError \u001b[38;5;28;01mas\u001b[39;00m err:\n\u001b[0;32m--> 332\u001b[0m     \u001b[38;5;28;01mraise\u001b[39;00m get_mysql_exception(\n\u001b[1;32m    333\u001b[0m         msg\u001b[38;5;241m=\u001b[39merr\u001b[38;5;241m.\u001b[39mmsg, errno\u001b[38;5;241m=\u001b[39merr\u001b[38;5;241m.\u001b[39merrno, sqlstate\u001b[38;5;241m=\u001b[39merr\u001b[38;5;241m.\u001b[39msqlstate\n\u001b[1;32m    334\u001b[0m     ) \u001b[38;5;28;01mfrom\u001b[39;00m \u001b[38;5;21;01merr\u001b[39;00m\n\u001b[1;32m    336\u001b[0m \u001b[38;5;28mself\u001b[39m\u001b[38;5;241m.\u001b[39m_do_handshake()\n\u001b[1;32m    338\u001b[0m \u001b[38;5;28;01mif\u001b[39;00m (\n\u001b[1;32m    339\u001b[0m     \u001b[38;5;129;01mnot\u001b[39;00m \u001b[38;5;28mself\u001b[39m\u001b[38;5;241m.\u001b[39m_ssl_disabled\n\u001b[1;32m    340\u001b[0m     \u001b[38;5;129;01mand\u001b[39;00m \u001b[38;5;28mhasattr\u001b[39m(\u001b[38;5;28mself\u001b[39m\u001b[38;5;241m.\u001b[39m_cmysql, \u001b[38;5;124m\"\u001b[39m\u001b[38;5;124mget_ssl_cipher\u001b[39m\u001b[38;5;124m\"\u001b[39m)\n\u001b[0;32m   (...)\u001b[0m\n\u001b[1;32m    345\u001b[0m \n\u001b[1;32m    346\u001b[0m     \u001b[38;5;66;03m# `get_ssl_cipher()` returns the name of the cipher being used.\u001b[39;00m\n",
      "\u001b[0;31mDatabaseError\u001b[0m: 2003 (HY000): Can't connect to MySQL server on 'localhost:3306' (111)"
     ]
    }
   ],
   "source": [
    "load_dotenv(override=True)\n",
    "\n",
    "def get_connection_helper(database):\n",
    "\n",
    "    def run_db_query(connection, query, args=None):\n",
    "        with connection.cursor() as cursor:\n",
    "            results = cursor.execute(query, args, multi=True)\n",
    "            for i, result in enumerate(results):\n",
    "                if result.with_rows:\n",
    "                    print(f\"Resultado query {i}:\")\n",
    "                    for line in result.fetchall():\n",
    "                        print(line)\n",
    "                else:\n",
    "                    print(f\"Query {i} executada!\")\n",
    "\n",
    "    connection = mysql.connector.connect(\n",
    "        host=os.getenv(\"MD_DB_SERVER\"),\n",
    "        user=os.getenv(\"MD_DB_USERNAME\"),\n",
    "        password=os.getenv(\"MD_DB_PASSWORD\"),\n",
    "        database=database,\n",
    "    )\n",
    "    return connection, partial(run_db_query, connection)\n",
    "\n",
    "\n",
    "connection, db = get_connection_helper(\"af_md_23_2\")"
   ]
  },
  {
   "cell_type": "code",
   "execution_count": 4,
   "id": "fbd412e5-b41e-4e7f-977c-7c0493c7020f",
   "metadata": {},
   "outputs": [],
   "source": [
    "spark = SparkSession.builder.appName(\"MinhaAplicacao\").getOrCreate()\n",
    "sc = spark.sparkContext"
   ]
  },
  {
   "cell_type": "markdown",
   "id": "86e481dc",
   "metadata": {},
   "source": [
    "### Notas\n",
    "\n",
    "As primeiras cinco questões, que possuem correção automática, valem 60% da nota da prova.\n",
    "\n",
    "Na API de correção automática a nota de cada questão será ponderada pelo seu peso. A nota será apresentada no intervalo 0 a 10, multiplique por 0.6 para saber a nota final considerando toda a prova.\n",
    "\n",
    "Para conferir a nota da correção automática da prova, utilize:"
   ]
  },
  {
   "cell_type": "code",
   "execution_count": 5,
   "id": "9d0c9a82",
   "metadata": {},
   "outputs": [
    {
     "data": {
      "text/markdown": [
       "Defina os argumentos `subject` e `offering`!"
      ],
      "text/plain": [
       "<IPython.core.display.Markdown object>"
      ]
     },
     "metadata": {},
     "output_type": "display_data"
    }
   ],
   "source": [
    "ia.grades(task=\"af_md_23_2\")"
   ]
  },
  {
   "cell_type": "code",
   "execution_count": 6,
   "id": "088634f3",
   "metadata": {},
   "outputs": [
    {
     "data": {
      "text/markdown": [
       "Defina os argumentos `subject` e `offering`!"
      ],
      "text/plain": [
       "<IPython.core.display.Markdown object>"
      ]
     },
     "metadata": {},
     "output_type": "display_data"
    }
   ],
   "source": [
    "ia.grades(by=\"TASK\", task=\"af_md_23_2\")"
   ]
  },
  {
   "cell_type": "markdown",
   "id": "f72f6b92-87dc-4151-9f9b-1fb0e33e2174",
   "metadata": {},
   "source": [
    "**Exercício 1**:\n",
    "\n",
    "O arquivo `timestamps.txt` contém uma lista de timestamps indicando quando foram feitos acessos a um sistema, um por linha. Cada timestamp é uma string no formato `YYYY-MM-DD HH:MM:SS`. Escreva uma função em Spark que recebe um rdd e um ano (nesta ordem) e retorna quantos acessos houveram em um determinado ano."
   ]
  },
  {
   "cell_type": "code",
   "execution_count": 39,
   "id": "6ac26d97-8b4c-4d42-a708-857d1a16a5b2",
   "metadata": {},
   "outputs": [
    {
     "name": "stdout",
     "output_type": "stream",
     "text": [
      "24985\n",
      "25022\n"
     ]
    }
   ],
   "source": [
    "def total_acessos(rdd, ano):\n",
    "    filtro = rdd.filter(lambda x: ano in x)\n",
    "    qtd = filtro.count()\n",
    "    return qtd\n",
    "\n",
    "rdd = sc.textFile(\"timestamps.txt\")\n",
    "\n",
    "print(total_acessos(rdd, \"2022\"))\n",
    "print(total_acessos(rdd, \"2023\"))"
   ]
  },
  {
   "cell_type": "markdown",
   "id": "b7501386-fd97-49e3-bd37-4887a0ec42ea",
   "metadata": {},
   "source": [
    "Após testar localmente e considerar sua solução correta, faça o envio clicando no botão abaixo!"
   ]
  },
  {
   "cell_type": "code",
   "execution_count": 50,
   "id": "b21dc20f-d45b-44db-9db7-2a0af0c31f4a",
   "metadata": {},
   "outputs": [
    {
     "data": {
      "application/vnd.jupyter.widget-view+json": {
       "model_id": "5b87f1422b1c4d99a159b61a9b0e06ec",
       "version_major": 2,
       "version_minor": 0
      },
      "text/plain": [
       "interactive(children=(Button(description='Enviar ex01spark', style=ButtonStyle()), Output()), _dom_classes=('w…"
      ]
     },
     "execution_count": 50,
     "metadata": {},
     "output_type": "execute_result"
    }
   ],
   "source": [
    "ia.sender(answer=\"total_acessos\", task=\"af_md_23_2\", question=\"ex01spark\", answer_type=\"pycode\")"
   ]
  },
  {
   "cell_type": "markdown",
   "id": "5f98e18c-e1e5-4b78-a503-03e2395f9292",
   "metadata": {},
   "source": [
    "**Exercício 2**:\n",
    "\n",
    "Ainda no arquivo `timestamps.txt`, escreva uma função em Spark que recebe um rdd e retorna em ordem decrescente as 20 datas em que houveram mais acessos junto da quantidade de acessos em cada data."
   ]
  },
  {
   "cell_type": "code",
   "execution_count": 40,
   "id": "643c4c72-35a2-45c8-aa17-59ce864eb033",
   "metadata": {},
   "outputs": [
    {
     "data": {
      "text/plain": [
       "[('2021-12-15', 161),\n",
       " ('2022-10-09', 154),\n",
       " ('2020-07-13', 151),\n",
       " ('2021-10-05', 150),\n",
       " ('2021-10-29', 149),\n",
       " ('2020-09-11', 148),\n",
       " ('2023-07-02', 148),\n",
       " ('2022-10-25', 148),\n",
       " ('2020-09-26', 147),\n",
       " ('2020-07-01', 147),\n",
       " ('2021-08-15', 147),\n",
       " ('2021-06-17', 145),\n",
       " ('2022-06-23', 144),\n",
       " ('2021-09-24', 144),\n",
       " ('2023-07-23', 143),\n",
       " ('2022-09-17', 143),\n",
       " ('2020-12-26', 143),\n",
       " ('2021-08-03', 142),\n",
       " ('2021-11-25', 142),\n",
       " ('2022-07-02', 142)]"
      ]
     },
     "execution_count": 40,
     "metadata": {},
     "output_type": "execute_result"
    }
   ],
   "source": [
    "def top20(rdd):\n",
    "    # Passo 1: Mapear cada timestamp para uma tupla (data, 1)\n",
    "    data_acesso_pairs = rdd.map(lambda x: (x.split(\" \")[0], 1))\n",
    "    \n",
    "    # Passo 2: Reduzir por chave (data) para contar o número de acessos por data\n",
    "    acessos_por_data = data_acesso_pairs.reduceByKey(lambda a, b: a + b)\n",
    "    \n",
    "    # Passo 3: Ordenar os resultados pela contagem de acessos em ordem decrescente\n",
    "    acessos_ordenados = acessos_por_data.sortBy(lambda x: x[1], ascending=False)\n",
    "    \n",
    "    # Passo 4: Pegar as top 20 datas com mais acessos\n",
    "    top_20 = acessos_ordenados.take(20)\n",
    "    \n",
    "    return top_20\n",
    "\n",
    "top20(rdd)"
   ]
  },
  {
   "cell_type": "markdown",
   "id": "294e1c42-b9e5-4a8d-a19b-ce06f8904836",
   "metadata": {},
   "source": [
    "Após testar localmente e considerar sua solução correta, faça o envio clicando no botão abaixo!"
   ]
  },
  {
   "cell_type": "code",
   "execution_count": null,
   "id": "f2f77c03-6331-4488-aa1c-eba78ae97c25",
   "metadata": {},
   "outputs": [],
   "source": [
    "ia.sender(answer=\"total_acessos\", task=\"af_md_23_2\", question=\"ex02spark\", answer_type=\"pycode\")"
   ]
  },
  {
   "cell_type": "markdown",
   "id": "ee16915c-4fb3-42c5-bb78-edea6a169df0",
   "metadata": {},
   "source": [
    "**Exercício 3**:\n",
    "\n",
    "Vimos na primeira parte do curso como podemos utilizar índices para acelerar a performance de *queries*. RDBMS como o MySQL suportam, inclusive, a construção de índices por múltiplas colunas.\n",
    "\n",
    "Entretanto, em certas situações, como quando são realizadas primariamente buscar por igualdade em múltiplas colunas, uma alternativa é utilizar **hashing** de índices compostos. Nesta técnica, ao invés de construir um índice composto por múltiplas colunas e realizar as consultas neste formato:\n",
    "\n",
    "```mysql\n",
    "SELECT t.res1,\n",
    "       t.res2\n",
    "FROM tabela t\n",
    "WHERE t.col1 = 'algum valor'\n",
    "  AND t.col2 = 'outro valor'\n",
    "  AND t.col3 = 'criterio de busca'\n",
    "```\n",
    "\n",
    "É construida manualmente uma coluna que contém o **hash da concatenação das colunas utilizadas na query**. Então, é criado um índice apenas na coluna que contém o hash. Assim, a *query* de consulta passa a ser, por exemplo:\n",
    "\n",
    "\n",
    "```mysql\n",
    "SELECT t.res1,\n",
    "       t.res2\n",
    "FROM tabela t\n",
    "WHERE t.coluna_hash = MD5(CONCAT('algum valor', 'outro valor', 'criterio de busca'))\n",
    "```\n",
    "\n",
    "Neste exercício, você deve construir uma *trigger* para atualizar a coluna chamada `coluna_hash` da tabela de `mensagens` quando ocorrer um **update** na tabela de mensagens.\n",
    "\n",
    "A tabela estará assim:\n",
    "| id | col1    | col2     | col3    | mensagem                                 |\n",
    "|----|---------|----------|---------|------------------------------------------|\n",
    "| 1  | ANA     | SILVA    | ABACATE | Oi, bom dia                              |\n",
    "| 2  | MARIA   | PEREIRA  | PERA    | Me liga quando puder                     |\n",
    "| 3  | JOSE    | FERREIRA | ABACATE | Cade vc?                                 |\n",
    "| 4  | ANTONIO | SILVA    | MACA    | Qual o status do pedido?                 |\n",
    "| 5  | CAMILA  | WOK      | PERA    | Conseguiu analisar?                      |\n",
    "| 6  | DANILO  | SCHINLE  | MACA    | Tudo certo pro jantar, vc vem?           |\n",
    "| 7  | PEDRO   | PACKEL   | BANANA  | Complicado, vai ter que conferir com ela |\n",
    "| 8  | MANOELA | NANTES   | PERA    | O lugar era lindo                        |\n",
    "| 9  | CELSO   | ALIVERRI | ABACATE | A visao eh adequada                      |\n",
    "| 10 | ELLEN   | WETLKS   | UVA     | Vamos juntos                             |\n",
    "\n",
    "Por exemplo, após criar a coluna `coluna_hash`, ao fazer um *update* no id `1`, ficará assim:\n",
    "\n",
    "| id | col1    | col2     | col3    | mensagem                                 | coluna_hash                              |\n",
    "|----|---------|----------|---------|------------------------------------------|------------------------------------------|\n",
    "| 1  | ANA     | SILVA    | UVA     | Oi, bom dia                              | 2d0b14a194488b9080e080c8a7d82ef88fddbe1e |\n",
    "| 2  | MARIA   | PEREIRA  | PERA    | Me liga quando puder                     |                                          |\n",
    "| 3  | JOSE    | FERREIRA | ABACATE | Cade vc?                                 |                                          |\n",
    "| 4  | ANTONIO | SILVA    | MACA    | Qual o status do pedido?                 |                                          |\n",
    "| 5  | CAMILA  | WOK      | PERA    | Conseguiu analisar?                      |                                          |\n",
    "| 6  | DANILO  | SCHINLE  | MACA    | Tudo certo pro jantar, vc vem?           |                                          |\n",
    "| 7  | PEDRO   | PACKEL   | BANANA  | Complicado, vai ter que conferir com ela |                                          |\n",
    "| 8  | MANOELA | NANTES   | PERA    | O lugar era lindo                        |                                          |\n",
    "| 9  | CELSO   | ALIVERRI | ABACATE | A visao eh adequada                      |                                          |\n",
    "| 10 | ELLEN   | WETLKS   | UVA     | Vamos juntos                             |                                          |\n",
    "\n",
    "**Obs**:\n",
    "- Execute o script `mensagens.sql` para construir a base de dados;\n",
    "- Faça o DDL, em seu servidor local, para criar a coluna `coluna_hash` com array `CHAR` de tamanho 40. No servidor de testes esta coluna já existe e você não deve enviar esta parte;\n",
    "- Imagine que o índice já existe na coluna de hash (não é relevante para o exercício que ele realmente exista);\n",
    "- A coluna `coluna_hash` deve ser calculada com o uso da função `SHA1` a partir da concatenação dos colunas `col1`, `col2` e `col3` (nesta ordem e sem espaçadores).\n"
   ]
  },
  {
   "cell_type": "code",
   "execution_count": 15,
   "id": "f9237653-9e99-4932-81b0-ebcfc948deaa",
   "metadata": {},
   "outputs": [
    {
     "name": "stdout",
     "output_type": "stream",
     "text": [
      "Query 0 executada!\n"
     ]
    }
   ],
   "source": [
    "sql_ex03 = \"\"\"\n",
    "CREATE TRIGGER IF NOT EXISTS atualiza_coluna_hash\n",
    "BEFORE UPDATE ON mensagens\n",
    "FOR EACH ROW\n",
    "BEGIN\n",
    "    SET NEW.coluna_hash = SHA1(CONCAT(NEW.col1, NEW.col2, NEW.col3));\n",
    "END\n",
    "\"\"\"\n",
    "\n",
    "db(sql_ex03)"
   ]
  },
  {
   "cell_type": "markdown",
   "id": "fb3e40b2-8bde-42cf-98fd-793996f20ffd",
   "metadata": {},
   "source": [
    "Após testar localmente e considerar sua solução correta, faça o envio clicando no botão abaixo!"
   ]
  },
  {
   "cell_type": "code",
   "execution_count": 16,
   "id": "829d0f91-c6a7-4e51-8cef-a3c4ad0043d5",
   "metadata": {},
   "outputs": [
    {
     "data": {
      "application/vnd.jupyter.widget-view+json": {
       "model_id": "8eb117963f3a481fa02c615fb915058f",
       "version_major": 2,
       "version_minor": 0
      },
      "text/plain": [
       "interactive(children=(Button(description='Enviar ex03trigger', style=ButtonStyle()), Output()), _dom_classes=(…"
      ]
     },
     "execution_count": 16,
     "metadata": {},
     "output_type": "execute_result"
    }
   ],
   "source": [
    "ia.sender(answer=\"sql_ex03\", task=\"af_md_23_2\", question=\"ex03trigger\", answer_type=\"pyvar\")"
   ]
  },
  {
   "cell_type": "markdown",
   "id": "286f8304-3ec5-43df-8e8a-115009a95296",
   "metadata": {},
   "source": [
    "**Exercício 04**:\n",
    "\n",
    "Considere que foi criado o usuário `u_consult` com login a partir de qualquer host.\n",
    "\n",
    "O usuário possui permissão de **LEITURA** e **INSERÇÃO** na tabela de `mensagens` utilizada no exercício anterior. Entretanto, ele não deveria poder **INSERIR** na tabela `mensagens`.\n",
    "\n",
    "Faça as atualizações, revogando as permissões não mais necessárias."
   ]
  },
  {
   "cell_type": "code",
   "execution_count": 18,
   "id": "65f91f41-7928-4e42-bf21-935117bba8e6",
   "metadata": {},
   "outputs": [
    {
     "ename": "ProgrammingError",
     "evalue": "1147 (42000): There is no such grant defined for user 'u_consult' on host '%' on table 'mensagens'",
     "output_type": "error",
     "traceback": [
      "\u001b[1;31m---------------------------------------------------------------------------\u001b[0m",
      "\u001b[1;31mProgrammingError\u001b[0m                          Traceback (most recent call last)",
      "Cell \u001b[1;32mIn[18], line 5\u001b[0m\n\u001b[0;32m      1\u001b[0m sql_ex04 \u001b[38;5;241m=\u001b[39m \u001b[38;5;124m\"\"\"\u001b[39m\n\u001b[0;32m      2\u001b[0m \u001b[38;5;124mREVOKE INSERT ON af_md_23_2.mensagens FROM \u001b[39m\u001b[38;5;124m'\u001b[39m\u001b[38;5;124mu_consult\u001b[39m\u001b[38;5;124m'\u001b[39m\u001b[38;5;124m@\u001b[39m\u001b[38;5;124m'\u001b[39m\u001b[38;5;124m%\u001b[39m\u001b[38;5;124m'\u001b[39m\n\u001b[0;32m      3\u001b[0m \u001b[38;5;124m\"\"\"\u001b[39m\n\u001b[1;32m----> 5\u001b[0m \u001b[43mdb\u001b[49m\u001b[43m(\u001b[49m\u001b[43msql_ex04\u001b[49m\u001b[43m)\u001b[49m\n",
      "Cell \u001b[1;32mIn[2], line 8\u001b[0m, in \u001b[0;36mget_connection_helper.<locals>.run_db_query\u001b[1;34m(connection, query, args)\u001b[0m\n\u001b[0;32m      6\u001b[0m \u001b[38;5;28;01mwith\u001b[39;00m connection\u001b[38;5;241m.\u001b[39mcursor() \u001b[38;5;28;01mas\u001b[39;00m cursor:\n\u001b[0;32m      7\u001b[0m     results \u001b[38;5;241m=\u001b[39m cursor\u001b[38;5;241m.\u001b[39mexecute(query, args, multi\u001b[38;5;241m=\u001b[39m\u001b[38;5;28;01mTrue\u001b[39;00m)\n\u001b[1;32m----> 8\u001b[0m \u001b[43m    \u001b[49m\u001b[38;5;28;43;01mfor\u001b[39;49;00m\u001b[43m \u001b[49m\u001b[43mi\u001b[49m\u001b[43m,\u001b[49m\u001b[43m \u001b[49m\u001b[43mresult\u001b[49m\u001b[43m \u001b[49m\u001b[38;5;129;43;01min\u001b[39;49;00m\u001b[43m \u001b[49m\u001b[38;5;28;43menumerate\u001b[39;49m\u001b[43m(\u001b[49m\u001b[43mresults\u001b[49m\u001b[43m)\u001b[49m\u001b[43m:\u001b[49m\n\u001b[0;32m      9\u001b[0m \u001b[43m        \u001b[49m\u001b[38;5;28;43;01mif\u001b[39;49;00m\u001b[43m \u001b[49m\u001b[43mresult\u001b[49m\u001b[38;5;241;43m.\u001b[39;49m\u001b[43mwith_rows\u001b[49m\u001b[43m:\u001b[49m\n\u001b[0;32m     10\u001b[0m \u001b[43m            \u001b[49m\u001b[38;5;28;43mprint\u001b[39;49m\u001b[43m(\u001b[49m\u001b[38;5;124;43mf\u001b[39;49m\u001b[38;5;124;43m\"\u001b[39;49m\u001b[38;5;124;43mResultado query \u001b[39;49m\u001b[38;5;132;43;01m{\u001b[39;49;00m\u001b[43mi\u001b[49m\u001b[38;5;132;43;01m}\u001b[39;49;00m\u001b[38;5;124;43m:\u001b[39;49m\u001b[38;5;124;43m\"\u001b[39;49m\u001b[43m)\u001b[49m\n",
      "File \u001b[1;32m~\\AppData\\Local\\Packages\\PythonSoftwareFoundation.Python.3.12_qbz5n2kfra8p0\\LocalCache\\local-packages\\Python312\\site-packages\\mysql\\connector\\cursor.py:668\u001b[0m, in \u001b[0;36mMySQLCursor._execute_iter\u001b[1;34m(self, query_iter)\u001b[0m\n\u001b[0;32m    666\u001b[0m \u001b[38;5;28mself\u001b[39m\u001b[38;5;241m.\u001b[39m_executed \u001b[38;5;241m=\u001b[39m \u001b[38;5;28;01mNone\u001b[39;00m\n\u001b[0;32m    667\u001b[0m stmt \u001b[38;5;241m=\u001b[39m executed_list\u001b[38;5;241m.\u001b[39mpopleft() \u001b[38;5;28;01mif\u001b[39;00m executed_list \u001b[38;5;28;01melse\u001b[39;00m \u001b[38;5;124mb\u001b[39m\u001b[38;5;124m\"\u001b[39m\u001b[38;5;124mstmt_overflow!\u001b[39m\u001b[38;5;124m\"\u001b[39m\n\u001b[1;32m--> 668\u001b[0m \u001b[43m\u001b[49m\u001b[38;5;28;43;01mfor\u001b[39;49;00m\u001b[43m \u001b[49m\u001b[43mresult\u001b[49m\u001b[43m \u001b[49m\u001b[38;5;129;43;01min\u001b[39;49;00m\u001b[43m \u001b[49m\u001b[43mquery_iter\u001b[49m\u001b[43m:\u001b[49m\n\u001b[0;32m    669\u001b[0m \u001b[43m    \u001b[49m\u001b[38;5;28;43mself\u001b[39;49m\u001b[38;5;241;43m.\u001b[39;49m\u001b[43m_reset_result\u001b[49m\u001b[43m(\u001b[49m\u001b[43m)\u001b[49m\n\u001b[0;32m    670\u001b[0m \u001b[43m    \u001b[49m\u001b[38;5;28;43mself\u001b[39;49m\u001b[38;5;241;43m.\u001b[39;49m\u001b[43m_handle_result\u001b[49m\u001b[43m(\u001b[49m\u001b[43mresult\u001b[49m\u001b[43m)\u001b[49m\n",
      "File \u001b[1;32m~\\AppData\\Local\\Packages\\PythonSoftwareFoundation.Python.3.12_qbz5n2kfra8p0\\LocalCache\\local-packages\\Python312\\site-packages\\mysql\\connector\\connection.py:906\u001b[0m, in \u001b[0;36mMySQLConnection.cmd_query_iter\u001b[1;34m(self, statements)\u001b[0m\n\u001b[0;32m    904\u001b[0m query \u001b[38;5;241m=\u001b[39m \u001b[38;5;28mbytes\u001b[39m(packet)\n\u001b[0;32m    905\u001b[0m \u001b[38;5;66;03m# Handle the first query result\u001b[39;00m\n\u001b[1;32m--> 906\u001b[0m \u001b[38;5;28;01myield\u001b[39;00m \u001b[38;5;28;43mself\u001b[39;49m\u001b[38;5;241;43m.\u001b[39;49m\u001b[43m_handle_result\u001b[49m\u001b[43m(\u001b[49m\u001b[38;5;28;43mself\u001b[39;49m\u001b[38;5;241;43m.\u001b[39;49m\u001b[43m_send_cmd\u001b[49m\u001b[43m(\u001b[49m\u001b[43mServerCmd\u001b[49m\u001b[38;5;241;43m.\u001b[39;49m\u001b[43mQUERY\u001b[49m\u001b[43m,\u001b[49m\u001b[43m \u001b[49m\u001b[43mquery\u001b[49m\u001b[43m)\u001b[49m\u001b[43m)\u001b[49m\n\u001b[0;32m    908\u001b[0m \u001b[38;5;66;03m# Handle next results, if any\u001b[39;00m\n\u001b[0;32m    909\u001b[0m \u001b[38;5;28;01mwhile\u001b[39;00m \u001b[38;5;28mself\u001b[39m\u001b[38;5;241m.\u001b[39m_have_next_result:\n",
      "File \u001b[1;32m~\\AppData\\Local\\Packages\\PythonSoftwareFoundation.Python.3.12_qbz5n2kfra8p0\\LocalCache\\local-packages\\Python312\\site-packages\\mysql\\connector\\connection.py:631\u001b[0m, in \u001b[0;36mMySQLConnection._handle_result\u001b[1;34m(self, packet)\u001b[0m\n\u001b[0;32m    629\u001b[0m     \u001b[38;5;28;01mreturn\u001b[39;00m \u001b[38;5;28mself\u001b[39m\u001b[38;5;241m.\u001b[39m_handle_eof(packet)\n\u001b[0;32m    630\u001b[0m \u001b[38;5;28;01mif\u001b[39;00m packet[\u001b[38;5;241m4\u001b[39m] \u001b[38;5;241m==\u001b[39m \u001b[38;5;241m255\u001b[39m:\n\u001b[1;32m--> 631\u001b[0m     \u001b[38;5;28;01mraise\u001b[39;00m get_exception(packet)\n\u001b[0;32m    633\u001b[0m \u001b[38;5;66;03m# We have a text result set\u001b[39;00m\n\u001b[0;32m    634\u001b[0m column_count \u001b[38;5;241m=\u001b[39m \u001b[38;5;28mself\u001b[39m\u001b[38;5;241m.\u001b[39m_protocol\u001b[38;5;241m.\u001b[39mparse_column_count(packet)\n",
      "\u001b[1;31mProgrammingError\u001b[0m: 1147 (42000): There is no such grant defined for user 'u_consult' on host '%' on table 'mensagens'"
     ]
    }
   ],
   "source": [
    "sql_ex04 = \"\"\"\n",
    "REVOKE INSERT ON af_md_23_2.mensagens FROM 'u_consult'@'%'\n",
    "\"\"\"\n",
    "\n",
    "db(sql_ex04)"
   ]
  },
  {
   "cell_type": "markdown",
   "id": "d1d9fbbe-9cbb-4de6-b66b-551deb80029a",
   "metadata": {},
   "source": [
    "Após testar localmente e considerar sua solução correta, faça o envio clicando no botão abaixo!"
   ]
  },
  {
   "cell_type": "code",
   "execution_count": 19,
   "id": "e5867621-6625-41ea-95ee-34585353d5aa",
   "metadata": {},
   "outputs": [
    {
     "data": {
      "application/vnd.jupyter.widget-view+json": {
       "model_id": "bb595e878bfd4924b69433236f1bf141",
       "version_major": 2,
       "version_minor": 0
      },
      "text/plain": [
       "interactive(children=(Button(description='Enviar ex04perm', style=ButtonStyle()), Output()), _dom_classes=('wi…"
      ]
     },
     "execution_count": 19,
     "metadata": {},
     "output_type": "execute_result"
    }
   ],
   "source": [
    "ia.sender(answer=\"sql_ex04\", task=\"af_md_23_2\", question=\"ex04perm\", answer_type=\"pyvar\")"
   ]
  },
  {
   "cell_type": "markdown",
   "id": "0c42d590-f6e4-45bb-b919-ac5134a43873",
   "metadata": {},
   "source": [
    "**Exercício 5**:\n",
    "\n",
    "Um pesquisador irá analisar parte dos dados de um projeto científico para identificação de exoplanetas.\n",
    "\n",
    "Os dados do projeto são armazenados em um servidor com quatro HDs de 10TB configurados em RAID 5.\n",
    "\n",
    "Durante o projeto, surgiram questões como:\n",
    "\n",
    "*\"Considerando que são recebidos 14 GB por semana, quantos dias serão necessários para que se atinja 75% da capacidade disponível para armazenamento no servidor?\"*\n",
    "\n",
    "Para responder questões como esta rapidamente, você deve construir uma função `calc_dias_armazenamento` em python que recebe, nesta ordem:\n",
    "\n",
    "- `tb_por_hd`: quantidade de terabytes de cada um dos quatro HDs;\n",
    "- `gb_semana`: quantidade de novos dados recebidos a cada semana, em GB;\n",
    "- `perc`: capacidade percentual limite que se quer analisar. O percentual será passado no intervalo `[0.0 ... 1.0]`.\n",
    "\n",
    "Como resposta, você deve devolver a quantidade inteira de dias até que que a capacidade percentual seja atingida.\n",
    "\n",
    "**Obs**:\n",
    "- Considere o sistema internacional de unidades, ou seja, 1TB = 1000GB e 1GB=1000MB."
   ]
  },
  {
   "cell_type": "code",
   "execution_count": 46,
   "id": "187ef163-422a-4ec4-8abf-7ecae7155680",
   "metadata": {},
   "outputs": [],
   "source": [
    "def calc_dias_armazenamento(tb_por_hd, gb_semana, perc):\n",
    "    tb_total = tb_por_hd * 3\n",
    "    gb_total = tb_total * 1000\n",
    "    gb_disponivel = (gb_total*perc)\n",
    "    gb_dia = gb_semana/7\n",
    "    dias = int(gb_disponivel/gb_dia)\n",
    "    return dias"
   ]
  },
  {
   "cell_type": "code",
   "execution_count": 47,
   "id": "c850584a-0dd9-4df5-99ef-e9a1b3cc4602",
   "metadata": {},
   "outputs": [],
   "source": [
    "# Alguns testes locais\n",
    "assert calc_dias_armazenamento(10, 14000, 0.5) == 7\n",
    "assert calc_dias_armazenamento(20, 12800, 0.9) == 29"
   ]
  },
  {
   "cell_type": "markdown",
   "id": "0969701f-811d-41e5-a790-c637fac3fd07",
   "metadata": {},
   "source": [
    "Após testar localmente e considerar sua solução correta, faça o envio clicando no botão abaixo!"
   ]
  },
  {
   "cell_type": "code",
   "execution_count": 48,
   "id": "a028bd6e",
   "metadata": {
    "scrolled": true
   },
   "outputs": [
    {
     "data": {
      "application/vnd.jupyter.widget-view+json": {
       "model_id": "3fa97ea357fe4762b7b2ddc270969872",
       "version_major": 2,
       "version_minor": 0
      },
      "text/plain": [
       "interactive(children=(Button(description='Enviar ex05python', style=ButtonStyle()), Output()), _dom_classes=('…"
      ]
     },
     "execution_count": 48,
     "metadata": {},
     "output_type": "execute_result"
    }
   ],
   "source": [
    "ia.sender(answer=\"calc_dias_armazenamento\", task=\"af_md_23_2\", question=\"ex05python\", answer_type=\"pycode\")"
   ]
  },
  {
   "cell_type": "markdown",
   "id": "ebf33a4c",
   "metadata": {},
   "source": [
    "**Exercício 6**: (**Nota: 1,5**)\n",
    "\n",
    "Na atividade da próxima *sprint*, foi atribuido ao seu time de analistas de negócio a entrega de um *Dashboard* para acompanhamento dos números de vendas da empresa (vendas por região, vendas por categoria de produto, vendas por canal, etc.)\n",
    "\n",
    "Dado que isolamento é uma das propriedades fundamentais de bancos de dados relacionais e considerando que parte da especificação envolve:\n",
    "\n",
    "- O acompanhamento será feito em tempo real;\n",
    "- É ok ocorrerem imprecisões momentâneas.\n",
    "\n",
    "Justifique **qual nível de isolamento de transações** você recomendaria que fosse utilizado no projeto.\n",
    "\n",
    "Esta questão será corrigida considerando a seguinte rubrica:\n",
    "\n",
    "| Conceito | Nota | Descrição                                                                                                                                               |\n",
    "|:----------:|----------:|:---------------------------------------------------------------------------------------------------------------------------------------------------------|\n",
    "| I        | 0.0 |Apenas citou o assunto ou alguns fatos sem explicações                                                                                                  |\n",
    "| D        | 0.3 |Explicou superficialmente o assunto ou fatos mas sem muitos detalhes conclusivos                                                                        |\n",
    "| C        | 0.6 |Explicou com detalhes, apresentando definições concretas.                                                                                               |\n",
    "| B        | 0.8 |Explicou com detalhes, apresentando definições concretas e exemplos de uso.                                                                            |\n",
    "| A        | 1.0 |Explicou com detalhes, apresentando definições concretas, exemplos de uso e ainda outros tópicos correlatos, fazendo uma conexão lógica entre eles. |"
   ]
  },
  {
   "cell_type": "markdown",
   "id": "513de6bb",
   "metadata": {},
   "source": [
    "<div class=\"alert alert-success\">\n",
    "\n",
    "Para recomendar o nível de isolamento de transações para o projeto de dashboard de vendas em tempo real, é essencial entender os diferentes níveis de isolamento disponíveis em bancos de dados relacionais e como eles afetam o desempenho e a consistência dos dados. Os níveis de isolamento definidos pelo padrão SQL são:\n",
    "\n",
    "1. **Read Uncommitted**\n",
    "2. **Read Committed**\n",
    "3. **Repeatable Read**\n",
    "4. **Serializable**\n",
    "\n",
    "### Read Uncommitted\n",
    "- **Descrição:** Permite ler dados que foram modificados por outras transações, mas ainda não foram confirmados (commit). Isso pode resultar em leituras sujas (dirty reads).\n",
    "- **Vantagem:** Máxima performance devido à mínima restrição de bloqueio.\n",
    "- **Desvantagem:** Pode causar inconsistências devido a leituras de dados não confirmados.\n",
    "\n",
    "### Read Committed\n",
    "- **Descrição:** Garante que uma transação só leia dados que foram confirmados. Isso evita leituras sujas.\n",
    "- **Vantagem:** Balanceia bem a consistência dos dados com a performance.\n",
    "- **Desvantagem:** Pode causar leituras não repetíveis, onde um valor lido pode ser alterado por outra transação antes da conclusão da transação atual.\n",
    "\n",
    "### Repeatable Read\n",
    "- **Descrição:** Garante que, uma vez lidos, os dados não podem ser modificados por outras transações até que a transação atual termine. Isso evita leituras não repetíveis.\n",
    "- **Vantagem:** Oferece uma alta consistência dos dados.\n",
    "- **Desvantagem:** Pode levar a bloqueios de leitura e escrita, reduzindo a performance.\n",
    "\n",
    "### Serializable\n",
    "- **Descrição:** É o nível de isolamento mais alto, onde as transações são completamente isoladas umas das outras. Garante a serialização completa das transações.\n",
    "- **Vantagem:** Máxima consistência dos dados.\n",
    "- **Desvantagem:** Pode causar alta contenção de bloqueios, resultando em baixa performance.\n",
    "\n",
    "### Recomendação: Read Committed\n",
    "\n",
    "**Justificativa:**\n",
    "Para o projeto de dashboard de vendas em tempo real, a prioridade é fornecer dados atualizados de forma rápida e eficiente, aceitando pequenas imprecisões momentâneas. O nível de isolamento **Read Committed** é o mais adequado para essa situação devido às seguintes razões:\n",
    "\n",
    "1. **Balanceamento entre Consistência e Performance:**\n",
    "   - **Consistência:** Garante que apenas dados confirmados sejam lidos, evitando leituras sujas. Isso é importante para garantir que o dashboard não mostre informações totalmente incorretas ou intermediárias que ainda não foram confirmadas.\n",
    "   - **Performance:** Menos rigoroso que níveis mais altos como Repeatable Read e Serializable, reduzindo a contenção de bloqueios e permitindo um desempenho aceitável para operações em tempo real.\n",
    "\n",
    "2. **Adequação ao Cenário:**\n",
    "   - **Imprecisões Momentâneas:** O nível de isolamento Read Committed permite que, entre leituras, alguns dados possam ser atualizados por outras transações, resultando em leituras não repetíveis. No contexto do dashboard, pequenas variações nos números de vendas são aceitáveis e não impactam a funcionalidade principal do sistema.\n",
    "   - **Carga de Trabalho:** Dashboards em tempo real geralmente exigem leituras frequentes e rápidas. Níveis de isolamento mais altos poderiam introduzir latência desnecessária, impactando negativamente a experiência do usuário.\n",
    "\n",
    "3. **Exemplos de Uso:**\n",
    "   - Em sistemas de monitoramento onde a última informação disponível é mais valiosa do que a consistência perfeita.\n",
    "   - Em relatórios de vendas onde pequenas discrepâncias momentâneas são toleráveis em troca de respostas mais rápidas.\n",
    "\n",
    "### Conclusão\n",
    "Recomendo o nível de isolamento **Read Committed** para o projeto de dashboard de vendas em tempo real. Este nível oferece um bom equilíbrio entre a consistência dos dados e a performance, atendendo às necessidades de monitoramento contínuo com atualizações rápidas e aceitando imprecisões momentâneas que são aceitáveis no contexto descrito.\n",
    "\n",
    "</div>"
   ]
  },
  {
   "cell_type": "markdown",
   "id": "8d13d933",
   "metadata": {},
   "source": [
    "**Exercício 7**:\n",
    "\n",
    "Considere um cenário onde projetos são propostos por empresas em busca de financiamento. Cada projeto é proposto por apenas uma empresa, mas a empresa pode propor muitos projetos.\n",
    "\n",
    "Os projetos podem ou não receber apoio financeiro. Esta decisão é tomada por meio de uma votação, onde usuários membros de um grupo qualquer decidirão se apoiam ou não cada projeto. Cada usuário vota apenas uma vez em cada projeto (`S: sim`, `N: não`, `A: anula`).\n",
    "\n",
    "Considerando esta tabela de `votos`:\n",
    "\n",
    "| id_usuario(PK) | nome           | id_projeto(PK) | projeto     | descricao                              | id_empresa | empresa | voto |\n",
    "|----------------|----------------|----------------|-------------|----------------------------------------|------------|---------|------|\n",
    "| 20             | Antonio Soares | 1              | Sockerator  | Emparelhador de meias                  | 50         | UniX    | S    |\n",
    "| 21             | Marina Pereira | 1              | Sockerator  | Emparelhador de meias                  | 50         | UniX    | S    |\n",
    "| 22             | Camila Mert    | 1              | Sockerator  | Emparelhador de meias                  | 50         | UniX    | N    |\n",
    "| 20             | Antonio Soares | 2              | Snacktapult | Lança petiscos diretamente para a boca | 51         | Abx     | S    |\n",
    "| 22             | Camila Mert    | 2              | Snacktapult | Lança petiscos diretamente para a boca | 51         | Abx     | N    |\n",
    "| 20             | Antonio Soares | 3              | LazyHat     | Um boné com apoio para petiscos        | 50         | UniX    | A    |\n",
    "| 21             | Marina Pereira | 3              | Lazy Hat    | Um boné com apoio para petiscos        | 50         | UniX    | A    |\n",
    "\n",
    "Chamamos de normalização o processo de rearranjar o banco de dados para que obedeça às várias formas normais. Assim, reduzimos a redundância, aumentamos o desempenho e a integridade de dados.\n",
    "\n",
    "**a)** (**Nota: 1,0**) Ao analisar a tabela, um aluno fez a seguinte afirmação:\n",
    "\n",
    "*\"A tabela de `votos` está na `2NF` mas não está na `1NF`\"*\n",
    "\n",
    "A afirmação do aluno está correta? Justifique detalhadamente.\n",
    "\n",
    "Esta questão será corrigida considerando a seguinte rubrica:\n",
    "\n",
    "| Conceito | Nota | Descrição                                                                                                                                               |\n",
    "|:----------:|----------:|:---------------------------------------------------------------------------------------------------------------------------------------------------------|\n",
    "| I        | 0.0 |Apenas citou o assunto ou alguns fatos sem explicações                                                                                                  |\n",
    "| D        | 0.3 |Explicou superficialmente o assunto ou fatos mas sem muitos detalhes conclusivos                                                                        |\n",
    "| C        | 0.6 |Explicou com detalhes, apresentando definições concretas.                                                                                               |\n",
    "| B        | 0.8 |Explicou com detalhes, apresentando definições concretas e exemplos de uso.                                                                            |\n",
    "| A        | 1.0 |Explicou com detalhes, apresentando definições concretas, exemplos de uso e ainda outros tópicos correlatos, fazendo uma conexão lógica entre eles. |"
   ]
  },
  {
   "cell_type": "markdown",
   "id": "d0be9d61-2838-4134-8776-f3e37c27bb8c",
   "metadata": {},
   "source": [
    "<div class=\"alert alert-success\">\n",
    "\n",
    "A afirmação do aluno de que a tabela de `votos` está na `2NF` mas não está na `1NF` é incorreta. Vamos analisar o porquê, abordando os conceitos de normalização de bancos de dados, especificamente as primeiras e segundas formas normais (1NF e 2NF).\n",
    "\n",
    "### Primeira Forma Normal (1NF)\n",
    "\n",
    "Para que uma tabela esteja na 1NF, ela deve atender aos seguintes requisitos:\n",
    "\n",
    "1. **Atomicidade**: Todos os valores em uma coluna devem ser atômicos, ou seja, indivisíveis.\n",
    "2. **Chave Primária**: A tabela deve ter uma chave primária, que identifica unicamente cada linha.\n",
    "3. **Ausência de Colunas Repetitivas**: Não deve haver grupos de colunas repetitivas.\n",
    "\n",
    "Vamos verificar se a tabela `votos` atende a esses critérios:\n",
    "\n",
    "- **Atomicidade**: Todos os valores na tabela `votos` são atômicos. Por exemplo, cada coluna (`id_usuario`, `nome`, `id_projeto`, `projeto`, `descricao`, `id_empresa`, `empresa`, `voto`) contém valores indivisíveis.\n",
    "- **Chave Primária**: A combinação de `id_usuario` e `id_projeto` pode ser considerada uma chave composta que identifica unicamente cada linha, garantindo unicidade.\n",
    "- **Ausência de Colunas Repetitivas**: Não há grupos de colunas repetitivas na tabela.\n",
    "\n",
    "Portanto, a tabela `votos` está na 1NF.\n",
    "\n",
    "### Segunda Forma Normal (2NF)\n",
    "\n",
    "Para que uma tabela esteja na 2NF, ela deve atender aos seguintes requisitos:\n",
    "\n",
    "1. **Estar na 1NF**: A tabela deve estar na 1NF.\n",
    "2. **Ausência de Dependências Parciais**: Todos os atributos não chave devem ser totalmente dependentes da chave primária inteira e não apenas de uma parte dela.\n",
    "\n",
    "Vamos verificar se a tabela `votos` atende a esses critérios:\n",
    "\n",
    "- **Dependências Parciais**: A chave primária composta é `(id_usuario, id_projeto)`. Devemos verificar se todos os atributos não chave dependem dessa chave composta inteira.\n",
    "\n",
    "    - `nome` depende apenas de `id_usuario`.\n",
    "    - `projeto` e `descricao` dependem apenas de `id_projeto`.\n",
    "    - `id_empresa` e `empresa` dependem apenas de `id_projeto`.\n",
    "\n",
    "Como há dependências parciais (atributos que dependem apenas de parte da chave primária), a tabela `votos` não está na 2NF.\n",
    "\n",
    "### Conclusão\n",
    "\n",
    "A tabela `votos` está na 1NF, mas não está na 2NF devido à existência de dependências parciais. Portanto, a afirmação do aluno está incorreta, pois a tabela não pode estar na 2NF sem antes estar na 1NF. A tabela `votos` precisa passar por uma normalização adicional para eliminar essas dependências parciais e atender aos critérios da 2NF.\n",
    "\n",
    "**Rubrica de Correção:**\n",
    "\n",
    "- **Conceito A (1.0)**: Explicou com detalhes, apresentando definições concretas, exemplos de uso e ainda outros tópicos correlatos, fazendo uma conexão lógica entre eles.\n",
    "- **Explicação Detalhada**: Definições de 1NF e 2NF, análise da tabela `votos` em relação a esses critérios, explicação das dependências parciais e correlação entre as formas normais.\n",
    "\n",
    "\n",
    "</div>"
   ]
  },
  {
   "cell_type": "markdown",
   "id": "838877f5-1cf9-44c3-a518-503ea44bf721",
   "metadata": {},
   "source": [
    "**b**) (**Nota: 1,5**) Proponha modificações até que esteja na `3NF`.\n",
    "\n",
    "**Obs**:\n",
    "- Faça um passo a passo, deixando claro sua motivação em cada etapa.\n",
    "- Você não deve gerar SQL, apenas texto e tabelas markdown!"
   ]
  },
  {
   "cell_type": "markdown",
   "id": "3b3813fa",
   "metadata": {},
   "source": [
    "<div class=\"alert alert-success\">\n",
    "\n",
    "Para normalizar a tabela `votos` até a Terceira Forma Normal (3NF), vamos seguir um passo a passo, abordando as motivações em cada etapa.\n",
    "\n",
    "### Passo 1: Tabela Inicial\n",
    "\n",
    "A tabela inicial `votos` está na 1NF, mas não na 2NF ou 3NF. Aqui está a tabela original:\n",
    "\n",
    "| id_usuario (PK) | nome           | id_projeto (PK) | projeto     | descricao                              | id_empresa | empresa | voto |\n",
    "|-----------------|----------------|-----------------|-------------|----------------------------------------|------------|---------|------|\n",
    "| 20              | Antonio Soares | 1               | Sockerator  | Emparelhador de meias                  | 50         | UniX    | S    |\n",
    "| 21              | Marina Pereira | 1               | Sockerator  | Emparelhador de meias                  | 50         | UniX    | S    |\n",
    "| 22              | Camila Mert    | 1               | Sockerator  | Emparelhador de meias                  | 50         | UniX    | N    |\n",
    "| 20              | Antonio Soares | 2               | Snacktapult | Lança petiscos diretamente para a boca | 51         | Abx     | S    |\n",
    "| 22              | Camila Mert    | 2               | Snacktapult | Lança petiscos diretamente para a boca | 51         | Abx     | N    |\n",
    "| 20              | Antonio Soares | 3               | LazyHat     | Um boné com apoio para petiscos        | 50         | UniX    | A    |\n",
    "| 21              | Marina Pereira | 3               | Lazy Hat    | Um boné com apoio para petiscos        | 50         | UniX    | A    |\n",
    "\n",
    "### Passo 2: Eliminar Dependências Parciais (2NF)\n",
    "\n",
    "Para atingir a 2NF, precisamos remover dependências parciais. Isso significa que todos os atributos não chave devem depender da chave primária inteira. Vamos criar tabelas separadas para `projetos`, `empresas` e `usuarios`.\n",
    "\n",
    "#### Tabela de Projetos\n",
    "\n",
    "| id_projeto (PK) | projeto     | descricao                              | id_empresa |\n",
    "|-----------------|-------------|----------------------------------------|------------|\n",
    "| 1               | Sockerator  | Emparelhador de meias                  | 50         |\n",
    "| 2               | Snacktapult | Lança petiscos diretamente para a boca | 51         |\n",
    "| 3               | LazyHat     | Um boné com apoio para petiscos        | 50         |\n",
    "\n",
    "#### Tabela de Empresas\n",
    "\n",
    "| id_empresa (PK) | empresa |\n",
    "|-----------------|---------|\n",
    "| 50              | UniX    |\n",
    "| 51              | Abx     |\n",
    "\n",
    "#### Tabela de Usuários\n",
    "\n",
    "| id_usuario (PK) | nome           |\n",
    "|-----------------|----------------|\n",
    "| 20              | Antonio Soares |\n",
    "| 21              | Marina Pereira |\n",
    "| 22              | Camila Mert    |\n",
    "\n",
    "### Passo 3: Tabela de Votos\n",
    "\n",
    "Agora, a tabela `votos` contém apenas as chaves primárias e o voto, removendo as dependências parciais:\n",
    "\n",
    "| id_usuario (PK) | id_projeto (PK) | voto |\n",
    "|-----------------|------------------|------|\n",
    "| 20              | 1                | S    |\n",
    "| 21              | 1                | S    |\n",
    "| 22              | 1                | N    |\n",
    "| 20              | 2                | S    |\n",
    "| 22              | 2                | N    |\n",
    "| 20              | 3                | A    |\n",
    "| 21              | 3                | A    |\n",
    "\n",
    "### Passo 4: Eliminar Dependências Transitivas (3NF)\n",
    "\n",
    "Para atingir a 3NF, precisamos garantir que todos os atributos não chave dependam apenas da chave primária, não de outros atributos não chave. Já fizemos isso ao dividir a tabela em três tabelas separadas. Agora vamos verificar as tabelas resultantes:\n",
    "\n",
    "#### Tabela de Projetos (já está na 3NF)\n",
    "\n",
    "| id_projeto (PK) | projeto     | descricao                              | id_empresa |\n",
    "|-----------------|-------------|----------------------------------------|------------|\n",
    "| 1               | Sockerator  | Emparelhador de meias                  | 50         |\n",
    "| 2               | Snacktapult | Lança petiscos diretamente para a boca | 51         |\n",
    "| 3               | LazyHat     | Um boné com apoio para petiscos        | 50         |\n",
    "\n",
    "Nesta tabela, `projeto` e `descricao` dependem apenas de `id_projeto`, e `id_empresa` está relacionado diretamente ao projeto.\n",
    "\n",
    "#### Tabela de Empresas (já está na 3NF)\n",
    "\n",
    "| id_empresa (PK) | empresa |\n",
    "|-----------------|---------|\n",
    "| 50              | UniX    |\n",
    "| 51              | Abx     |\n",
    "\n",
    "Nesta tabela, `empresa` depende apenas de `id_empresa`.\n",
    "\n",
    "#### Tabela de Usuários (já está na 3NF)\n",
    "\n",
    "| id_usuario (PK) | nome           |\n",
    "|-----------------|----------------|\n",
    "| 20              | Antonio Soares |\n",
    "| 21              | Marina Pereira |\n",
    "| 22              | Camila Mert    |\n",
    "\n",
    "Nesta tabela, `nome` depende apenas de `id_usuario`.\n",
    "\n",
    "#### Tabela de Votos (já está na 3NF)\n",
    "\n",
    "| id_usuario (PK) | id_projeto (PK) | voto |\n",
    "|-----------------|------------------|------|\n",
    "| 20              | 1                | S    |\n",
    "| 21              | 1                | S    |\n",
    "| 22              | 1                | N    |\n",
    "| 20              | 2                | S    |\n",
    "| 22              | 2                | N    |\n",
    "| 20              | 3                | A    |\n",
    "| 21              | 3                | A    |\n",
    "\n",
    "Nesta tabela, `voto` depende apenas da combinação da chave primária composta `id_usuario` e `id_projeto`.\n",
    "\n",
    "### Conclusão\n",
    "\n",
    "Com estas modificações, garantimos que todas as tabelas estão na 3NF. Cada atributo não chave é totalmente dependente da chave primária inteira, e não há dependências transitivas. A nova estrutura reduz a redundância, melhora a integridade dos dados e facilita a manutenção do banco de dados.\n",
    "    \n",
    "Crie quantas tabelas precisar!\n",
    "\n",
    "Dica: você pode editar tabelas markdown em https://www.tablesgenerator.com/markdown_tables\n",
    "</div>"
   ]
  },
  {
   "cell_type": "markdown",
   "id": "405230dc",
   "metadata": {},
   "source": [
    "### Conferindo as notas!"
   ]
  },
  {
   "cell_type": "code",
   "execution_count": 56,
   "id": "b65540cb",
   "metadata": {},
   "outputs": [
    {
     "data": {
      "text/markdown": [
       "|    | Atividade   | Exercício   |   Peso |   Nota |\n",
       "|---:|:------------|:------------|-------:|-------:|\n",
       "|  0 | af_md_23_2  | ex01spark   |      2 |     10 |\n",
       "|  1 | af_md_23_2  | ex02spark   |      3 |     10 |\n",
       "|  2 | af_md_23_2  | ex03trigger |      3 |     10 |\n",
       "|  3 | af_md_23_2  | ex04perm    |      1 |     10 |\n",
       "|  4 | af_md_23_2  | ex05python  |      2 |     10 |"
      ],
      "text/plain": [
       "<IPython.core.display.Markdown object>"
      ]
     },
     "metadata": {},
     "output_type": "display_data"
    }
   ],
   "source": [
    "ia.grades(task=\"af_md_23_2\")"
   ]
  },
  {
   "cell_type": "code",
   "execution_count": 57,
   "id": "342db676-b092-4966-b277-94c02f8fc98b",
   "metadata": {},
   "outputs": [
    {
     "data": {
      "text/markdown": [
       "|    | Tarefa     |   Nota |\n",
       "|---:|:-----------|-------:|\n",
       "|  0 | af_md_23_2 |     10 |"
      ],
      "text/plain": [
       "<IPython.core.display.Markdown object>"
      ]
     },
     "metadata": {},
     "output_type": "display_data"
    }
   ],
   "source": [
    "ia.grades(by=\"TASK\", task=\"af_md_23_2\")"
   ]
  },
  {
   "cell_type": "markdown",
   "id": "5f091821",
   "metadata": {},
   "source": [
    "## Entrega!\n",
    "\n",
    "É hora de entregar. Faça `commit` e finalize o teste no proctorio!"
   ]
  }
 ],
 "metadata": {
  "kernelspec": {
   "display_name": "Python 3 (ipykernel)",
   "language": "python",
   "name": "python3"
  },
  "language_info": {
   "codemirror_mode": {
    "name": "ipython",
    "version": 3
   },
   "file_extension": ".py",
   "mimetype": "text/x-python",
   "name": "python",
   "nbconvert_exporter": "python",
   "pygments_lexer": "ipython3",
   "version": "3.12.3"
  }
 },
 "nbformat": 4,
 "nbformat_minor": 5
}
