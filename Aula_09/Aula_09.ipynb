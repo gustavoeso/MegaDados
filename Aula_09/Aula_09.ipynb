{
 "cells": [
  {
   "cell_type": "markdown",
   "metadata": {},
   "source": [
    "# Mais sobre `SELECT`\n",
    "\n",
    "- temporary tables\n",
    "- views\n",
    "- variables\n",
    "- subqueries\n"
   ]
  },
  {
   "cell_type": "code",
   "execution_count": 3,
   "metadata": {},
   "outputs": [],
   "source": [
    "from functools import partial\n",
    "from dotenv import load_dotenv\n",
    "import insperautograder.jupyter as ia\n",
    "import mysql.connector\n",
    "import os\n",
    "\n",
    "load_dotenv(override=True)\n",
    "\n",
    "connection = mysql.connector.connect(\n",
    "    host=os.getenv(\"MD_DB_SERVER\"),\n",
    "    user=os.getenv(\"MD_DB_USERNAME\"),\n",
    "    password=os.getenv(\"MD_DB_PASSWORD\"),\n",
    "    database=\"sakila\"\n",
    ")\n",
    "\n",
    "def run_db_query(connection, query, args=None):\n",
    "    with connection.cursor() as cursor:\n",
    "        print(\"Executando query:\")\n",
    "        cursor.execute(query, args)\n",
    "        for result in cursor:\n",
    "            print(result)\n",
    "\n",
    "db = partial(run_db_query, connection)"
   ]
  },
  {
   "cell_type": "markdown",
   "metadata": {},
   "source": [
    "## Exercícios para entrega\n",
    "\n",
    "Esta aula tem atividade para entrega, confira os prazos e exercícios"
   ]
  },
  {
   "cell_type": "code",
   "execution_count": 4,
   "metadata": {},
   "outputs": [
    {
     "data": {
      "text/markdown": [
       "|    | Atividade    | De                        | Até                       |\n",
       "|---:|:-------------|:--------------------------|:--------------------------|\n",
       "|  0 | newborn      | 2024-02-01 03:00:00+00:00 | 2024-05-30 03:00:00+00:00 |\n",
       "|  1 | select01     | 2024-02-07 03:00:00+00:00 | 2024-02-19 02:59:59+00:00 |\n",
       "|  2 | ddl          | 2024-02-26 03:00:00+00:00 | 2024-03-03 02:59:59+00:00 |\n",
       "|  3 | dml          | 2024-02-28 03:00:00+00:00 | 2024-03-05 02:59:59+00:00 |\n",
       "|  4 | agg_join     | 2024-03-04 03:00:00+00:00 | 2024-03-09 02:59:59+00:00 |\n",
       "|  5 | group_having | 2024-03-06 03:00:00+00:00 | 2024-03-11 02:59:59+00:00 |\n",
       "|  6 | views        | 2024-03-11 03:00:00+00:00 | 2024-03-20 02:59:59+00:00 |\n",
       "|  7 | sql_review1  | 2024-03-13 03:00:00+00:00 | 2024-03-20 02:59:59+00:00 |"
      ],
      "text/plain": [
       "<IPython.core.display.Markdown object>"
      ]
     },
     "metadata": {},
     "output_type": "display_data"
    }
   ],
   "source": [
    "ia.tasks()"
   ]
  },
  {
   "cell_type": "code",
   "execution_count": 5,
   "metadata": {},
   "outputs": [
    {
     "data": {
      "text/markdown": [
       "|    | Tarefa       |   Nota |\n",
       "|---:|:-------------|-------:|\n",
       "|  0 | agg_join     |  10    |\n",
       "|  1 | ddl          |  10    |\n",
       "|  2 | dml          |  10    |\n",
       "|  3 | group_having |  10    |\n",
       "|  4 | newborn      |  10    |\n",
       "|  5 | select01     |  10    |\n",
       "|  6 | sql_review1  |   0    |\n",
       "|  7 | views        |   4.17 |"
      ],
      "text/plain": [
       "<IPython.core.display.Markdown object>"
      ]
     },
     "metadata": {},
     "output_type": "display_data"
    }
   ],
   "source": [
    "ia.grades(by=\"task\")"
   ]
  },
  {
   "cell_type": "code",
   "execution_count": 6,
   "metadata": {},
   "outputs": [
    {
     "data": {
      "text/markdown": [
       "|    | Atividade   | Exercício   |   Peso |   Nota |\n",
       "|---:|:------------|:------------|-------:|-------:|\n",
       "|  0 | views       | ex01        |      1 |     10 |\n",
       "|  1 | views       | ex02        |      1 |     10 |\n",
       "|  2 | views       | ex03        |      1 |     10 |\n",
       "|  3 | views       | ex04        |      1 |     10 |\n",
       "|  4 | views       | ex05        |      1 |     10 |\n",
       "|  5 | views       | ex06        |      1 |      0 |\n",
       "|  6 | views       | ex07        |      1 |      0 |\n",
       "|  7 | views       | ex08        |      1 |      0 |\n",
       "|  8 | views       | ex09        |      1 |      0 |\n",
       "|  9 | views       | ex10        |      1 |      0 |\n",
       "| 10 | views       | ex11        |      1 |      0 |\n",
       "| 11 | views       | ex12        |      1 |      0 |"
      ],
      "text/plain": [
       "<IPython.core.display.Markdown object>"
      ]
     },
     "metadata": {},
     "output_type": "display_data"
    }
   ],
   "source": [
    "ia.grades(task=\"views\")"
   ]
  },
  {
   "cell_type": "markdown",
   "metadata": {},
   "source": [
    "## Aquecimento"
   ]
  },
  {
   "cell_type": "markdown",
   "metadata": {},
   "source": [
    "Quanta receita foi gerada para cada categoria de filmes? Mostre o nome da categoria e a receita. Ordene da maior receita para para a menor."
   ]
  },
  {
   "cell_type": "code",
   "execution_count": 7,
   "metadata": {},
   "outputs": [
    {
     "name": "stdout",
     "output_type": "stream",
     "text": [
      "Executando query:\n",
      "('Sports', Decimal('5314.21'))\n",
      "('Sci-Fi', Decimal('4756.98'))\n",
      "('Animation', Decimal('4656.30'))\n",
      "('Drama', Decimal('4587.39'))\n",
      "('Comedy', Decimal('4383.58'))\n",
      "('Action', Decimal('4375.85'))\n",
      "('New', Decimal('4351.62'))\n",
      "('Games', Decimal('4281.33'))\n",
      "('Foreign', Decimal('4270.67'))\n",
      "('Family', Decimal('4226.07'))\n",
      "('Documentary', Decimal('4217.52'))\n",
      "('Horror', Decimal('3722.54'))\n",
      "('Children', Decimal('3655.55'))\n",
      "('Classics', Decimal('3639.59'))\n",
      "('Travel', Decimal('3549.64'))\n",
      "('Music', Decimal('3417.72'))\n"
     ]
    }
   ],
   "source": [
    "sql_ex01 = \"\"\"\n",
    "SELECT\n",
    "    c.name AS category_name,\n",
    "    sum(p.amount) AS total_revenue\n",
    "FROM\n",
    "    category c\n",
    "    JOIN film_category fc ON c.category_id = fc.category_id\n",
    "    JOIN film f ON fc.film_id = f.film_id\n",
    "    JOIN inventory i ON f.film_id = i.film_id\n",
    "    JOIN rental r ON i.inventory_id = r.inventory_id\n",
    "    JOIN payment p ON r.rental_id = p.rental_id\n",
    "GROUP BY\n",
    "    c.name\n",
    "ORDER BY\n",
    "    total_revenue DESC;\n",
    "\"\"\"\n",
    "\n",
    "db(sql_ex01)"
   ]
  },
  {
   "cell_type": "code",
   "execution_count": 8,
   "metadata": {},
   "outputs": [
    {
     "data": {
      "application/vnd.jupyter.widget-view+json": {
       "model_id": "f701dfca5d8b4935b035960b26cd3b76",
       "version_major": 2,
       "version_minor": 0
      },
      "text/plain": [
       "interactive(children=(Button(description='Enviar ex01', style=ButtonStyle()), Output()), _dom_classes=('widget…"
      ]
     },
     "execution_count": 8,
     "metadata": {},
     "output_type": "execute_result"
    }
   ],
   "source": [
    "ia.sender(answer=\"sql_ex01\", task=\"views\", question=\"ex01\", answer_type=\"pyvar\")"
   ]
  },
  {
   "cell_type": "markdown",
   "metadata": {},
   "source": [
    "Liste os 10 filmes mais alugados e o numero de vezes em que foram alugados. Ordene do mais alugado para o menos alugado."
   ]
  },
  {
   "cell_type": "code",
   "execution_count": 9,
   "metadata": {},
   "outputs": [
    {
     "name": "stdout",
     "output_type": "stream",
     "text": [
      "Executando query:\n",
      "('BUCKET BROTHERHOOD', 34)\n",
      "('ROCKETEER MOTHER', 33)\n",
      "('RIDGEMONT SUBMARINE', 32)\n",
      "('GRIT CLOCKWORK', 32)\n",
      "('SCALAWAG DUCK', 32)\n",
      "('JUGGLER HARDLY', 32)\n",
      "('FORWARD TEMPLE', 32)\n",
      "('HOBBIT ALIEN', 31)\n",
      "('ROBBERS JOON', 31)\n",
      "('ZORRO ARK', 31)\n"
     ]
    }
   ],
   "source": [
    "sql_ex02 = \"\"\"\n",
    "SELECT\n",
    "    f.title AS film_title,\n",
    "    COUNT(r.rental_id) AS number_of_rentals\n",
    "FROM\n",
    "    rental r JOIN inventory i ON r.inventory_id = i.inventory_id\n",
    "    JOIN film f ON i.film_id = f.film_id\n",
    "GROUP BY\n",
    "    f.film_id\n",
    "ORDER BY\n",
    "    number_of_rentals DESC\n",
    "LIMIT 10;\n",
    "\"\"\"\n",
    "\n",
    "db(sql_ex02)"
   ]
  },
  {
   "cell_type": "code",
   "execution_count": 10,
   "metadata": {},
   "outputs": [
    {
     "data": {
      "application/vnd.jupyter.widget-view+json": {
       "model_id": "ef0590271e234316a35a23c6f6d43488",
       "version_major": 2,
       "version_minor": 0
      },
      "text/plain": [
       "interactive(children=(Button(description='Enviar ex02', style=ButtonStyle()), Output()), _dom_classes=('widget…"
      ]
     },
     "execution_count": 10,
     "metadata": {},
     "output_type": "execute_result"
    }
   ],
   "source": [
    "ia.sender(answer=\"sql_ex02\", task=\"views\", question=\"ex02\", answer_type=\"pyvar\")"
   ]
  },
  {
   "cell_type": "markdown",
   "metadata": {},
   "source": [
    "**DESAFIO:** Liste os filmes e o numero de vezes em que foram alugados apenas para filmes que foram alugados mais do que a média de numero de alugueis por filme. *Dica*: Serão necessários múltiplos SELECTs. Faça cada um em uma célula diferente."
   ]
  },
  {
   "cell_type": "code",
   "execution_count": 11,
   "metadata": {},
   "outputs": [
    {
     "name": "stdout",
     "output_type": "stream",
     "text": [
      "Executando query:\n",
      "Executando query:\n",
      "Executando query:\n",
      "Executando query:\n"
     ]
    }
   ],
   "source": [
    "db(\"\"\"\n",
    "-- SUA QUERY AQUI!\n",
    "\"\"\")\n",
    "db(\"\"\"\n",
    "-- SUA QUERY AQUI!\n",
    "\"\"\")\n",
    "db(\"\"\"\n",
    "-- SUA QUERY AQUI!\n",
    "\"\"\")\n",
    "db(\"\"\"\n",
    "-- SUA QUERY AQUI!\n",
    "\"\"\")"
   ]
  },
  {
   "cell_type": "markdown",
   "metadata": {
    "tags": []
   },
   "source": [
    "## Views\n",
    "\n",
    "Uma *view* é uma tabela virtual, construida a partir de um comando `SELECT`. Por exemplo: execute o código a seguir."
   ]
  },
  {
   "cell_type": "code",
   "execution_count": 12,
   "metadata": {},
   "outputs": [
    {
     "name": "stdout",
     "output_type": "stream",
     "text": [
      "Executando query:\n",
      "Executando query:\n"
     ]
    }
   ],
   "source": [
    "db(\"\"\"\n",
    "DROP VIEW IF EXISTS movie_count;\n",
    "\"\"\")\n",
    "\n",
    "db(\"\"\"\n",
    "CREATE VIEW movie_count AS\n",
    "    SELECT \n",
    "        title, COUNT(rental_id) as cnt\n",
    "    FROM\n",
    "        film\n",
    "        LEFT OUTER JOIN inventory USING (film_id)\n",
    "        LEFT OUTER JOIN rental USING (inventory_id)\n",
    "    GROUP BY\n",
    "        film_id\n",
    "    ORDER BY\n",
    "        cnt ASC;\n",
    "\"\"\")"
   ]
  },
  {
   "cell_type": "markdown",
   "metadata": {},
   "source": [
    "Agora temos uma *view* chamada `movie_count`. Vamos verificar que ela funcionou, listando as 30 primeiras linhas:"
   ]
  },
  {
   "cell_type": "code",
   "execution_count": 13,
   "metadata": {},
   "outputs": [
    {
     "name": "stdout",
     "output_type": "stream",
     "text": [
      "Executando query:\n",
      "('ALICE FANTASIA', 0)\n",
      "('APOLLO TEEN', 0)\n",
      "('ARGONAUTS TOWN', 0)\n",
      "('ARK RIDGEMONT', 0)\n",
      "('ARSENIC INDEPENDENCE', 0)\n",
      "('BOONDOCK BALLROOM', 0)\n",
      "('BUTCH PANTHER', 0)\n",
      "('CATCH AMISTAD', 0)\n",
      "('CHINATOWN GLADIATOR', 0)\n",
      "('CHOCOLATE DUCK', 0)\n",
      "('COMMANDMENTS EXPRESS', 0)\n",
      "('CROSSING DIVORCE', 0)\n",
      "('CROWDS TELEMARK', 0)\n",
      "('CRYSTAL BREAKING', 0)\n",
      "('DAZED PUNK', 0)\n",
      "('DELIVERANCE MULHOLLAND', 0)\n",
      "('FIREHOUSE VIETNAM', 0)\n",
      "('FLOATS GARDEN', 0)\n",
      "('FRANKENSTEIN STRANGER', 0)\n",
      "('GLADIATOR WESTWARD', 0)\n",
      "('GUMP DATE', 0)\n",
      "('HATE HANDICAP', 0)\n",
      "('HOCUS FRIDA', 0)\n",
      "('KENTUCKIAN GIANT', 0)\n",
      "('KILL BROTHERHOOD', 0)\n",
      "('MUPPET MILE', 0)\n",
      "('ORDER BETRAYED', 0)\n",
      "('PEARL DESTINY', 0)\n",
      "('PERDITION FARGO', 0)\n",
      "('PSYCHO SHRUNK', 0)\n"
     ]
    }
   ],
   "source": [
    "db(\"\"\"\n",
    "SELECT \n",
    "    *\n",
    "FROM\n",
    "    movie_count \n",
    "LIMIT \n",
    "    30\n",
    "\"\"\")"
   ]
  },
  {
   "cell_type": "code",
   "execution_count": 14,
   "metadata": {},
   "outputs": [
    {
     "name": "stdout",
     "output_type": "stream",
     "text": [
      "Executando query:\n",
      "('BUCKET BROTHERHOOD', 34)\n",
      "('ROCKETEER MOTHER', 33)\n",
      "('JUGGLER HARDLY', 32)\n",
      "('GRIT CLOCKWORK', 32)\n",
      "('FORWARD TEMPLE', 32)\n",
      "('SCALAWAG DUCK', 32)\n",
      "('RIDGEMONT SUBMARINE', 32)\n",
      "('ZORRO ARK', 31)\n",
      "('WIFE TURN', 31)\n",
      "('TIMBERLAND SKY', 31)\n",
      "('RUSH GOODFELLAS', 31)\n",
      "('ROBBERS JOON', 31)\n",
      "('NETWORK PEAK', 31)\n",
      "('HOBBIT ALIEN', 31)\n",
      "('GOODFELLAS SALUTE', 31)\n",
      "('APACHE DIVINE', 31)\n",
      "('WITCHES PANIC', 30)\n",
      "('SUSPECTS QUILLS', 30)\n",
      "('SHOCK CABIN', 30)\n",
      "('RUGRATS SHAKESPEARE', 30)\n",
      "('PULP BEVERLY', 30)\n",
      "('MUSCLE BRIGHT', 30)\n",
      "('MASSACRE USUAL', 30)\n",
      "('MARRIED GO', 30)\n",
      "('IDOLS SNATCHERS', 30)\n",
      "('HARRY IDAHO', 30)\n",
      "('GRAFFITI LOVE', 30)\n",
      "('FROST HEAD', 30)\n",
      "('ENGLISH BULWORTH', 30)\n",
      "('DOGMA FAMILY', 30)\n"
     ]
    }
   ],
   "source": [
    "db(\"\"\"\n",
    "SELECT \n",
    "    * \n",
    "FROM \n",
    "    movie_count \n",
    "ORDER BY\n",
    "    cnt DESC\n",
    "LIMIT 30\n",
    "\"\"\")"
   ]
  },
  {
   "cell_type": "markdown",
   "metadata": {},
   "source": [
    "Agora suponha que alteramos a tabela `film`, mudando o nome do filme \"DAZED PUNK\" para \"STONED PUNK\".\n",
    "\n",
    "**Atividade**: Do it."
   ]
  },
  {
   "cell_type": "code",
   "execution_count": 15,
   "metadata": {},
   "outputs": [
    {
     "name": "stdout",
     "output_type": "stream",
     "text": [
      "Executando query:\n"
     ]
    }
   ],
   "source": [
    "db(\"\"\"\n",
    "UPDATE\n",
    "    film\n",
    "SET\n",
    "   title = 'STONED PUNK'\n",
    "WHERE\n",
    "    title = 'DAZED PUNK';\n",
    "\"\"\")"
   ]
  },
  {
   "cell_type": "markdown",
   "metadata": {},
   "source": [
    "Verifique agora a nossa *view*:"
   ]
  },
  {
   "cell_type": "code",
   "execution_count": 16,
   "metadata": {},
   "outputs": [
    {
     "name": "stdout",
     "output_type": "stream",
     "text": [
      "Executando query:\n",
      "('ALICE FANTASIA', 0)\n",
      "('APOLLO TEEN', 0)\n",
      "('ARGONAUTS TOWN', 0)\n",
      "('ARK RIDGEMONT', 0)\n",
      "('ARSENIC INDEPENDENCE', 0)\n",
      "('BOONDOCK BALLROOM', 0)\n",
      "('BUTCH PANTHER', 0)\n",
      "('CATCH AMISTAD', 0)\n",
      "('CHINATOWN GLADIATOR', 0)\n",
      "('CHOCOLATE DUCK', 0)\n",
      "('COMMANDMENTS EXPRESS', 0)\n",
      "('CROSSING DIVORCE', 0)\n",
      "('CROWDS TELEMARK', 0)\n",
      "('CRYSTAL BREAKING', 0)\n",
      "('STONED PUNK', 0)\n",
      "('DELIVERANCE MULHOLLAND', 0)\n",
      "('FIREHOUSE VIETNAM', 0)\n",
      "('FLOATS GARDEN', 0)\n",
      "('FRANKENSTEIN STRANGER', 0)\n",
      "('GLADIATOR WESTWARD', 0)\n",
      "('GUMP DATE', 0)\n",
      "('HATE HANDICAP', 0)\n",
      "('HOCUS FRIDA', 0)\n",
      "('KENTUCKIAN GIANT', 0)\n",
      "('KILL BROTHERHOOD', 0)\n",
      "('MUPPET MILE', 0)\n",
      "('ORDER BETRAYED', 0)\n",
      "('PEARL DESTINY', 0)\n",
      "('PERDITION FARGO', 0)\n",
      "('PSYCHO SHRUNK', 0)\n"
     ]
    }
   ],
   "source": [
    "db(\"\"\"\n",
    "SELECT\n",
    "    *\n",
    "FROM\n",
    "    movie_count\n",
    "LIMIT\n",
    "    30\n",
    "\"\"\")"
   ]
  },
  {
   "cell_type": "markdown",
   "metadata": {},
   "source": [
    "Como você pode ver, as views são tabelas virtuais que são **automaticamente atualizadas quando as tabelas originais são modificadas**.\n",
    "\n",
    "Sempre que você realizar modificações nos dados, dê `commit` ou `rollback`. Ainda, evite executar múltiplas vezes as linhas de código que criem a conexão sem antes ter fechado a conexão ativa.\n",
    "\n",
    "Vamos desfazer as alterações:"
   ]
  },
  {
   "cell_type": "code",
   "execution_count": 17,
   "metadata": {},
   "outputs": [],
   "source": [
    "connection.rollback()"
   ]
  },
  {
   "cell_type": "markdown",
   "metadata": {},
   "source": [
    "Conferindo:"
   ]
  },
  {
   "cell_type": "code",
   "execution_count": 18,
   "metadata": {},
   "outputs": [
    {
     "name": "stdout",
     "output_type": "stream",
     "text": [
      "Executando query:\n",
      "('ALICE FANTASIA', 0)\n",
      "('APOLLO TEEN', 0)\n",
      "('ARGONAUTS TOWN', 0)\n",
      "('ARK RIDGEMONT', 0)\n",
      "('ARSENIC INDEPENDENCE', 0)\n",
      "('BOONDOCK BALLROOM', 0)\n",
      "('BUTCH PANTHER', 0)\n",
      "('CATCH AMISTAD', 0)\n",
      "('CHINATOWN GLADIATOR', 0)\n",
      "('CHOCOLATE DUCK', 0)\n",
      "('COMMANDMENTS EXPRESS', 0)\n",
      "('CROSSING DIVORCE', 0)\n",
      "('CROWDS TELEMARK', 0)\n",
      "('CRYSTAL BREAKING', 0)\n",
      "('DAZED PUNK', 0)\n",
      "('DELIVERANCE MULHOLLAND', 0)\n",
      "('FIREHOUSE VIETNAM', 0)\n",
      "('FLOATS GARDEN', 0)\n",
      "('FRANKENSTEIN STRANGER', 0)\n",
      "('GLADIATOR WESTWARD', 0)\n",
      "('GUMP DATE', 0)\n",
      "('HATE HANDICAP', 0)\n",
      "('HOCUS FRIDA', 0)\n",
      "('KENTUCKIAN GIANT', 0)\n",
      "('KILL BROTHERHOOD', 0)\n",
      "('MUPPET MILE', 0)\n",
      "('ORDER BETRAYED', 0)\n",
      "('PEARL DESTINY', 0)\n",
      "('PERDITION FARGO', 0)\n",
      "('PSYCHO SHRUNK', 0)\n"
     ]
    }
   ],
   "source": [
    "db(\"\"\"\n",
    "SELECT\n",
    "    *\n",
    "FROM\n",
    "    movie_count\n",
    "LIMIT\n",
    "    30\n",
    "\"\"\")"
   ]
  },
  {
   "cell_type": "markdown",
   "metadata": {},
   "source": [
    "### Vamos praticar"
   ]
  },
  {
   "cell_type": "markdown",
   "metadata": {},
   "source": [
    "Verifique quantas vezes o filme \"COWBOY DOOM\" foi alugado usando a view `movie_count`"
   ]
  },
  {
   "cell_type": "code",
   "execution_count": 19,
   "metadata": {},
   "outputs": [
    {
     "name": "stdout",
     "output_type": "stream",
     "text": [
      "Executando query:\n",
      "('title', 'varchar(128)', 'NO', '', None, '')\n",
      "('cnt', 'bigint', 'NO', '', '0', '')\n"
     ]
    }
   ],
   "source": [
    "db(\"DESCRIBE movie_count\")"
   ]
  },
  {
   "cell_type": "code",
   "execution_count": 20,
   "metadata": {},
   "outputs": [
    {
     "name": "stdout",
     "output_type": "stream",
     "text": [
      "Executando query:\n",
      "(7,)\n"
     ]
    }
   ],
   "source": [
    "sql_ex03 = '''\n",
    "SELECT\n",
    "    cnt\n",
    "FROM\n",
    "    movie_count\n",
    "WHERE\n",
    "    title = 'COWBOY DOOM'\n",
    "'''\n",
    "\n",
    "db(sql_ex03)"
   ]
  },
  {
   "cell_type": "code",
   "execution_count": 21,
   "metadata": {},
   "outputs": [
    {
     "data": {
      "application/vnd.jupyter.widget-view+json": {
       "model_id": "46a15c9fcf044d3d8f81b53f82013816",
       "version_major": 2,
       "version_minor": 0
      },
      "text/plain": [
       "interactive(children=(Button(description='Enviar ex03', style=ButtonStyle()), Output()), _dom_classes=('widget…"
      ]
     },
     "execution_count": 21,
     "metadata": {},
     "output_type": "execute_result"
    }
   ],
   "source": [
    "ia.sender(answer=\"sql_ex03\", task=\"views\", question=\"ex03\", answer_type=\"pyvar\")"
   ]
  },
  {
   "cell_type": "markdown",
   "metadata": {},
   "source": [
    "Registre um aluguel do filme \"COWBOY DOOM\" (com o menor id possível), feito pelo funcionario \"Jon Stephens\" na loja id=1 para o cliente \"JESSIE BANKS\", na data '2019-01-01', com data de retorno '2019-01-08'."
   ]
  },
  {
   "cell_type": "code",
   "execution_count": 22,
   "metadata": {},
   "outputs": [
    {
     "name": "stdout",
     "output_type": "stream",
     "text": [
      "Executando query:\n",
      "('rental_id', 'int', 'NO', 'PRI', None, 'auto_increment')\n",
      "('rental_date', 'datetime', 'NO', 'MUL', None, '')\n",
      "('inventory_id', 'mediumint unsigned', 'NO', 'MUL', None, '')\n",
      "('customer_id', 'smallint unsigned', 'NO', 'MUL', None, '')\n",
      "('return_date', 'datetime', 'YES', '', None, '')\n",
      "('staff_id', 'tinyint unsigned', 'NO', 'MUL', None, '')\n",
      "('last_update', 'timestamp', 'NO', '', 'CURRENT_TIMESTAMP', 'DEFAULT_GENERATED on update CURRENT_TIMESTAMP')\n"
     ]
    }
   ],
   "source": [
    "db(\"DESCRIBE rental\")"
   ]
  },
  {
   "cell_type": "code",
   "execution_count": 23,
   "metadata": {},
   "outputs": [
    {
     "name": "stdout",
     "output_type": "stream",
     "text": [
      "Executando query:\n",
      "(2,)\n"
     ]
    }
   ],
   "source": [
    "#staff id\n",
    "db(\"SELECT staff_id FROM staff WHERE first_name = 'Jon' AND last_name = 'Stephens'\")"
   ]
  },
  {
   "cell_type": "code",
   "execution_count": 24,
   "metadata": {},
   "outputs": [
    {
     "name": "stdout",
     "output_type": "stream",
     "text": [
      "Executando query:\n",
      "(215,)\n"
     ]
    }
   ],
   "source": [
    "#customer id\n",
    "db(\"SELECT customer_id FROM customer WHERE first_name = 'JESSIE' AND last_name = 'BANKS'\")"
   ]
  },
  {
   "cell_type": "code",
   "execution_count": 25,
   "metadata": {},
   "outputs": [
    {
     "name": "stdout",
     "output_type": "stream",
     "text": [
      "Executando query:\n",
      "(185,)\n"
     ]
    }
   ],
   "source": [
    "db(\"SELECT film_id FROM film WHERE title = 'COWBOY DOOM'\")"
   ]
  },
  {
   "cell_type": "code",
   "execution_count": 26,
   "metadata": {},
   "outputs": [
    {
     "name": "stdout",
     "output_type": "stream",
     "text": [
      "Executando query:\n",
      "(845,)\n"
     ]
    }
   ],
   "source": [
    "#inventory id\n",
    "db(\"SELECT inventory_id FROM inventory WHERE film_id = 185 and store_id = 1 limit 1\")"
   ]
  },
  {
   "cell_type": "code",
   "execution_count": 27,
   "metadata": {},
   "outputs": [
    {
     "name": "stdout",
     "output_type": "stream",
     "text": [
      "Executando query:\n"
     ]
    }
   ],
   "source": [
    "sql_ex04 = \"\"\"\n",
    "INSERT INTO\n",
    "    rental (rental_id, rental_date, inventory_id, customer_id, return_date, staff_id)\n",
    "VALUES (\n",
    "    0,\n",
    "    '2019-01-01',\n",
    "    845,\n",
    "    215,\n",
    "    '2019-01-08',\n",
    "    2\n",
    ")\n",
    "\"\"\"\n",
    "\n",
    "db(sql_ex04)"
   ]
  },
  {
   "cell_type": "code",
   "execution_count": 28,
   "metadata": {},
   "outputs": [
    {
     "data": {
      "application/vnd.jupyter.widget-view+json": {
       "model_id": "cb8798fe22f94b6084160a5b3b642265",
       "version_major": 2,
       "version_minor": 0
      },
      "text/plain": [
       "interactive(children=(Button(description='Enviar ex04', style=ButtonStyle()), Output()), _dom_classes=('widget…"
      ]
     },
     "execution_count": 28,
     "metadata": {},
     "output_type": "execute_result"
    }
   ],
   "source": [
    "ia.sender(answer=\"sql_ex04\", task=\"views\", question=\"ex04\", answer_type=\"pyvar\")"
   ]
  },
  {
   "cell_type": "markdown",
   "metadata": {},
   "source": [
    "Verifique usando a view que a contagem de alugueis do filme subiu."
   ]
  },
  {
   "cell_type": "code",
   "execution_count": 29,
   "metadata": {},
   "outputs": [
    {
     "name": "stdout",
     "output_type": "stream",
     "text": [
      "Executando query:\n",
      "('title', 'varchar(128)', 'NO', '', None, '')\n",
      "('cnt', 'bigint', 'NO', '', '0', '')\n"
     ]
    }
   ],
   "source": [
    "db(\"\"\"DESCRIBE movie_count\"\"\")"
   ]
  },
  {
   "cell_type": "code",
   "execution_count": 30,
   "metadata": {},
   "outputs": [
    {
     "name": "stdout",
     "output_type": "stream",
     "text": [
      "Executando query:\n",
      "(Decimal('16045'),)\n"
     ]
    }
   ],
   "source": [
    "db(\"\"\"\n",
    "    SELECT SUM(cnt) FROM movie_count\n",
    "\"\"\")"
   ]
  },
  {
   "cell_type": "markdown",
   "metadata": {},
   "source": [
    "Faça o *rollback* desta alteração, para não modificar a nossa querida base de dados *sakila*."
   ]
  },
  {
   "cell_type": "code",
   "execution_count": 31,
   "metadata": {},
   "outputs": [],
   "source": [
    "connection.rollback()"
   ]
  },
  {
   "cell_type": "markdown",
   "metadata": {},
   "source": [
    "## Tabelas temporárias"
   ]
  },
  {
   "cell_type": "markdown",
   "metadata": {},
   "source": [
    "Tabelas temporárias podem ser criadas para ajudar nas tarefas de manipulação de dados. Essas tabelas existem apenas pela duração da sessão. Para criar uma tabela temporária, basta adicionar a palavra-chave `TEMPORARY` no momento da criação.\n",
    "\n",
    "É comum criar tabelas temporárias à partir do resultado de comandos `SELECT`. Por exemplo, a seguinte query permite montar uma tabela temporária com os filmes que duram mais que 3 horas:"
   ]
  },
  {
   "cell_type": "code",
   "execution_count": 32,
   "metadata": {},
   "outputs": [
    {
     "name": "stdout",
     "output_type": "stream",
     "text": [
      "Executando query:\n",
      "Executando query:\n"
     ]
    }
   ],
   "source": [
    "db(\"\"\"\n",
    "DROP TABLE IF EXISTS long_film\n",
    "\"\"\")\n",
    "\n",
    "db(\"\"\"\n",
    "CREATE TEMPORARY TABLE long_film \n",
    "    SELECT\n",
    "        *\n",
    "    FROM\n",
    "        film\n",
    "    WHERE\n",
    "        film.length > 180;\n",
    "\"\"\")"
   ]
  },
  {
   "cell_type": "markdown",
   "metadata": {},
   "source": [
    "Podemos verificar que a tabela `long_film` agora existe:"
   ]
  },
  {
   "cell_type": "code",
   "execution_count": 33,
   "metadata": {
    "scrolled": true,
    "tags": []
   },
   "outputs": [
    {
     "name": "stdout",
     "output_type": "stream",
     "text": [
      "Executando query:\n",
      "('film_id', 'smallint unsigned', 'NO', '', '0', 'NULL')\n",
      "('title', 'varchar(128)', 'NO', '', None, 'NULL')\n",
      "('description', 'text', 'YES', '', None, 'NULL')\n",
      "('release_year', 'year', 'YES', '', None, 'NULL')\n",
      "('language_id', 'tinyint unsigned', 'NO', '', None, 'NULL')\n",
      "('original_language_id', 'tinyint unsigned', 'YES', '', None, 'NULL')\n",
      "('rental_duration', 'tinyint unsigned', 'NO', '', '3', 'NULL')\n",
      "('rental_rate', 'decimal(4,2)', 'NO', '', '4.99', 'NULL')\n",
      "('length', 'smallint unsigned', 'YES', '', None, 'NULL')\n",
      "('replacement_cost', 'decimal(5,2)', 'NO', '', '19.99', 'NULL')\n",
      "('rating', \"enum('G','PG','PG-13','R','NC-17')\", 'YES', '', 'G', 'NULL')\n",
      "('special_features', \"set('Trailers','Commentaries','Deleted Scenes','Behind the Scenes')\", 'YES', '', None, 'NULL')\n",
      "('last_update', 'timestamp', 'NO', '', 'CURRENT_TIMESTAMP', 'on update CURRENT_TIMESTAMP')\n"
     ]
    }
   ],
   "source": [
    "db(\"DESCRIBE long_film\")"
   ]
  },
  {
   "cell_type": "code",
   "execution_count": 34,
   "metadata": {},
   "outputs": [
    {
     "name": "stdout",
     "output_type": "stream",
     "text": [
      "Executando query:\n",
      "Executando query:\n",
      "('TEMPORARY',)\n"
     ]
    }
   ],
   "source": [
    "db(\"CALL sys.table_exists('sakila', 'long_film', @table_type);\")\n",
    "db(\"SELECT @table_type;\")"
   ]
  },
  {
   "cell_type": "markdown",
   "metadata": {},
   "source": [
    "Muito embora ela não apareça na lista de tabelas: isso é um bug do MySQL. (https://dev.mysql.com/worklog/task/?id=648)"
   ]
  },
  {
   "cell_type": "code",
   "execution_count": 35,
   "metadata": {},
   "outputs": [
    {
     "name": "stdout",
     "output_type": "stream",
     "text": [
      "Executando query:\n",
      "('actor',)\n",
      "('actor_info',)\n",
      "('address',)\n",
      "('category',)\n",
      "('city',)\n",
      "('country',)\n",
      "('customer',)\n",
      "('customer_list',)\n",
      "('film',)\n",
      "('film_actor',)\n",
      "('film_category',)\n",
      "('film_list',)\n",
      "('film_text',)\n",
      "('inventory',)\n",
      "('language',)\n",
      "('movie_count',)\n",
      "('nicer_but_slower_film_list',)\n",
      "('payment',)\n",
      "('rental',)\n",
      "('sales_by_film_category',)\n",
      "('sales_by_store',)\n",
      "('staff',)\n",
      "('staff_list',)\n",
      "('store',)\n"
     ]
    }
   ],
   "source": [
    "db(\"SHOW TABLES\")"
   ]
  },
  {
   "cell_type": "markdown",
   "metadata": {},
   "source": [
    "Vamos listar o conteudo desta tabela:"
   ]
  },
  {
   "cell_type": "code",
   "execution_count": 36,
   "metadata": {
    "tags": []
   },
   "outputs": [
    {
     "name": "stdout",
     "output_type": "stream",
     "text": [
      "Executando query:\n",
      "('ANALYZE HOOSIERS',)\n",
      "('BAKED CLEOPATRA',)\n",
      "('CATCH AMISTAD',)\n",
      "('CHICAGO NORTH',)\n",
      "('CONSPIRACY SPIRIT',)\n",
      "('CONTROL ANTHEM',)\n",
      "('CRYSTAL BREAKING',)\n",
      "('DARN FORRESTER',)\n",
      "('FRONTIER CABIN',)\n",
      "('GANGS PRIDE',)\n",
      "('HAUNTING PIANIST',)\n",
      "('HOME PITY',)\n",
      "('HOTEL HAPPINESS',)\n",
      "('INTRIGUE WORST',)\n",
      "('JACKET FRISCO',)\n",
      "('KING EVOLUTION',)\n",
      "('LAWLESS VISION',)\n",
      "('LOVE SUICIDES',)\n",
      "('MONSOON CAUSE',)\n",
      "('MOONWALKER FOOL',)\n",
      "('MUSCLE BRIGHT',)\n",
      "('POND SEATTLE',)\n",
      "('RECORDS ZORRO',)\n",
      "('REDS POCUS',)\n",
      "('RUNAWAY TENENBAUMS',)\n",
      "('SATURN NAME',)\n",
      "('SCALAWAG DUCK',)\n",
      "('SEARCHERS WAIT',)\n",
      "('SMOOCHY CONTROL',)\n",
      "('SOLDIERS EVOLUTION',)\n",
      "('SONS INTERVIEW',)\n",
      "('SORORITY QUEEN',)\n",
      "('STAR OPERATION',)\n",
      "('SWEET BROTHERHOOD',)\n",
      "('THEORY MERMAID',)\n",
      "('WIFE TURN',)\n",
      "('WILD APOLLO',)\n",
      "('WORST BANGER',)\n",
      "('YOUNG LANGUAGE',)\n"
     ]
    }
   ],
   "source": [
    "db(\"SELECT title FROM long_film\")"
   ]
  },
  {
   "cell_type": "markdown",
   "metadata": {},
   "source": [
    "Vamos apagar a tabela `long_film`:"
   ]
  },
  {
   "cell_type": "code",
   "execution_count": 37,
   "metadata": {},
   "outputs": [
    {
     "name": "stdout",
     "output_type": "stream",
     "text": [
      "Executando query:\n"
     ]
    }
   ],
   "source": [
    "db(\"DROP TABLE long_film\")"
   ]
  },
  {
   "cell_type": "markdown",
   "metadata": {},
   "source": [
    "### Vamos praticar"
   ]
  },
  {
   "cell_type": "markdown",
   "metadata": {},
   "source": [
    "- Crie uma tabela temporária `max_duration` que contém a duração máxima de filme para cada categoria. Apresente o id da categoria, seu nome e a duração máxima."
   ]
  },
  {
   "cell_type": "code",
   "execution_count": 38,
   "metadata": {},
   "outputs": [
    {
     "name": "stdout",
     "output_type": "stream",
     "text": [
      "Executando query:\n",
      "Executando query:\n"
     ]
    }
   ],
   "source": [
    "# Executamos o DROP apenas localmente, sem enviar ao servidor\n",
    "db(\"DROP TABLE IF EXISTS max_duration\")\n",
    "\n",
    "sql_ex05 = \"\"\"\n",
    "CREATE TEMPORARY TABLE max_duration\n",
    "    SELECT\n",
    "        fc.category_id,\n",
    "        c.name,\n",
    "        MAX(f.length) AS max_len\n",
    "    FROM\n",
    "        film AS f\n",
    "    JOIN \n",
    "        film_category AS fc ON f.film_id = fc.film_id\n",
    "    JOIN\n",
    "        category AS c ON fc.category_id = c.category_id\n",
    "    GROUP BY\n",
    "        fc.category_id\n",
    "\"\"\"\n",
    "\n",
    "db(sql_ex05)"
   ]
  },
  {
   "cell_type": "code",
   "execution_count": 39,
   "metadata": {},
   "outputs": [
    {
     "data": {
      "application/vnd.jupyter.widget-view+json": {
       "model_id": "c8cc67e4c7244b7caa1e3558b19f6dd0",
       "version_major": 2,
       "version_minor": 0
      },
      "text/plain": [
       "interactive(children=(Button(description='Enviar ex05', style=ButtonStyle()), Output()), _dom_classes=('widget…"
      ]
     },
     "execution_count": 39,
     "metadata": {},
     "output_type": "execute_result"
    }
   ],
   "source": [
    "ia.sender(answer=\"sql_ex05\", task=\"views\", question=\"ex05\", answer_type=\"pyvar\")"
   ]
  },
  {
   "cell_type": "markdown",
   "metadata": {},
   "source": [
    " - Verifique a tabela."
   ]
  },
  {
   "cell_type": "code",
   "execution_count": 40,
   "metadata": {},
   "outputs": [
    {
     "name": "stdout",
     "output_type": "stream",
     "text": [
      "Executando query:\n",
      "(1, 'Action', 185)\n",
      "(2, 'Animation', 185)\n",
      "(3, 'Children', 178)\n",
      "(4, 'Classics', 184)\n",
      "(5, 'Comedy', 185)\n",
      "(6, 'Documentary', 183)\n",
      "(7, 'Drama', 181)\n",
      "(8, 'Family', 184)\n",
      "(9, 'Foreign', 184)\n",
      "(10, 'Games', 185)\n",
      "(11, 'Horror', 181)\n",
      "(12, 'Music', 185)\n",
      "(13, 'New', 183)\n",
      "(14, 'Sci-Fi', 185)\n",
      "(15, 'Sports', 184)\n",
      "(16, 'Travel', 185)\n"
     ]
    }
   ],
   "source": [
    "db(\"SELECT * FROM max_duration\")"
   ]
  },
  {
   "cell_type": "code",
   "execution_count": 41,
   "metadata": {},
   "outputs": [
    {
     "name": "stdout",
     "output_type": "stream",
     "text": [
      "Executando query:\n",
      "('category_id', 'tinyint unsigned', 'NO', '', None, 'NULL')\n",
      "('name', 'varchar(25)', 'NO', '', None, 'NULL')\n",
      "('max_len', 'smallint unsigned', 'YES', '', None, 'NULL')\n"
     ]
    }
   ],
   "source": [
    "db(\"DESCRIBE max_duration\")"
   ]
  },
  {
   "cell_type": "markdown",
   "metadata": {},
   "source": [
    "- Agora use a tabela temporária para construir uma consulta com as categorias e seus respectivos filmes mais longos:"
   ]
  },
  {
   "cell_type": "code",
   "execution_count": 42,
   "metadata": {},
   "outputs": [
    {
     "name": "stdout",
     "output_type": "stream",
     "text": [
      "Executando query:\n",
      "(1, 'Action', 212, 'DARN FORRESTER', 185)\n",
      "(1, 'Action', 991, 'WORST BANGER', 185)\n",
      "(2, 'Animation', 349, 'GANGS PRIDE', 185)\n",
      "(2, 'Animation', 690, 'POND SEATTLE', 185)\n",
      "(3, 'Children', 344, 'FURY MURDER', 178)\n",
      "(3, 'Children', 993, 'WRONG BEHAVIOR', 178)\n",
      "(4, 'Classics', 180, 'CONSPIRACY SPIRIT', 184)\n",
      "(5, 'Comedy', 182, 'CONTROL ANTHEM', 185)\n",
      "(6, 'Documentary', 973, 'WIFE TURN', 183)\n",
      "(6, 'Documentary', 996, 'YOUNG LANGUAGE', 183)\n",
      "(7, 'Drama', 473, 'JACKET FRISCO', 181)\n",
      "(8, 'Family', 499, 'KING EVOLUTION', 184)\n",
      "(9, 'Foreign', 198, 'CRYSTAL BREAKING', 184)\n",
      "(9, 'Foreign', 821, 'SORORITY QUEEN', 184)\n",
      "(10, 'Games', 141, 'CHICAGO NORTH', 185)\n",
      "(11, 'Horror', 24, 'ANALYZE HOOSIERS', 181)\n",
      "(11, 'Horror', 535, 'LOVE SUICIDES', 181)\n",
      "(12, 'Music', 426, 'HOME PITY', 185)\n",
      "(13, 'New', 340, 'FRONTIER CABIN', 183)\n",
      "(14, 'Sci-Fi', 817, 'SOLDIERS EVOLUTION', 185)\n",
      "(15, 'Sports', 813, 'SMOOCHY CONTROL', 184)\n",
      "(16, 'Travel', 609, 'MUSCLE BRIGHT', 185)\n",
      "(16, 'Travel', 872, 'SWEET BROTHERHOOD', 185)\n"
     ]
    }
   ],
   "source": [
    "db(\"\"\"\n",
    "SELECT\n",
    "    category_id, name, film_id, title, length\n",
    "FROM\n",
    "    film\n",
    "    INNER JOIN film_category USING (film_id)\n",
    "    INNER JOIN max_duration USING (category_id)\n",
    "WHERE\n",
    "    length = max_len\n",
    "\"\"\")"
   ]
  },
  {
   "cell_type": "markdown",
   "metadata": {},
   "source": [
    "- delete a tabela temporária"
   ]
  },
  {
   "cell_type": "code",
   "execution_count": 43,
   "metadata": {},
   "outputs": [
    {
     "name": "stdout",
     "output_type": "stream",
     "text": [
      "Executando query:\n"
     ]
    }
   ],
   "source": [
    "db(\"\"\"\n",
    "DROP TABLE max_duration\n",
    "\"\"\")"
   ]
  },
  {
   "cell_type": "markdown",
   "metadata": {
    "tags": []
   },
   "source": [
    "## Variáveis\n",
    "\n",
    "Podemos montar uma query que retorne um valor só e armazenar este valor em uma variável, para uso posterior em outras queries. Para isso vamos usar o prefixo '@' para indicar variáveis, e o comando `SELECT ... INTO`.\n",
    "\n",
    "Exemplo: quais são os filmes \"caros\" da nossa base sakila? Vamos descobrir quais filmes custam mais que um desvio padrão acima da média de preços de locação.\n",
    "\n",
    "Primeiro vamos calcular a média e o desvio padrão dos preços de aluguel:"
   ]
  },
  {
   "cell_type": "code",
   "execution_count": 44,
   "metadata": {},
   "outputs": [
    {
     "name": "stdout",
     "output_type": "stream",
     "text": [
      "Executando query:\n"
     ]
    }
   ],
   "source": [
    "db(\"\"\"\n",
    "SELECT \n",
    "    AVG(rental_rate), \n",
    "    STDDEV(rental_rate)\n",
    "INTO \n",
    "    @avg_rate, \n",
    "    @stddev_rate \n",
    "FROM\n",
    "    film;\n",
    "\"\"\")"
   ]
  },
  {
   "cell_type": "markdown",
   "metadata": {},
   "source": [
    "Note que a query não retorna um resultado: o resultado foi armazenado direto nas variáveis `@avg_rate` e `@stddev_rate`. Vamos usar um `SELECT` sem tabelas para ver o resultado:"
   ]
  },
  {
   "cell_type": "code",
   "execution_count": 45,
   "metadata": {},
   "outputs": [
    {
     "name": "stdout",
     "output_type": "stream",
     "text": [
      "Executando query:\n",
      "(Decimal('2.980000000'), 1.6455698101265719)\n"
     ]
    }
   ],
   "source": [
    "db(\"SELECT @avg_rate, @stddev_rate\")"
   ]
  },
  {
   "cell_type": "markdown",
   "metadata": {},
   "source": [
    "Agora podemos selecionar os filmes caros!"
   ]
  },
  {
   "cell_type": "code",
   "execution_count": 46,
   "metadata": {
    "tags": []
   },
   "outputs": [
    {
     "name": "stdout",
     "output_type": "stream",
     "text": [
      "Executando query:\n",
      "('ACE GOLDFINGER', Decimal('4.99'))\n",
      "('AIRPLANE SIERRA', Decimal('4.99'))\n",
      "('AIRPORT POLLOCK', Decimal('4.99'))\n",
      "('ALADDIN CALENDAR', Decimal('4.99'))\n",
      "('ALI FOREVER', Decimal('4.99'))\n",
      "('AMELIE HELLFIGHTERS', Decimal('4.99'))\n",
      "('AMERICAN CIRCUS', Decimal('4.99'))\n",
      "('ANTHEM LUKE', Decimal('4.99'))\n",
      "('APACHE DIVINE', Decimal('4.99'))\n",
      "('APOCALYPSE FLAMINGOS', Decimal('4.99'))\n"
     ]
    }
   ],
   "source": [
    "db(\"\"\"\n",
    "SELECT \n",
    "    title, rental_rate\n",
    "FROM\n",
    "    film\n",
    "WHERE\n",
    "    rental_rate > @avg_rate + @stddev_rate\n",
    "LIMIT 10\n",
    "\"\"\")"
   ]
  },
  {
   "cell_type": "markdown",
   "metadata": {},
   "source": [
    "### Vamos praticar"
   ]
  },
  {
   "cell_type": "markdown",
   "metadata": {},
   "source": [
    "Armazene na variável temporária `max_films` a quantidade de filmes feitos pelo ator ou atriz que mais participou de filmes."
   ]
  },
  {
   "cell_type": "code",
   "execution_count": 52,
   "metadata": {},
   "outputs": [
    {
     "name": "stdout",
     "output_type": "stream",
     "text": [
      "Executando query:\n"
     ]
    }
   ],
   "source": [
    "sql_ex06 = \"\"\"\n",
    "SELECT\n",
    "    COUNT(film.film_id)\n",
    "INTO\n",
    "    @max_films\n",
    "FROM\n",
    "    film\n",
    "    INNER JOIN film_actor USING (film_id)\n",
    "    INNER JOIN actor USING (actor_id)\n",
    "GROUP BY\n",
    "    actor_id\n",
    "ORDER BY\n",
    "    COUNT(film.film_id) DESC\n",
    "LIMIT 1\n",
    "\"\"\"\n",
    "\n",
    "db(sql_ex06)"
   ]
  },
  {
   "cell_type": "code",
   "execution_count": 53,
   "metadata": {},
   "outputs": [
    {
     "name": "stdout",
     "output_type": "stream",
     "text": [
      "Executando query:\n",
      "(42,)\n"
     ]
    }
   ],
   "source": [
    "db(\"\"\"\n",
    "SELECT @max_films\n",
    "\"\"\")"
   ]
  },
  {
   "cell_type": "code",
   "execution_count": 51,
   "metadata": {},
   "outputs": [
    {
     "data": {
      "application/vnd.jupyter.widget-view+json": {
       "model_id": "b7455bfa70744037967b7e125655f29a",
       "version_major": 2,
       "version_minor": 0
      },
      "text/plain": [
       "interactive(children=(Button(description='Enviar ex06', style=ButtonStyle()), Output()), _dom_classes=('widget…"
      ]
     },
     "execution_count": 51,
     "metadata": {},
     "output_type": "execute_result"
    }
   ],
   "source": [
    "ia.sender(answer=\"sql_ex06\", task=\"views\", question=\"ex06\", answer_type=\"pyvar\")"
   ]
  },
  {
   "cell_type": "markdown",
   "metadata": {},
   "source": [
    "## Operador `IN`"
   ]
  },
  {
   "cell_type": "markdown",
   "metadata": {},
   "source": [
    "Suponha que desejamos listar todos os filmes dos 3 atores mais populares. Podemos começar listando os 3 atores mais populares:"
   ]
  },
  {
   "cell_type": "code",
   "execution_count": 54,
   "metadata": {},
   "outputs": [
    {
     "name": "stdout",
     "output_type": "stream",
     "text": [
      "Executando query:\n",
      "(107, 'GINA', 'DEGENERES', 42)\n",
      "(102, 'WALTER', 'TORN', 41)\n",
      "(198, 'MARY', 'KEITEL', 40)\n"
     ]
    }
   ],
   "source": [
    "db(\"\"\"\n",
    "SELECT \n",
    "    actor_id, first_name, last_name, COUNT(film_id) AS num_films\n",
    "FROM\n",
    "    actor\n",
    "    INNER JOIN film_actor USING (actor_id)\n",
    "GROUP BY \n",
    "    actor_id\n",
    "ORDER BY \n",
    "    num_films DESC\n",
    "LIMIT 3\n",
    "\"\"\")"
   ]
  },
  {
   "cell_type": "markdown",
   "metadata": {},
   "source": [
    "Vamos criar uma tabela temporária para guardar a informação de `actor_id` desses atores:"
   ]
  },
  {
   "cell_type": "code",
   "execution_count": 55,
   "metadata": {},
   "outputs": [
    {
     "name": "stdout",
     "output_type": "stream",
     "text": [
      "Executando query:\n",
      "Executando query:\n",
      "Executando query:\n",
      "('GINA', 'DEGENERES', 107)\n",
      "('WALTER', 'TORN', 102)\n",
      "('MARY', 'KEITEL', 198)\n"
     ]
    }
   ],
   "source": [
    "db(\"DROP TABLE IF EXISTS temp_pop_actors\")\n",
    "db(\"\"\"\n",
    "CREATE TEMPORARY TABLE temp_pop_actors\n",
    "    SELECT first_name, last_name, actor_id FROM\n",
    "        actor\n",
    "        INNER JOIN film_actor USING (actor_id)\n",
    "    GROUP BY \n",
    "        actor_id\n",
    "    ORDER BY \n",
    "        COUNT(film_id) DESC\n",
    "    LIMIT 3\n",
    "\"\"\")\n",
    "db(\"\"\"\n",
    "SELECT * from temp_pop_actors\n",
    "\"\"\")"
   ]
  },
  {
   "cell_type": "markdown",
   "metadata": {},
   "source": [
    "Por fim, vamos usar essa informação para listar os filmes dos atores populares:"
   ]
  },
  {
   "cell_type": "code",
   "execution_count": 56,
   "metadata": {},
   "outputs": [
    {
     "name": "stdout",
     "output_type": "stream",
     "text": [
      "Executando query:\n",
      "('BED HIGHBALL',)\n",
      "('CALENDAR GUNFIGHT',)\n",
      "('CHAMBER ITALIAN',)\n",
      "('CHAPLIN LICENSE',)\n",
      "('CHARIOTS CONSPIRACY',)\n",
      "('CLUELESS BUCKET',)\n",
      "('COLDBLOODED DARLING',)\n",
      "('CONEHEADS SMOOCHY',)\n",
      "('DARKNESS WAR',)\n",
      "('DEER VIRGINIAN',)\n",
      "('DOGMA FAMILY',)\n",
      "('ELEPHANT TROJAN',)\n",
      "('EXCITEMENT EVE',)\n",
      "('FRISCO FORREST',)\n",
      "('GANDHI KWAI',)\n",
      "('GOODFELLAS SALUTE',)\n",
      "('GUNFIGHT MOON',)\n",
      "('HALL CASSIDY',)\n",
      "('HEARTBREAKERS BRIGHT',)\n",
      "('HOOK CHARIOTS',)\n",
      "('HYDE DOCTOR',)\n",
      "('IMPACT ALADDIN',)\n",
      "('INDIAN LOVE',)\n",
      "('INTRIGUE WORST',)\n",
      "('LICENSE WEEKEND',)\n",
      "('LOUISIANA HARRY',)\n",
      "('MAGNIFICENT CHITTY',)\n",
      "('METAL ARMAGEDDON',)\n",
      "('MIDNIGHT WESTWARD',)\n",
      "('MOVIE SHAKESPEARE',)\n",
      "('MUMMY CREATURES',)\n",
      "('OPEN AFRICAN',)\n",
      "('SEARCHERS WAIT',)\n",
      "('SEVEN SWARM',)\n",
      "('SIERRA DIVIDE',)\n",
      "('SPIRITED CASUALTIES',)\n",
      "('STORM HAPPINESS',)\n",
      "('SUGAR WONKA',)\n",
      "('TELEGRAPH VOYAGE',)\n",
      "('TRAINSPOTTING STRANGERS',)\n",
      "('WIFE TURN',)\n",
      "('WINDOW SIDE',)\n",
      "('AMELIE HELLFIGHTERS',)\n",
      "('ARABIA DOGMA',)\n",
      "('BANG KWAI',)\n",
      "('CASABLANCA SUPER',)\n",
      "('CASPER DRAGONFLY',)\n",
      "('CROW GREASE',)\n",
      "('CURTAIN VIDEOTAPE',)\n",
      "('DANCES NONE',)\n",
      "('EARLY HOME',)\n",
      "('FLYING HOOK',)\n",
      "('FORREST SONS',)\n",
      "('FREDDY STORM',)\n",
      "('GASLIGHT CRUSADE',)\n",
      "('HOBBIT ALIEN',)\n",
      "('HOOSIERS BIRDCAGE',)\n",
      "('HYSTERICAL GRAIL',)\n",
      "('JERSEY SASSY',)\n",
      "('LAMBS CINCINATTI',)\n",
      "('LESSON CLEOPATRA',)\n",
      "('LIES TREATMENT',)\n",
      "('LOCK REAR',)\n",
      "('LONELY ELEPHANT',)\n",
      "('MADISON TRAP',)\n",
      "('MOTIONS DETAILS',)\n",
      "('MULHOLLAND BEAST',)\n",
      "('NIGHTMARE CHILL',)\n",
      "('NOVOCAINE FLIGHT',)\n",
      "('RAIDERS ANTITRUST',)\n",
      "('REUNION WITCHES',)\n",
      "('ROOTS REMEMBER',)\n",
      "('SKY MIRACLE',)\n",
      "('SLUMS DUCK',)\n",
      "('SPIKING ELEMENT',)\n",
      "('STAGE WORLD',)\n",
      "('STEPMOM DREAM',)\n",
      "('STRANGELOVE DESIRE',)\n",
      "('WARDROBE PHANTOM',)\n",
      "('WITCHES PANIC',)\n",
      "('WIZARD COLDBLOODED',)\n",
      "('ACADEMY DINOSAUR',)\n",
      "('BUTTERFLY CHOCOLAT',)\n",
      "('CASSIDY WYOMING',)\n",
      "('CRAFT OUTFIELD',)\n",
      "('DUMBO LUST',)\n",
      "('DWARFS ALTER',)\n",
      "('FANTASY TROOPERS',)\n",
      "('FEUD FROGMEN',)\n",
      "('FICTION CHRISTMAS',)\n",
      "('GAMES BOWFINGER',)\n",
      "('GREEDY ROOTS',)\n",
      "('HANDICAP BOONDOCK',)\n",
      "('HAUNTING PIANIST',)\n",
      "('IDOLS SNATCHERS',)\n",
      "('INTENTIONS EMPIRE',)\n",
      "('JEOPARDY ENCINO',)\n",
      "('KING EVOLUTION',)\n",
      "('LOVELY JINGLE',)\n",
      "('LUKE MUMMY',)\n",
      "('MADNESS ATTACKS',)\n",
      "('MALLRATS UNITED',)\n",
      "('MEMENTO ZOOLANDER',)\n",
      "('MERMAID INSECTS',)\n",
      "('MODEL FISH',)\n",
      "('MOONWALKER FOOL',)\n",
      "('NORTHWEST POLISH',)\n",
      "('ROSES TREASURE',)\n",
      "('SAINTS BRIDE',)\n",
      "('SLEEPY JAPANESE',)\n",
      "('SOLDIERS EVOLUTION',)\n",
      "('STEEL SANTA',)\n",
      "('SUBMARINE BED',)\n",
      "('SWEDEN SHINING',)\n",
      "('THEORY MERMAID',)\n",
      "('TITANIC BOONDOCK',)\n",
      "('UNFORGIVEN ZOOLANDER',)\n",
      "('WAGON JAWS',)\n",
      "('YOUTH KICK',)\n"
     ]
    }
   ],
   "source": [
    "db(\"\"\"\n",
    "SELECT DISTINCT\n",
    "    title\n",
    "FROM\n",
    "    film\n",
    "    INNER JOIN film_actor USING (film_id)\n",
    "WHERE\n",
    "    actor_id IN (SELECT actor_id FROM temp_pop_actors);\n",
    "\"\"\")"
   ]
  },
  {
   "cell_type": "markdown",
   "metadata": {},
   "source": [
    "Note o uso de *subqueries*!\n",
    "\n",
    "Não se esqueça de limpar tudo no final!"
   ]
  },
  {
   "cell_type": "code",
   "execution_count": 57,
   "metadata": {},
   "outputs": [
    {
     "name": "stdout",
     "output_type": "stream",
     "text": [
      "Executando query:\n"
     ]
    }
   ],
   "source": [
    "db(\"DROP TABLE temp_pop_actors\")"
   ]
  },
  {
   "cell_type": "markdown",
   "metadata": {},
   "source": [
    "### Vamos praticar"
   ]
  },
  {
   "cell_type": "markdown",
   "metadata": {},
   "source": [
    "Liste os atores (id, nome e sobrenome) que participaram dos 3 filmes mais rentáveis (aqueles que mais geraram receita para a locadora) ordenados pelo id do ator de modo crescente. Para isso, crie uma tabela temporária contendo o id do filme e a quantia total e use essa tabela para listar os atores."
   ]
  },
  {
   "cell_type": "code",
   "execution_count": 60,
   "metadata": {},
   "outputs": [
    {
     "name": "stdout",
     "output_type": "stream",
     "text": [
      "Executando query:\n",
      "Executando query:\n",
      "Executando query:\n",
      "(879, Decimal('231.73'))\n",
      "(973, Decimal('223.69'))\n",
      "(1000, Decimal('214.69'))\n",
      "Executando query:\n",
      "(28, 'WOODY', 'HOFFMAN')\n",
      "(47, 'JULIA', 'BARRYMORE')\n",
      "(52, 'CARMEN', 'HUNT')\n",
      "(107, 'GINA', 'DEGENERES')\n",
      "(111, 'CAMERON', 'ZELLWEGER')\n",
      "(138, 'LUCILLE', 'DEE')\n",
      "(155, 'IAN', 'TANDY')\n",
      "(157, 'GRETA', 'MALDEN')\n",
      "(158, 'VIVIEN', 'BASINGER')\n",
      "(166, 'NICK', 'DEGENERES')\n",
      "(174, 'MICHAEL', 'BENING')\n",
      "(178, 'LISA', 'MONROE')\n",
      "(185, 'MICHAEL', 'BOLGER')\n",
      "(200, 'THORA', 'TEMPLE')\n"
     ]
    }
   ],
   "source": [
    "db('DROP TABLE IF EXISTS temp_pop_films')\n",
    "db('''\n",
    "CREATE TEMPORARY TABLE temp_pop_films\n",
    "    SELECT film_id, SUM(amount) AS total FROM\n",
    "        film\n",
    "        INNER JOIN inventory USING (film_id)\n",
    "        INNER JOIN rental USING (inventory_id)\n",
    "        INNER JOIN payment USING (rental_id)\n",
    "    GROUP BY\n",
    "        film_id\n",
    "    ORDER BY\n",
    "        total DESC\n",
    "    LIMIT 3\n",
    "''')\n",
    "db('''\n",
    "SELECT * from temp_pop_films\n",
    "''')\n",
    "db('''\n",
    "SELECT DISTINCT\n",
    "    actor_id, first_name, last_name\n",
    "FROM\n",
    "    actor\n",
    "    INNER JOIN film_actor USING (actor_id)\n",
    "WHERE\n",
    "    film_id IN (SELECT film_id FROM temp_pop_films)\n",
    "ORDER BY\n",
    "    actor_id\n",
    "''')"
   ]
  },
  {
   "cell_type": "code",
   "execution_count": 61,
   "metadata": {},
   "outputs": [
    {
     "data": {
      "application/vnd.jupyter.widget-view+json": {
       "model_id": "5c5db9d7378b4a5daf01cd7d2c84d81e",
       "version_major": 2,
       "version_minor": 0
      },
      "text/plain": [
       "interactive(children=(Button(description='Enviar ex07', style=ButtonStyle()), Output()), _dom_classes=('widget…"
      ]
     },
     "execution_count": 61,
     "metadata": {},
     "output_type": "execute_result"
    }
   ],
   "source": [
    "sql_ex07 = ['''\n",
    "CREATE TEMPORARY TABLE temp_pop_films\n",
    "    SELECT film_id, SUM(amount) AS total FROM\n",
    "        film\n",
    "        INNER JOIN inventory USING (film_id)\n",
    "        INNER JOIN rental USING (inventory_id)\n",
    "        INNER JOIN payment USING (rental_id)\n",
    "    GROUP BY\n",
    "        film_id\n",
    "    ORDER BY\n",
    "        total DESC\n",
    "    LIMIT 3\n",
    "''',\n",
    "'''\n",
    "SELECT DISTINCT\n",
    "    actor_id, first_name, last_name\n",
    "FROM\n",
    "    actor\n",
    "    INNER JOIN film_actor USING (actor_id)\n",
    "WHERE\n",
    "    film_id IN (SELECT film_id FROM temp_pop_films)\n",
    "ORDER BY\n",
    "    actor_id\n",
    "''']\n",
    "\n",
    "ia.sender(answer=\"sql_ex07\", task=\"views\", question=\"ex07\", answer_type=\"pyvar\")"
   ]
  },
  {
   "cell_type": "markdown",
   "metadata": {},
   "source": [
    "## Subqueries"
   ]
  },
  {
   "cell_type": "markdown",
   "metadata": {},
   "source": [
    "Os tópicos discutidos acima poderiam ser resolvidos, em grande parte, com subqueries. As subqueries são queries `SELECT` criadas dentro de outras queries. \n",
    "\n",
    "Poderíamos ter usado subqueries nos mesmos lugares onde usamos tabelas temporárias, nos tópicos acima. Quando a subquery pode ser transformada em uma tabela temporária independente, separada da query exterior, dizemos que a subquery é **não-correlacionada** com a query exterior.\n",
    "\n",
    "Usar subqueries não-correlacionadas é um tópico controverso: podemos sempre usar uma tabela temporária ou, ás vezes, pensar em um `JOIN` simples. Aliás, muitas vezes o otimizador de queries do banco de dados transformará a subquery em `JOIN`, se isso for vantajoso em termos de desempenho.\n",
    "\n",
    "Uma subquery que depende da query externa (e portanto não pode ser separada em uma tabela temporária independente) é chamada de **subquery correlacionada**. Nestes casos podemos ter que executar a subquery para cada linha da query exterior! "
   ]
  },
  {
   "cell_type": "markdown",
   "metadata": {},
   "source": [
    "### Vamos praticar"
   ]
  },
  {
   "cell_type": "markdown",
   "metadata": {},
   "source": [
    "Vamos refazer a atividade dos atores dos filmes mais rentáveis, usando subqueries. \n",
    "\n",
    "Temos um problema: o MySQL não suporta ``LIMIT`` em subqueries com o operador ``IN``. Vamos investigar isso mais de perto. \n",
    "\n",
    "Em primeiro lugar faça uma tradução direta da implementação da atividade anterior trocando tabela temporária por subquery."
   ]
  },
  {
   "cell_type": "code",
   "execution_count": 62,
   "metadata": {},
   "outputs": [
    {
     "name": "stdout",
     "output_type": "stream",
     "text": [
      "Executando query:\n",
      "(28, 'WOODY', 'HOFFMAN')\n",
      "(47, 'JULIA', 'BARRYMORE')\n",
      "(52, 'CARMEN', 'HUNT')\n",
      "(107, 'GINA', 'DEGENERES')\n",
      "(111, 'CAMERON', 'ZELLWEGER')\n",
      "(138, 'LUCILLE', 'DEE')\n",
      "(155, 'IAN', 'TANDY')\n",
      "(157, 'GRETA', 'MALDEN')\n",
      "(158, 'VIVIEN', 'BASINGER')\n",
      "(166, 'NICK', 'DEGENERES')\n",
      "(174, 'MICHAEL', 'BENING')\n",
      "(178, 'LISA', 'MONROE')\n",
      "(185, 'MICHAEL', 'BOLGER')\n",
      "(200, 'THORA', 'TEMPLE')\n"
     ]
    }
   ],
   "source": [
    "try:\n",
    "    db('''\n",
    "    SELECT DISTINCT\n",
    "        actor_id, first_name, last_name\n",
    "    FROM\n",
    "        actor\n",
    "        INNER JOIN film_actor USING (actor_id)\n",
    "    WHERE\n",
    "        film_id IN (SELECT film_id FROM (\n",
    "            SELECT film_id, SUM(amount) AS total FROM\n",
    "                film\n",
    "                INNER JOIN inventory USING (film_id)\n",
    "                INNER JOIN rental USING (inventory_id)\n",
    "                INNER JOIN payment USING (rental_id)\n",
    "            GROUP BY\n",
    "                film_id\n",
    "            ORDER BY\n",
    "                total DESC\n",
    "            LIMIT 3\n",
    "        ) AS temp_pop_films)\n",
    "    ORDER BY\n",
    "        actor_id\n",
    "    ''')\n",
    "except mysql.connector.ProgrammingError as e:\n",
    "    print(f'ProgrammingError: {e}')"
   ]
  },
  {
   "cell_type": "markdown",
   "metadata": {},
   "source": [
    "Ok, apareceu o problema. Mas considere que o problema original não precisava de IN desde o começo! Construa essa solução."
   ]
  },
  {
   "cell_type": "code",
   "execution_count": 63,
   "metadata": {},
   "outputs": [
    {
     "name": "stdout",
     "output_type": "stream",
     "text": [
      "Executando query:\n",
      "(28, 'WOODY', 'HOFFMAN')\n",
      "(47, 'JULIA', 'BARRYMORE')\n",
      "(52, 'CARMEN', 'HUNT')\n",
      "(107, 'GINA', 'DEGENERES')\n",
      "(111, 'CAMERON', 'ZELLWEGER')\n",
      "(138, 'LUCILLE', 'DEE')\n",
      "(155, 'IAN', 'TANDY')\n",
      "(157, 'GRETA', 'MALDEN')\n",
      "(158, 'VIVIEN', 'BASINGER')\n",
      "(166, 'NICK', 'DEGENERES')\n",
      "(174, 'MICHAEL', 'BENING')\n",
      "(178, 'LISA', 'MONROE')\n",
      "(185, 'MICHAEL', 'BOLGER')\n",
      "(200, 'THORA', 'TEMPLE')\n"
     ]
    }
   ],
   "source": [
    "sql_ex08 = '''\n",
    "SELECT DISTINCT\n",
    "    actor_id, first_name, last_name\n",
    "FROM\n",
    "    actor\n",
    "    INNER JOIN film_actor USING (actor_id)\n",
    "    INNER JOIN (\n",
    "        SELECT film_id, SUM(amount) AS total FROM\n",
    "            film\n",
    "            INNER JOIN inventory USING (film_id)\n",
    "            INNER JOIN rental USING (inventory_id)\n",
    "            INNER JOIN payment USING (rental_id)\n",
    "        GROUP BY\n",
    "            film_id\n",
    "        ORDER BY\n",
    "            total DESC\n",
    "        LIMIT 3\n",
    "    ) AS temp_pop_films USING (film_id)\n",
    "ORDER BY\n",
    "    actor_id\n",
    "'''\n",
    "\n",
    "db(sql_ex08)"
   ]
  },
  {
   "cell_type": "code",
   "execution_count": 64,
   "metadata": {},
   "outputs": [
    {
     "data": {
      "application/vnd.jupyter.widget-view+json": {
       "model_id": "bd1e0ef2bcda421b8c71db2334635292",
       "version_major": 2,
       "version_minor": 0
      },
      "text/plain": [
       "interactive(children=(Button(description='Enviar ex08', style=ButtonStyle()), Output()), _dom_classes=('widget…"
      ]
     },
     "execution_count": 64,
     "metadata": {},
     "output_type": "execute_result"
    }
   ],
   "source": [
    "ia.sender(answer=\"sql_ex08\", task=\"views\", question=\"ex08\", answer_type=\"pyvar\")"
   ]
  },
  {
   "cell_type": "markdown",
   "metadata": {},
   "source": [
    "# `UNION`\n",
    "\n",
    "Quando duas tabelas tem **EXATAMENTE** as mesmas colunas, podemos concatená-las e formar uma grande tabela unificada usando o operador `UNION`. Por exemplo: suponha que desejamos montar uma lista dos nomes e sobrenomes de todos os clientes E de todos os funcionários. Eis uma solução possível:"
   ]
  },
  {
   "cell_type": "code",
   "execution_count": 65,
   "metadata": {},
   "outputs": [
    {
     "name": "stdout",
     "output_type": "stream",
     "text": [
      "Executando query:\n",
      "Executando query:\n"
     ]
    }
   ],
   "source": [
    "db(\"DROP TABLE IF EXISTS nomes_clientes\")\n",
    "db(\"\"\"\n",
    "CREATE TEMPORARY TABLE nomes_clientes \n",
    "    SELECT first_name, last_name FROM customer\n",
    "\"\"\")"
   ]
  },
  {
   "cell_type": "code",
   "execution_count": 66,
   "metadata": {},
   "outputs": [
    {
     "name": "stdout",
     "output_type": "stream",
     "text": [
      "Executando query:\n",
      "('first_name', 'varchar(45)', 'NO', '', None, 'NULL')\n",
      "('last_name', 'varchar(45)', 'NO', '', None, 'NULL')\n",
      "Executando query:\n",
      "('MARY', 'SMITH')\n",
      "('PATRICIA', 'JOHNSON')\n",
      "('LINDA', 'WILLIAMS')\n",
      "('BARBARA', 'JONES')\n",
      "('ELIZABETH', 'BROWN')\n"
     ]
    }
   ],
   "source": [
    "db(\"DESCRIBE nomes_clientes\")\n",
    "db(\"SELECT * FROM nomes_clientes LIMIT 5\")"
   ]
  },
  {
   "cell_type": "code",
   "execution_count": 67,
   "metadata": {},
   "outputs": [
    {
     "name": "stdout",
     "output_type": "stream",
     "text": [
      "Executando query:\n",
      "Executando query:\n"
     ]
    }
   ],
   "source": [
    "db(\"DROP TABLE IF EXISTS nomes_staff\")\n",
    "db(\"\"\"\n",
    "CREATE TEMPORARY TABLE nomes_staff \n",
    "    SELECT first_name, last_name FROM staff\n",
    "\"\"\")"
   ]
  },
  {
   "cell_type": "code",
   "execution_count": 68,
   "metadata": {},
   "outputs": [
    {
     "name": "stdout",
     "output_type": "stream",
     "text": [
      "Executando query:\n",
      "('first_name', 'varchar(45)', 'NO', '', None, 'NULL')\n",
      "('last_name', 'varchar(45)', 'NO', '', None, 'NULL')\n",
      "Executando query:\n",
      "('Mike', 'Hillyer')\n",
      "('Jon', 'Stephens')\n"
     ]
    }
   ],
   "source": [
    "db(\"DESCRIBE nomes_staff\")\n",
    "db(\"SELECT * FROM nomes_staff LIMIT 5\")"
   ]
  },
  {
   "cell_type": "code",
   "execution_count": 69,
   "metadata": {},
   "outputs": [
    {
     "name": "stdout",
     "output_type": "stream",
     "text": [
      "Executando query:\n",
      "Executando query:\n"
     ]
    }
   ],
   "source": [
    "db(\"DROP TABLE IF EXISTS nomes_all\")\n",
    "db(\"\"\"\n",
    "CREATE TEMPORARY TABLE nomes_all \n",
    "    (SELECT * FROM nomes_staff)\n",
    "    UNION \n",
    "    (SELECT * FROM nomes_clientes)\n",
    "\"\"\")"
   ]
  },
  {
   "cell_type": "code",
   "execution_count": 70,
   "metadata": {},
   "outputs": [
    {
     "name": "stdout",
     "output_type": "stream",
     "text": [
      "Executando query:\n",
      "('first_name', 'varchar(45)', 'NO', '', '', 'NULL')\n",
      "('last_name', 'varchar(45)', 'NO', '', '', 'NULL')\n",
      "Executando query:\n",
      "('Mike', 'Hillyer')\n",
      "('Jon', 'Stephens')\n",
      "('MARY', 'SMITH')\n",
      "('PATRICIA', 'JOHNSON')\n",
      "('LINDA', 'WILLIAMS')\n"
     ]
    }
   ],
   "source": [
    "db(\"DESCRIBE nomes_all\")\n",
    "db(\"SELECT * FROM nomes_all LIMIT 5\")"
   ]
  },
  {
   "cell_type": "code",
   "execution_count": 71,
   "metadata": {},
   "outputs": [
    {
     "name": "stdout",
     "output_type": "stream",
     "text": [
      "Executando query:\n",
      "Executando query:\n",
      "Executando query:\n"
     ]
    }
   ],
   "source": [
    "db(\"DROP TABLE IF EXISTS nomes_clientes\")\n",
    "db(\"DROP TABLE IF EXISTS nomes_staff\")\n",
    "db(\"DROP TABLE IF EXISTS nomes_all\")"
   ]
  },
  {
   "cell_type": "markdown",
   "metadata": {},
   "source": [
    "**Vamos praticar:** refaça o exemplo acima mas use *subqueries* ao invés de *temp tables*. Ordene de forma ascendente por first_name e last_name."
   ]
  },
  {
   "cell_type": "code",
   "execution_count": 72,
   "metadata": {},
   "outputs": [
    {
     "name": "stdout",
     "output_type": "stream",
     "text": [
      "Executando query:\n",
      "('AARON', 'SELBY')\n",
      "('ADAM', 'GOOCH')\n",
      "('ADRIAN', 'CLARY')\n",
      "('AGNES', 'BISHOP')\n",
      "('ALAN', 'KAHN')\n",
      "('ALBERT', 'CROUSE')\n",
      "('ALBERTO', 'HENNING')\n",
      "('ALEX', 'GRESHAM')\n",
      "('ALEXANDER', 'FENNELL')\n",
      "('ALFRED', 'CASILLAS')\n",
      "('ALFREDO', 'MCADAMS')\n",
      "('ALICE', 'STEWART')\n",
      "('ALICIA', 'MILLS')\n",
      "('ALLAN', 'CORNISH')\n",
      "('ALLEN', 'BUTTERFIELD')\n",
      "('ALLISON', 'STANLEY')\n",
      "('ALMA', 'AUSTIN')\n",
      "('ALVIN', 'DELOACH')\n",
      "('AMANDA', 'CARTER')\n",
      "('AMBER', 'DIXON')\n",
      "('AMY', 'LOPEZ')\n",
      "('ANA', 'BRADLEY')\n",
      "('ANDRE', 'RAPP')\n",
      "('ANDREA', 'HENDERSON')\n",
      "('ANDREW', 'PURDY')\n",
      "('ANDY', 'VANHORN')\n",
      "('ANGEL', 'BARCLAY')\n",
      "('ANGELA', 'HERNANDEZ')\n",
      "('ANITA', 'MORALES')\n",
      "('ANN', 'EVANS')\n",
      "('ANNA', 'HILL')\n",
      "('ANNE', 'POWELL')\n",
      "('ANNETTE', 'OLSON')\n",
      "('ANNIE', 'RUSSELL')\n",
      "('ANTHONY', 'SCHWAB')\n",
      "('ANTONIO', 'MEEK')\n",
      "('APRIL', 'BURNS')\n",
      "('ARLENE', 'HARVEY')\n",
      "('ARMANDO', 'GRUBER')\n",
      "('ARNOLD', 'HAVENS')\n",
      "('ARTHUR', 'SIMPKINS')\n",
      "('ASHLEY', 'RICHARDSON')\n",
      "('AUDREY', 'RAY')\n",
      "('AUSTIN', 'CINTRON')\n",
      "('BARBARA', 'JONES')\n",
      "('BARRY', 'LOVELACE')\n",
      "('BEATRICE', 'ARNOLD')\n",
      "('BECKY', 'MILES')\n",
      "('BEN', 'EASTER')\n",
      "('BENJAMIN', 'VARNEY')\n",
      "('BERNARD', 'COLBY')\n",
      "('BERNICE', 'WILLIS')\n",
      "('BERTHA', 'FERGUSON')\n",
      "('BESSIE', 'MORRISON')\n",
      "('BETH', 'FRANKLIN')\n",
      "('BETTY', 'WHITE')\n",
      "('BEVERLY', 'BROOKS')\n",
      "('BILL', 'GAVIN')\n",
      "('BILLIE', 'HORTON')\n",
      "('BILLY', 'POULIN')\n",
      "('BOB', 'PFEIFFER')\n",
      "('BOBBIE', 'CRAIG')\n",
      "('BOBBY', 'BOUDREAU')\n",
      "('BONNIE', 'HUGHES')\n",
      "('BRAD', 'MCCURDY')\n",
      "('BRADLEY', 'MOTLEY')\n",
      "('BRANDON', 'HUEY')\n",
      "('BRANDY', 'GRAVES')\n",
      "('BRENDA', 'WRIGHT')\n",
      "('BRENT', 'HARKINS')\n",
      "('BRETT', 'CORNWELL')\n",
      "('BRIAN', 'WYMAN')\n",
      "('BRITTANY', 'RILEY')\n",
      "('BRUCE', 'SCHWARZ')\n",
      "('BRYAN', 'HARDISON')\n",
      "('BYRON', 'BOX')\n",
      "('CALVIN', 'MARTEL')\n",
      "('CARL', 'ARTIS')\n",
      "('CARLA', 'GUTIERREZ')\n",
      "('CARLOS', 'COUGHLIN')\n",
      "('CARMEN', 'OWENS')\n",
      "('CAROL', 'GARCIA')\n",
      "('CAROLE', 'BARNETT')\n",
      "('CAROLINE', 'BOWMAN')\n",
      "('CAROLYN', 'PEREZ')\n",
      "('CARRIE', 'PORTER')\n",
      "('CASEY', 'MENA')\n",
      "('CASSANDRA', 'WALTERS')\n",
      "('CATHERINE', 'CAMPBELL')\n",
      "('CATHY', 'SPENCER')\n",
      "('CECIL', 'VINES')\n",
      "('CHAD', 'CARBONE')\n",
      "('CHARLENE', 'ALVAREZ')\n",
      "('CHARLES', 'KOWALSKI')\n",
      "('CHARLIE', 'BESS')\n",
      "('CHARLOTTE', 'HUNTER')\n",
      "('CHERYL', 'MURPHY')\n",
      "('CHESTER', 'BENNER')\n",
      "('CHRIS', 'BROTHERS')\n",
      "('CHRISTIAN', 'JUNG')\n",
      "('CHRISTINA', 'RAMIREZ')\n",
      "('CHRISTINE', 'ROBERTS')\n",
      "('CHRISTOPHER', 'GRECO')\n",
      "('CHRISTY', 'VARGAS')\n",
      "('CINDY', 'FISHER')\n",
      "('CLARA', 'SHAW')\n",
      "('CLARENCE', 'GAMEZ')\n",
      "('CLAUDE', 'HERZOG')\n",
      "('CLAUDIA', 'FULLER')\n",
      "('CLAYTON', 'BARBEE')\n",
      "('CLIFFORD', 'BOWENS')\n",
      "('CLIFTON', 'MALCOLM')\n",
      "('CLINTON', 'BUFORD')\n",
      "('CLYDE', 'TOBIAS')\n",
      "('CODY', 'NOLEN')\n",
      "('COLLEEN', 'BURTON')\n",
      "('CONNIE', 'WALLACE')\n",
      "('CONSTANCE', 'REID')\n",
      "('COREY', 'HAUSER')\n",
      "('CORY', 'MEEHAN')\n",
      "('COURTNEY', 'DAY')\n",
      "('CRAIG', 'MORRELL')\n",
      "('CRYSTAL', 'FORD')\n",
      "('CURTIS', 'IRBY')\n",
      "('CYNTHIA', 'YOUNG')\n",
      "('DAISY', 'BATES')\n",
      "('DALE', 'RATCLIFF')\n",
      "('DAN', 'PAINE')\n",
      "('DANA', 'HART')\n",
      "('DANIEL', 'CABRAL')\n",
      "('DANIELLE', 'DANIELS')\n",
      "('DANNY', 'ISOM')\n",
      "('DARLENE', 'ROSE')\n",
      "('DARRELL', 'POWER')\n",
      "('DARREN', 'WINDHAM')\n",
      "('DARRYL', 'ASHCRAFT')\n",
      "('DARYL', 'LARUE')\n",
      "('DAVE', 'GARDINER')\n",
      "('DAVID', 'ROYAL')\n",
      "('DAWN', 'SULLIVAN')\n",
      "('DEAN', 'SAUER')\n",
      "('DEANNA', 'BYRD')\n",
      "('DEBBIE', 'REYES')\n",
      "('DEBORAH', 'WALKER')\n",
      "('DEBRA', 'NELSON')\n",
      "('DELORES', 'HANSEN')\n",
      "('DENISE', 'KELLY')\n",
      "('DENNIS', 'GILMAN')\n",
      "('DEREK', 'BLAKELY')\n",
      "('DERRICK', 'BOURQUE')\n",
      "('DIANA', 'ALEXANDER')\n",
      "('DIANE', 'COLLINS')\n",
      "('DIANNE', 'SHELTON')\n",
      "('DOLORES', 'WAGNER')\n",
      "('DON', 'BONE')\n",
      "('DONALD', 'MAHON')\n",
      "('DONNA', 'THOMPSON')\n",
      "('DORA', 'MEDINA')\n",
      "('DORIS', 'REED')\n",
      "('DOROTHY', 'TAYLOR')\n",
      "('DOUGLAS', 'GRAF')\n",
      "('DUANE', 'TUBBS')\n",
      "('DUSTIN', 'GILLETTE')\n",
      "('DWAYNE', 'OLVERA')\n",
      "('DWIGHT', 'LOMBARDI')\n",
      "('EARL', 'SHANKS')\n",
      "('EDDIE', 'TOMLIN')\n",
      "('EDGAR', 'RHOADS')\n",
      "('EDITH', 'MCDONALD')\n",
      "('EDNA', 'WEST')\n",
      "('EDUARDO', 'HIATT')\n",
      "('EDWARD', 'BAUGH')\n",
      "('EDWIN', 'BURK')\n",
      "('EILEEN', 'CARR')\n",
      "('ELAINE', 'STEVENS')\n",
      "('ELEANOR', 'HUNT')\n",
      "('ELIZABETH', 'BROWN')\n",
      "('ELLA', 'OLIVER')\n",
      "('ELLEN', 'SIMPSON')\n",
      "('ELMER', 'NOE')\n",
      "('ELSIE', 'KELLEY')\n",
      "('EMILY', 'DIAZ')\n",
      "('EMMA', 'BOYD')\n",
      "('ENRIQUE', 'FORSYTHE')\n",
      "('ERIC', 'ROBERT')\n",
      "('ERICA', 'MATTHEWS')\n",
      "('ERIK', 'GUILLEN')\n",
      "('ERIKA', 'PENA')\n",
      "('ERIN', 'DUNN')\n",
      "('ERNEST', 'STEPP')\n",
      "('ESTHER', 'CRAWFORD')\n",
      "('ETHEL', 'WEBB')\n",
      "('EUGENE', 'CULPEPPER')\n",
      "('EVA', 'RAMOS')\n",
      "('EVELYN', 'MORGAN')\n",
      "('EVERETT', 'BANDA')\n",
      "('FELICIA', 'SUTTON')\n",
      "('FELIX', 'GAFFNEY')\n",
      "('FERNANDO', 'CHURCHILL')\n",
      "('FLORENCE', 'WOODS')\n",
      "('FLOYD', 'GANDY')\n",
      "('FRANCES', 'PARKER')\n",
      "('FRANCIS', 'SIKES')\n",
      "('FRANCISCO', 'SKIDMORE')\n",
      "('FRANK', 'WAGGONER')\n",
      "('FRANKLIN', 'TROUTMAN')\n",
      "('FRED', 'WHEAT')\n",
      "('FREDDIE', 'DUGGAN')\n",
      "('FREDERICK', 'ISBELL')\n",
      "('GABRIEL', 'HARDER')\n",
      "('GAIL', 'KNIGHT')\n",
      "('GARY', 'COY')\n",
      "('GENE', 'SANBORN')\n",
      "('GEORGE', 'LINTON')\n",
      "('GEORGIA', 'JACOBS')\n",
      "('GERALD', 'FULTZ')\n",
      "('GERALDINE', 'PERKINS')\n",
      "('GERTRUDE', 'CASTILLO')\n",
      "('GILBERT', 'SLEDGE')\n",
      "('GINA', 'WILLIAMSON')\n",
      "('GLADYS', 'HAMILTON')\n",
      "('GLEN', 'TALBERT')\n",
      "('GLENDA', 'FRAZIER')\n",
      "('GLENN', 'PULLEN')\n",
      "('GLORIA', 'COOK')\n",
      "('GORDON', 'ALLARD')\n",
      "('GRACE', 'ELLIS')\n",
      "('GREG', 'ROBINS')\n",
      "('GREGORY', 'MAULDIN')\n",
      "('GUY', 'BROWNLEE')\n",
      "('GWENDOLYN', 'MAY')\n",
      "('HAROLD', 'MARTINO')\n",
      "('HARRY', 'ARCE')\n",
      "('HARVEY', 'GUAJARDO')\n",
      "('HAZEL', 'WARREN')\n",
      "('HEATHER', 'MORRIS')\n",
      "('HECTOR', 'POINDEXTER')\n",
      "('HEIDI', 'LARSON')\n",
      "('HELEN', 'HARRIS')\n",
      "('HENRY', 'BILLINGSLEY')\n",
      "('HERBERT', 'KRUGER')\n",
      "('HERMAN', 'DEVORE')\n",
      "('HILDA', 'HOPKINS')\n",
      "('HOLLY', 'FOX')\n",
      "('HOWARD', 'FORTNER')\n",
      "('HUGH', 'WALDROP')\n",
      "('IAN', 'STILL')\n",
      "('IDA', 'ANDREWS')\n",
      "('IRENE', 'PRICE')\n",
      "('IRMA', 'PEARSON')\n",
      "('ISAAC', 'OGLESBY')\n",
      "('IVAN', 'CROMWELL')\n",
      "('JACK', 'FOUST')\n",
      "('JACKIE', 'LYNCH')\n",
      "('JACOB', 'LANCE')\n",
      "('JACQUELINE', 'LONG')\n",
      "('JAIME', 'NETTLES')\n",
      "('JAMES', 'GANNON')\n",
      "('JAMIE', 'RICE')\n",
      "('JAMIE', 'WAUGH')\n",
      "('JANE', 'BENNETT')\n",
      "('JANET', 'PHILLIPS')\n",
      "('JANICE', 'WARD')\n",
      "('JARED', 'ELY')\n",
      "('JASON', 'MORRISSEY')\n",
      "('JAVIER', 'ELROD')\n",
      "('JAY', 'ROBB')\n",
      "('JEAN', 'BELL')\n",
      "('JEANETTE', 'GREENE')\n",
      "('JEANNE', 'LAWSON')\n",
      "('JEFF', 'EAST')\n",
      "('JEFFERY', 'PINSON')\n",
      "('JEFFREY', 'SPEAR')\n",
      "('JENNIE', 'TERRY')\n",
      "('JENNIFER', 'DAVIS')\n",
      "('JENNY', 'CASTRO')\n",
      "('JEREMY', 'HURTADO')\n",
      "('JEROME', 'KENYON')\n",
      "('JERRY', 'JORDON')\n",
      "('JESSE', 'SCHILLING')\n",
      "('JESSICA', 'HALL')\n",
      "('JESSIE', 'BANKS')\n",
      "('JESSIE', 'MILAM')\n",
      "('JESUS', 'MCCARTNEY')\n",
      "('JILL', 'HAWKINS')\n",
      "('JIM', 'REA')\n",
      "('JIMMIE', 'EGGLESTON')\n",
      "('JIMMY', 'SCHRADER')\n",
      "('JO', 'FOWLER')\n",
      "('JOAN', 'COOPER')\n",
      "('JOANN', 'GARDNER')\n",
      "('JOANNE', 'ROBERTSON')\n",
      "('JOE', 'GILLILAND')\n",
      "('JOEL', 'FRANCISCO')\n",
      "('JOHN', 'FARNSWORTH')\n",
      "('JOHNNIE', 'CHISHOLM')\n",
      "('JOHNNY', 'TURPIN')\n",
      "('Jon', 'Stephens')\n",
      "('JON', 'WILES')\n",
      "('JONATHAN', 'SCARBOROUGH')\n",
      "('JORDAN', 'ARCHULETA')\n",
      "('JORGE', 'OLIVARES')\n",
      "('JOSE', 'ANDREW')\n",
      "('JOSEPH', 'JOY')\n",
      "('JOSEPHINE', 'GOMEZ')\n",
      "('JOSHUA', 'MARK')\n",
      "('JOY', 'GEORGE')\n",
      "('JOYCE', 'EDWARDS')\n",
      "('JUAN', 'FRALEY')\n",
      "('JUANITA', 'MASON')\n",
      "('JUDITH', 'COX')\n",
      "('JUDY', 'GRAY')\n",
      "('JULIA', 'FLORES')\n",
      "('JULIAN', 'VEST')\n",
      "('JULIE', 'SANCHEZ')\n",
      "('JULIO', 'NOLAND')\n",
      "('JUNE', 'CARROLL')\n",
      "('JUSTIN', 'NGO')\n",
      "('KAREN', 'JACKSON')\n",
      "('KARL', 'SEAL')\n",
      "('KATHERINE', 'RIVERA')\n",
      "('KATHLEEN', 'ADAMS')\n",
      "('KATHRYN', 'COLEMAN')\n",
      "('KATHY', 'JAMES')\n",
      "('KATIE', 'ELLIOTT')\n",
      "('KAY', 'CALDWELL')\n",
      "('KEITH', 'RICO')\n",
      "('KELLY', 'KNOTT')\n",
      "('KELLY', 'TORRES')\n",
      "('KEN', 'PREWITT')\n",
      "('KENNETH', 'GOODEN')\n",
      "('KENT', 'ARSENAULT')\n",
      "('KEVIN', 'SCHULER')\n",
      "('KIM', 'CRUZ')\n",
      "('KIMBERLY', 'LEE')\n",
      "('KIRK', 'STCLAIR')\n",
      "('KRISTEN', 'CHAVEZ')\n",
      "('KRISTIN', 'JOHNSTON')\n",
      "('KRISTINA', 'CHAMBERS')\n",
      "('KURT', 'EMMONS')\n",
      "('KYLE', 'SPURLOCK')\n",
      "('LANCE', 'PEMBERTON')\n",
      "('LARRY', 'THRASHER')\n",
      "('LAURA', 'RODRIGUEZ')\n",
      "('LAUREN', 'HUDSON')\n",
      "('LAURIE', 'LAWRENCE')\n",
      "('LAWRENCE', 'LAWTON')\n",
      "('LEAH', 'CURTIS')\n",
      "('LEE', 'HAWKS')\n",
      "('LENA', 'JENSEN')\n",
      "('LEO', 'EBERT')\n",
      "('LEON', 'BOSTIC')\n",
      "('LEONA', 'OBRIEN')\n",
      "('LEONARD', 'SCHOFIELD')\n",
      "('LEROY', 'BUSTAMANTE')\n",
      "('LESLIE', 'GORDON')\n",
      "('LESLIE', 'SEWARD')\n",
      "('LESTER', 'KRAUS')\n",
      "('LEWIS', 'LYMAN')\n",
      "('LILLIAN', 'GRIFFIN')\n",
      "('LILLIE', 'KIM')\n",
      "('LINDA', 'WILLIAMS')\n",
      "('LISA', 'ANDERSON')\n",
      "('LLOYD', 'DOWD')\n",
      "('LOIS', 'BUTLER')\n",
      "('LONNIE', 'TIRADO')\n",
      "('LORETTA', 'CARPENTER')\n",
      "('LORI', 'WOOD')\n",
      "('LORRAINE', 'STEPHENS')\n",
      "('LOUIS', 'LEONE')\n",
      "('LOUISE', 'JENKINS')\n",
      "('LUCILLE', 'HOLMES')\n",
      "('LUCY', 'WHEELER')\n",
      "('LUIS', 'YANEZ')\n",
      "('LYDIA', 'BURKE')\n",
      "('LYNN', 'PAYNE')\n",
      "('MABEL', 'HOLLAND')\n",
      "('MAE', 'FLETCHER')\n",
      "('MANUEL', 'MURRELL')\n",
      "('MARC', 'OUTLAW')\n",
      "('MARCIA', 'DEAN')\n",
      "('MARCUS', 'HIDALGO')\n",
      "('MARGARET', 'MOORE')\n",
      "('MARGIE', 'WADE')\n",
      "('MARIA', 'MILLER')\n",
      "('MARIAN', 'MENDOZA')\n",
      "('MARIE', 'TURNER')\n",
      "('MARILYN', 'ROSS')\n",
      "('MARIO', 'CHEATHAM')\n",
      "('MARION', 'OCAMPO')\n",
      "('MARION', 'SNYDER')\n",
      "('MARJORIE', 'TUCKER')\n",
      "('MARK', 'RINEHART')\n",
      "('MARLENE', 'WELCH')\n",
      "('MARSHA', 'DOUGLAS')\n",
      "('MARSHALL', 'THORN')\n",
      "('MARTHA', 'GONZALEZ')\n",
      "('MARTIN', 'BALES')\n",
      "('MARVIN', 'YEE')\n",
      "('MARY', 'SMITH')\n",
      "('MATHEW', 'BOLIN')\n",
      "('MATTHEW', 'MAHAN')\n",
      "('MATTIE', 'HOFFMAN')\n",
      "('MAUREEN', 'LITTLE')\n",
      "('MAURICE', 'CRAWLEY')\n",
      "('MAX', 'PITT')\n",
      "('MAXINE', 'SILVA')\n",
      "('MEGAN', 'PALMER')\n",
      "('MELANIE', 'ARMSTRONG')\n",
      "('MELINDA', 'FERNANDEZ')\n",
      "('MELISSA', 'KING')\n",
      "('MELVIN', 'ELLINGTON')\n",
      "('MICHAEL', 'SILVERMAN')\n",
      "('MICHEAL', 'FORMAN')\n",
      "('MICHELE', 'GRANT')\n",
      "('MICHELLE', 'CLARK')\n",
      "('MIGUEL', 'BETANCOURT')\n",
      "('Mike', 'Hillyer')\n",
      "('MIKE', 'WAY')\n",
      "('MILDRED', 'BAILEY')\n",
      "('MILTON', 'HOWLAND')\n",
      "('MINNIE', 'ROMERO')\n",
      "('MIRIAM', 'MCKINNEY')\n",
      "('MISTY', 'LAMBERT')\n",
      "('MITCHELL', 'WESTMORELAND')\n",
      "('MONICA', 'HICKS')\n",
      "('MORRIS', 'MCCARTER')\n",
      "('MYRTLE', 'FLEMING')\n",
      "('NANCY', 'THOMAS')\n",
      "('NAOMI', 'JENNINGS')\n",
      "('NATALIE', 'MEYER')\n",
      "('NATHAN', 'RUNYON')\n",
      "('NATHANIEL', 'ADAM')\n",
      "('NEIL', 'RENNER')\n",
      "('NELLIE', 'GARRETT')\n",
      "('NELSON', 'CHRISTENSON')\n",
      "('NICHOLAS', 'BARFIELD')\n",
      "('NICOLE', 'PETERSON')\n",
      "('NINA', 'SOTO')\n",
      "('NORA', 'HERRERA')\n",
      "('NORMA', 'GONZALES')\n",
      "('NORMAN', 'CURRIER')\n",
      "('OLGA', 'JIMENEZ')\n",
      "('OSCAR', 'AQUINO')\n",
      "('PAMELA', 'BAKER')\n",
      "('PATRICIA', 'JOHNSON')\n",
      "('PATRICK', 'NEWSOM')\n",
      "('PATSY', 'DAVIDSON')\n",
      "('PAUL', 'TROUT')\n",
      "('PAULA', 'BRYANT')\n",
      "('PAULINE', 'HENRY')\n",
      "('PEARL', 'GARZA')\n",
      "('PEDRO', 'CHESTNUT')\n",
      "('PEGGY', 'MYERS')\n",
      "('PENNY', 'NEAL')\n",
      "('PERRY', 'SWAFFORD')\n",
      "('PETER', 'MENARD')\n",
      "('PHILIP', 'CAUSEY')\n",
      "('PHILLIP', 'HOLM')\n",
      "('PHYLLIS', 'FOSTER')\n",
      "('PRISCILLA', 'LOWE')\n",
      "('RACHEL', 'BARNES')\n",
      "('RAFAEL', 'ABNEY')\n",
      "('RALPH', 'MADRIGAL')\n",
      "('RAMON', 'CHOATE')\n",
      "('RAMONA', 'HALE')\n",
      "('RANDALL', 'NEUMANN')\n",
      "('RANDY', 'GAITHER')\n",
      "('RAUL', 'FORTIER')\n",
      "('RAY', 'HOULE')\n",
      "('RAYMOND', 'MCWHORTER')\n",
      "('REBECCA', 'SCOTT')\n",
      "('REGINA', 'BERRY')\n",
      "('REGINALD', 'KINDER')\n",
      "('RENE', 'MCALISTER')\n",
      "('RENEE', 'LANE')\n",
      "('RHONDA', 'KENNEDY')\n",
      "('RICARDO', 'MEADOR')\n",
      "('RICHARD', 'MCCRARY')\n",
      "('RICK', 'MATTOX')\n",
      "('RICKY', 'SHELBY')\n",
      "('RITA', 'GRAHAM')\n",
      "('ROBERT', 'BAUGHMAN')\n",
      "('ROBERTA', 'HARPER')\n",
      "('ROBERTO', 'VU')\n",
      "('ROBIN', 'HAYES')\n",
      "('RODNEY', 'MOELLER')\n",
      "('ROGER', 'QUINTANILLA')\n",
      "('ROLAND', 'SOUTH')\n",
      "('RON', 'DELUCA')\n",
      "('RONALD', 'WEINER')\n",
      "('RONNIE', 'RICKETTS')\n",
      "('ROSA', 'REYNOLDS')\n",
      "('ROSE', 'HOWARD')\n",
      "('ROSEMARY', 'SCHMIDT')\n",
      "('ROSS', 'GREY')\n",
      "('ROY', 'WHITING')\n",
      "('RUBEN', 'GEARY')\n",
      "('RUBY', 'WASHINGTON')\n",
      "('RUSSELL', 'BRINSON')\n",
      "('RUTH', 'MARTINEZ')\n",
      "('RYAN', 'SALISBURY')\n",
      "('SALLY', 'PIERCE')\n",
      "('SALVADOR', 'TEEL')\n",
      "('SAM', 'MCDUFFIE')\n",
      "('SAMANTHA', 'DUNCAN')\n",
      "('SAMUEL', 'MARLOW')\n",
      "('SANDRA', 'MARTIN')\n",
      "('SARA', 'PERRY')\n",
      "('SARAH', 'LEWIS')\n",
      "('SCOTT', 'SHELLEY')\n",
      "('SEAN', 'DOUGLASS')\n",
      "('SERGIO', 'STANFIELD')\n",
      "('SETH', 'HANNON')\n",
      "('SHANE', 'MILLARD')\n",
      "('SHANNON', 'FREEMAN')\n",
      "('SHARON', 'ROBINSON')\n",
      "('SHAWN', 'HEATON')\n",
      "('SHEILA', 'WELLS')\n",
      "('SHELLY', 'WATTS')\n",
      "('SHERRI', 'RHODES')\n",
      "('SHERRY', 'MARSHALL')\n",
      "('SHIRLEY', 'ALLEN')\n",
      "('SIDNEY', 'BURLESON')\n",
      "('SONIA', 'GREGORY')\n",
      "('STACEY', 'MONTGOMERY')\n",
      "('STACY', 'CUNNINGHAM')\n",
      "('STANLEY', 'SCROGGINS')\n",
      "('STELLA', 'MORENO')\n",
      "('STEPHANIE', 'MITCHELL')\n",
      "('STEPHEN', 'QUALLS')\n",
      "('STEVE', 'MACKENZIE')\n",
      "('STEVEN', 'CURLEY')\n",
      "('SUE', 'PETERS')\n",
      "('SUSAN', 'WILSON')\n",
      "('SUZANNE', 'NICHOLS')\n",
      "('SYLVIA', 'ORTIZ')\n",
      "('TAMARA', 'NGUYEN')\n",
      "('TAMMY', 'SANDERS')\n",
      "('TANYA', 'GILBERT')\n",
      "('TARA', 'RYAN')\n",
      "('TED', 'BREAUX')\n",
      "('TERESA', 'ROGERS')\n",
      "('TERRANCE', 'ROUSH')\n",
      "('TERRENCE', 'GUNDERSON')\n",
      "('TERRI', 'VASQUEZ')\n",
      "('TERRY', 'CARLSON')\n",
      "('TERRY', 'GRISSOM')\n",
      "('THELMA', 'MURRAY')\n",
      "('THEODORE', 'CULP')\n",
      "('THERESA', 'WATSON')\n",
      "('THOMAS', 'GRIGSBY')\n",
      "('TIFFANY', 'JORDAN')\n",
      "('TIM', 'CARY')\n",
      "('TIMOTHY', 'BUNN')\n",
      "('TINA', 'SIMMONS')\n",
      "('TODD', 'TAN')\n",
      "('TOM', 'MILNER')\n",
      "('TOMMY', 'COLLAZO')\n",
      "('TONI', 'HOLT')\n",
      "('TONY', 'CARRANZA')\n",
      "('TONYA', 'CHAPMAN')\n",
      "('TRACEY', 'BARRETT')\n",
      "('TRACY', 'COLE')\n",
      "('TRACY', 'HERRMANN')\n",
      "('TRAVIS', 'ESTEP')\n",
      "('TROY', 'QUIGLEY')\n",
      "('TYLER', 'WREN')\n",
      "('TYRONE', 'ASHER')\n",
      "('VALERIE', 'BLACK')\n",
      "('VANESSA', 'SIMS')\n",
      "('VELMA', 'LUCAS')\n",
      "('VERA', 'MCCOY')\n",
      "('VERNON', 'CHAPA')\n",
      "('VERONICA', 'STONE')\n",
      "('VICKI', 'FIELDS')\n",
      "('VICKIE', 'BREWER')\n",
      "('VICTOR', 'BARKLEY')\n",
      "('VICTORIA', 'GIBSON')\n",
      "('VINCENT', 'RALSTON')\n",
      "('VIOLA', 'HANSON')\n",
      "('VIOLET', 'RODRIQUEZ')\n",
      "('VIRGIL', 'WOFFORD')\n",
      "('VIRGINIA', 'GREEN')\n",
      "('VIVIAN', 'RUIZ')\n",
      "('WADE', 'DELVALLE')\n",
      "('WALLACE', 'SLONE')\n",
      "('WALTER', 'PERRYMAN')\n",
      "('WANDA', 'PATTERSON')\n",
      "('WARREN', 'SHERROD')\n",
      "('WAYNE', 'TRUONG')\n",
      "('WENDY', 'HARRISON')\n",
      "('WESLEY', 'BULL')\n",
      "('WILLARD', 'LUMPKIN')\n",
      "('WILLIAM', 'SATTERFIELD')\n",
      "('WILLIE', 'HOWELL')\n",
      "('WILLIE', 'MARKHAM')\n",
      "('WILMA', 'RICHARDS')\n",
      "('YOLANDA', 'WEAVER')\n",
      "('YVONNE', 'WATKINS')\n",
      "('ZACHARY', 'HITE')\n"
     ]
    }
   ],
   "source": [
    "sql_ex09 = \"\"\"\n",
    "SELECT\n",
    "    first_name, last_name\n",
    "FROM(\n",
    "    SELECT first_name, last_name FROM staff\n",
    "    UNION\n",
    "    SELECT first_name, last_name FROM customer\n",
    ") AS nomes\n",
    "ORDER BY\n",
    "    first_name, last_name\n",
    "\"\"\"\n",
    "\n",
    "db(sql_ex09)"
   ]
  },
  {
   "cell_type": "code",
   "execution_count": 73,
   "metadata": {},
   "outputs": [
    {
     "data": {
      "application/vnd.jupyter.widget-view+json": {
       "model_id": "7596f60d010843c19c910e6eb2b538ab",
       "version_major": 2,
       "version_minor": 0
      },
      "text/plain": [
       "interactive(children=(Button(description='Enviar ex09', style=ButtonStyle()), Output()), _dom_classes=('widget…"
      ]
     },
     "execution_count": 73,
     "metadata": {},
     "output_type": "execute_result"
    }
   ],
   "source": [
    "ia.sender(answer=\"sql_ex09\", task=\"views\", question=\"ex09\", answer_type=\"pyvar\")"
   ]
  },
  {
   "cell_type": "markdown",
   "metadata": {},
   "source": [
    "## Desafios!"
   ]
  },
  {
   "cell_type": "markdown",
   "metadata": {},
   "source": [
    "Faça uma lista de filmes que tenham mais de dois atores cujo nome inicia com a mesma letra do título do filme! Apresente o nome e a quantidade de atores. Ordene pelo id do filme. Dica: Pesquie a função `LEFT`"
   ]
  },
  {
   "cell_type": "code",
   "execution_count": 74,
   "metadata": {},
   "outputs": [
    {
     "name": "stdout",
     "output_type": "stream",
     "text": [
      "Executando query:\n",
      "('CROW GREASE', 3)\n",
      "('JEDI BENEATH', 3)\n",
      "('SUBMARINE BED', 3)\n"
     ]
    }
   ],
   "source": [
    "sql_ex10 = '''\n",
    "SELECT\n",
    "    title, COUNT(actor_id) AS num_actors\n",
    "FROM\n",
    "    film\n",
    "    INNER JOIN film_actor USING (film_id)\n",
    "    INNER JOIN actor USING (actor_id)\n",
    "WHERE\n",
    "    LEFT(title, 1) = LEFT(first_name, 1)\n",
    "GROUP BY\n",
    "    film_id\n",
    "HAVING\n",
    "    num_actors > 2\n",
    "ORDER BY\n",
    "    film_id\n",
    "'''\n",
    "\n",
    "db(sql_ex10)"
   ]
  },
  {
   "cell_type": "code",
   "execution_count": 75,
   "metadata": {},
   "outputs": [
    {
     "data": {
      "application/vnd.jupyter.widget-view+json": {
       "model_id": "5801b42051904f91979e53c5b51fe5cc",
       "version_major": 2,
       "version_minor": 0
      },
      "text/plain": [
       "interactive(children=(Button(description='Enviar ex10', style=ButtonStyle()), Output()), _dom_classes=('widget…"
      ]
     },
     "execution_count": 75,
     "metadata": {},
     "output_type": "execute_result"
    }
   ],
   "source": [
    "ia.sender(answer=\"sql_ex10\", task=\"views\", question=\"ex10\", answer_type=\"pyvar\")"
   ]
  },
  {
   "cell_type": "markdown",
   "metadata": {},
   "source": [
    "Semana do \"DAN HARRIS\": liste os clientes (nome e sobrenome) que nunca assistiram um filme do ator \"DAN HARRIS\" ou que já assistiram mas a ultima vez em que assistiram um filme dele foi antes de '2005-06-01'. Ordene pelo nome e sobrenome do cliente.\n",
    "\n",
    "Considerem que a pessoa pode ter assistido um filme de Dan Harris se:\n",
    "\n",
    "- Devolveu em 2005-06-01 ou depois\n",
    "- Alugou em 2005-06-01 ou depois\n",
    "- Alugou antes de 2005-06-01 e ainda não devolveu"
   ]
  },
  {
   "cell_type": "code",
   "execution_count": null,
   "metadata": {},
   "outputs": [
    {
     "name": "stdout",
     "output_type": "stream",
     "text": [
      "Executando query:\n"
     ]
    }
   ],
   "source": [
    "sql_ex11 = \"\"\"\n",
    "-- SUA QUERY AQUI!\n",
    "\"\"\"\n",
    "db(sql_ex11)"
   ]
  },
  {
   "cell_type": "code",
   "execution_count": null,
   "metadata": {},
   "outputs": [
    {
     "data": {
      "application/vnd.jupyter.widget-view+json": {
       "model_id": "56ddcc7622b449fe928ec44f18cc532d",
       "version_major": 2,
       "version_minor": 0
      },
      "text/plain": [
       "interactive(children=(Button(description='Enviar ex11', style=ButtonStyle()), Output()), _dom_classes=('widget…"
      ]
     },
     "execution_count": 69,
     "metadata": {},
     "output_type": "execute_result"
    }
   ],
   "source": [
    "ia.sender(answer=\"sql_ex11\", task=\"views\", question=\"ex11\", answer_type=\"pyvar\")"
   ]
  },
  {
   "cell_type": "markdown",
   "metadata": {},
   "source": [
    "- Faça uma consulta que retorne, para cada ator, a seguinte informação:\n",
    "\n",
    "| first_name | last_name | filmes por categoria |\n",
    "|--|--|--|\n",
    "| PENELOPE | GUINESS | Animation: ANACONDA CONFESSIONS; Children: LANGUAGE COWBOY; Classics: COLOR PHILADELPHIA, WESTWARD SEABISCUIT; Comedy: VERTIGO NORTHWEST; Documentary: ACADEMY DINOSAUR; Family: KING EVOLUTION, SPLASH GUMP; Foreign: MULHOLLAND BEAST; Games: BULWORTH COMMANDMENTS, HUMAN GRAFFITI; Horror: ELEPHANT TROJAN, LADY STAGE, RULES HUMAN; Music: WIZARD COLDBLOODED; New: ANGELS LIFE, OKLAHOMA JUMANJI; Sci-Fi: CHEAPER CLYDE; Sports: GLEAMING JAWBREAKER |\n",
    "| NICK | WAHLBERG | Action: BULL SHAWSHANK; Animation: FIGHT JAWBREAKER; Children: JERSEY SASSY; Classics: DRACULA CRYSTAL, GILBERT PELICAN; Comedy: MALLRATS UNITED, RUSHMORE MERMAID; Documentary: ADAPTATION HOLES; Drama: WARDROBE PHANTOM; Family: APACHE DIVINE, CHISUM BEHAVIOR, INDIAN LOVE, MAGUIRE APACHE; Foreign: BABY HALL, HAPPINESS UNITED; Games: ROOF CHAMPION; Music: LUCKY FLYING; New: DESTINY SATURDAY, FLASH WARS, JEKYLL FROGMEN, MASK PEACH; Sci-Fi: CHAINSAW UPTOWN, GOODFELLAS SALUTE; Travel: LIAISONS SWEET, SMILE EARRING |\n",
    "| etc | etc | etc |\n",
    "\n",
    "Ordene pelo nome e sobrenome do ator.\n",
    "\n",
    "Dica: use `GROUP_CONCAT` para agrupar todas as strings de uma coluna em uma string só, e `CONCAT` para unir strings particulares."
   ]
  },
  {
   "cell_type": "code",
   "execution_count": null,
   "metadata": {},
   "outputs": [
    {
     "name": "stdout",
     "output_type": "stream",
     "text": [
      "Executando query:\n"
     ]
    }
   ],
   "source": [
    "sql_ex12 = \"\"\"\n",
    "-- SUA QUERY AQUI!\n",
    "\"\"\"\n",
    "\n",
    "db(sql_ex12)"
   ]
  },
  {
   "cell_type": "code",
   "execution_count": null,
   "metadata": {},
   "outputs": [
    {
     "data": {
      "application/vnd.jupyter.widget-view+json": {
       "model_id": "797ed3c7163f496fa5f603e9daafe773",
       "version_major": 2,
       "version_minor": 0
      },
      "text/plain": [
       "interactive(children=(Button(description='Enviar ex12', style=ButtonStyle()), Output()), _dom_classes=('widget…"
      ]
     },
     "execution_count": 71,
     "metadata": {},
     "output_type": "execute_result"
    }
   ],
   "source": [
    "ia.sender(answer=\"sql_ex12\", task=\"views\", question=\"ex12\", answer_type=\"pyvar\")"
   ]
  },
  {
   "cell_type": "markdown",
   "metadata": {},
   "source": [
    "## Conclusão"
   ]
  },
  {
   "cell_type": "markdown",
   "metadata": {},
   "source": [
    "Façamos uma pausa para apreciar quão longe estamos: já conseguimos criar nossas tabelas, inserir informação, removê-la, atualizá-la, e consultar nossa base de maneiras bem sofisticadas! Vimos desde `SELECT` simples até buscas mais complexas envolvendo várias etapas de processamento para obter o dado desejado.\n",
    "\n",
    "Por hoje é só, feche sua conexão e bom descanso!"
   ]
  },
  {
   "cell_type": "code",
   "execution_count": null,
   "metadata": {},
   "outputs": [],
   "source": [
    "connection.close()"
   ]
  },
  {
   "cell_type": "markdown",
   "metadata": {},
   "source": [
    "## Conferir Notas\n",
    "\n",
    "Confira se as notas na atividade são as esperadas!\n",
    "\n",
    "Primeiro na atividade atual!"
   ]
  },
  {
   "cell_type": "code",
   "execution_count": 76,
   "metadata": {},
   "outputs": [
    {
     "data": {
      "text/markdown": [
       "|    | Tarefa   |   Nota |\n",
       "|---:|:---------|-------:|\n",
       "|  0 | views    |   8.33 |"
      ],
      "text/plain": [
       "<IPython.core.display.Markdown object>"
      ]
     },
     "metadata": {},
     "output_type": "display_data"
    }
   ],
   "source": [
    "ia.grades(by=\"TASK\", task=\"views\")"
   ]
  },
  {
   "cell_type": "code",
   "execution_count": 77,
   "metadata": {},
   "outputs": [
    {
     "data": {
      "text/markdown": [
       "|    | Atividade   | Exercício   |   Peso |   Nota |\n",
       "|---:|:------------|:------------|-------:|-------:|\n",
       "|  0 | views       | ex01        |      1 |     10 |\n",
       "|  1 | views       | ex02        |      1 |     10 |\n",
       "|  2 | views       | ex03        |      1 |     10 |\n",
       "|  3 | views       | ex04        |      1 |     10 |\n",
       "|  4 | views       | ex05        |      1 |     10 |\n",
       "|  5 | views       | ex06        |      1 |     10 |\n",
       "|  6 | views       | ex07        |      1 |     10 |\n",
       "|  7 | views       | ex08        |      1 |     10 |\n",
       "|  8 | views       | ex09        |      1 |     10 |\n",
       "|  9 | views       | ex10        |      1 |     10 |\n",
       "| 10 | views       | ex11        |      1 |      0 |\n",
       "| 11 | views       | ex12        |      1 |      0 |"
      ],
      "text/plain": [
       "<IPython.core.display.Markdown object>"
      ]
     },
     "metadata": {},
     "output_type": "display_data"
    }
   ],
   "source": [
    "ia.grades(task=\"views\")"
   ]
  },
  {
   "cell_type": "code",
   "execution_count": 78,
   "metadata": {},
   "outputs": [
    {
     "data": {
      "text/markdown": [
       "|    | Tarefa       |   Nota |\n",
       "|---:|:-------------|-------:|\n",
       "|  0 | agg_join     |  10    |\n",
       "|  1 | ddl          |  10    |\n",
       "|  2 | dml          |  10    |\n",
       "|  3 | group_having |  10    |\n",
       "|  4 | newborn      |  10    |\n",
       "|  5 | select01     |  10    |\n",
       "|  6 | sql_review1  |   0    |\n",
       "|  7 | views        |   8.33 |"
      ],
      "text/plain": [
       "<IPython.core.display.Markdown object>"
      ]
     },
     "metadata": {},
     "output_type": "display_data"
    }
   ],
   "source": [
    "ia.grades(by=\"task\")"
   ]
  }
 ],
 "metadata": {
  "kernelspec": {
   "display_name": "Python 3 (ipykernel)",
   "language": "python",
   "name": "python3"
  },
  "language_info": {
   "codemirror_mode": {
    "name": "ipython",
    "version": 3
   },
   "file_extension": ".py",
   "mimetype": "text/x-python",
   "name": "python",
   "nbconvert_exporter": "python",
   "pygments_lexer": "ipython3",
   "version": "3.11.1"
  }
 },
 "nbformat": 4,
 "nbformat_minor": 4
}
