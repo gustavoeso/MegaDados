{
 "cells": [
  {
   "cell_type": "markdown",
   "id": "8a630554",
   "metadata": {},
   "source": [
    "# SQL: Desafio\n",
    "\n",
    "Nesta aula teremos um desafio de **SQL**. Veja se consegue solucionar todas as questões.\n",
    "\n",
    "## Instalação da base\n",
    "\n",
    "Vamos utilizar uma base de dados chamada \"faculdade\". Faça o download no blackboard e execute o script `faculdade.sql` para gerar a base de dados.\n",
    "\n",
    "## Como resolver os exercícios?\n",
    "\n",
    "Indicamos que crie uma cópia da base de dados em sua máquina (passo anterior). Utilize o MySQL Workbench ou o conector para testar as queries. Quando estiver bastante certo de que a resposta está correta, faça a submissão para o servidor.\n",
    "\n",
    "## Import das bibliotecas\n",
    "\n",
    "Vamos realizar o import das bibliotecas."
   ]
  },
  {
   "cell_type": "code",
   "execution_count": 1,
   "id": "b2f1597a",
   "metadata": {},
   "outputs": [],
   "source": [
    "import mysql.connector\n",
    "from functools import partial\n",
    "import os\n",
    "import insperautograder.jupyter as ia\n",
    "from dotenv import load_dotenv"
   ]
  },
  {
   "cell_type": "markdown",
   "id": "33eefa0d",
   "metadata": {},
   "source": [
    "E vamos criar nosso HELPER de conexão com o banco! Perceba que, uma vez configurado o `.env` não precisaremos mais informar usuários, senhas e URLs!"
   ]
  },
  {
   "cell_type": "code",
   "execution_count": 2,
   "id": "f5147533",
   "metadata": {},
   "outputs": [],
   "source": [
    "load_dotenv(override=True)\n",
    "\n",
    "def get_connection_helper():\n",
    "\n",
    "    def run_db_query(connection, query, args=None):\n",
    "        with connection.cursor() as cursor:\n",
    "            print(\"Executando query:\")\n",
    "            cursor.execute(query, args)\n",
    "            for result in cursor:\n",
    "                print(result)\n",
    "\n",
    "    connection = mysql.connector.connect(\n",
    "        host=os.getenv(\"MD_DB_SERVER\"),\n",
    "        user=os.getenv(\"MD_DB_USERNAME\"),\n",
    "        password=os.getenv(\"MD_DB_PASSWORD\"),\n",
    "        database=\"faculdade\",\n",
    "    )\n",
    "    return connection, partial(run_db_query, connection)\n",
    "\n",
    "\n",
    "connection, db = get_connection_helper()"
   ]
  },
  {
   "cell_type": "markdown",
   "id": "86e481dc",
   "metadata": {},
   "source": [
    "### Tarefas e Notas\n",
    "Vamos conferir as tarefas e notas"
   ]
  },
  {
   "cell_type": "code",
   "execution_count": 3,
   "id": "47c6bae1",
   "metadata": {},
   "outputs": [
    {
     "data": {
      "text/markdown": [
       "|    | Atividade            | De                        | Até                       |\n",
       "|---:|:---------------------|:--------------------------|:--------------------------|\n",
       "|  0 | newborn              | 2024-02-01 03:00:00+00:00 | 2024-05-30 03:00:00+00:00 |\n",
       "|  1 | select01             | 2024-02-07 03:00:00+00:00 | 2024-02-19 02:59:59+00:00 |\n",
       "|  2 | ddl                  | 2024-02-26 03:00:00+00:00 | 2024-03-03 02:59:59+00:00 |\n",
       "|  3 | dml                  | 2024-02-28 03:00:00+00:00 | 2024-03-05 02:59:59+00:00 |\n",
       "|  4 | agg_join             | 2024-03-04 03:00:00+00:00 | 2024-03-09 02:59:59+00:00 |\n",
       "|  5 | group_having         | 2024-03-06 03:00:00+00:00 | 2024-03-11 02:59:59+00:00 |\n",
       "|  6 | views                | 2024-03-11 03:00:00+00:00 | 2024-03-20 02:59:59+00:00 |\n",
       "|  7 | sql_review1          | 2024-03-13 03:00:00+00:00 | 2024-03-20 02:59:59+00:00 |\n",
       "|  8 | permissions          | 2024-03-20 03:00:00+00:00 | 2024-03-26 02:59:59+00:00 |\n",
       "|  9 | ai_md_23_1           | 2024-03-25 03:00:00+00:00 | 2024-04-01 15:00:00+00:00 |\n",
       "| 10 | ai_md_23_2           | 2024-03-25 03:00:00+00:00 | 2024-04-01 15:00:00+00:00 |\n",
       "| 11 | ai_md_24_1           | 2024-04-01 03:00:00+00:00 | 2024-04-01 18:35:00+00:00 |\n",
       "| 12 | desafio_normalizacao | 2024-04-08 03:00:00+00:00 | 2024-05-02 02:59:59+00:00 |"
      ],
      "text/plain": [
       "<IPython.core.display.Markdown object>"
      ]
     },
     "metadata": {},
     "output_type": "display_data"
    }
   ],
   "source": [
    "ia.tasks()"
   ]
  },
  {
   "cell_type": "code",
   "execution_count": 4,
   "id": "bfbfcd1f-8d59-4820-880d-5ec881598472",
   "metadata": {},
   "outputs": [
    {
     "data": {
      "text/markdown": [
       "|    | Tarefa               |   Nota |\n",
       "|---:|:---------------------|-------:|\n",
       "|  0 | agg_join             |  10    |\n",
       "|  1 | ai_md_23_1           |  10    |\n",
       "|  2 | ai_md_23_2           |  10    |\n",
       "|  3 | ai_md_24_1           |   7.5  |\n",
       "|  4 | ddl                  |  10    |\n",
       "|  5 | desafio_normalizacao |   0    |\n",
       "|  6 | dml                  |  10    |\n",
       "|  7 | group_having         |  10    |\n",
       "|  8 | newborn              |  10    |\n",
       "|  9 | permissions          |   6.92 |\n",
       "| 10 | select01             |  10    |\n",
       "| 11 | sql_review1          |  10    |\n",
       "| 12 | views                |   8.33 |"
      ],
      "text/plain": [
       "<IPython.core.display.Markdown object>"
      ]
     },
     "metadata": {},
     "output_type": "display_data"
    }
   ],
   "source": [
    "ia.grades(by=\"task\")"
   ]
  },
  {
   "cell_type": "code",
   "execution_count": 5,
   "id": "9d0c9a82",
   "metadata": {},
   "outputs": [
    {
     "data": {
      "text/markdown": [
       "|    | Atividade            | Exercício   |   Peso |   Nota |\n",
       "|---:|:---------------------|:------------|-------:|-------:|\n",
       "|  0 | desafio_normalizacao | ex01        |      1 |      0 |\n",
       "|  1 | desafio_normalizacao | ex02        |      1 |      0 |\n",
       "|  2 | desafio_normalizacao | ex03        |      1 |      0 |\n",
       "|  3 | desafio_normalizacao | ex04        |      1 |      0 |\n",
       "|  4 | desafio_normalizacao | ex05        |      1 |      0 |"
      ],
      "text/plain": [
       "<IPython.core.display.Markdown object>"
      ]
     },
     "metadata": {},
     "output_type": "display_data"
    }
   ],
   "source": [
    "ia.grades(task=\"desafio_normalizacao\")"
   ]
  },
  {
   "cell_type": "markdown",
   "id": "c167b70e",
   "metadata": {},
   "source": [
    "**Exercício 1**: Crie uma query que retorne o id e o nome dos alunos que tenham dois endereços na *CIDADE* de São Paulo ordenado pelo id do aluno."
   ]
  },
  {
   "cell_type": "code",
   "execution_count": 6,
   "id": "0203756a",
   "metadata": {},
   "outputs": [
    {
     "name": "stdout",
     "output_type": "stream",
     "text": [
      "Executando query:\n",
      "(91, 'LOIS BUTLER')\n",
      "(107, 'FLORENCE WOODS')\n",
      "(130, 'CHARLOTTE HUNTER')\n",
      "(281, 'LEONA OBRIEN')\n",
      "(431, 'JOEL FRANCISCO')\n",
      "(463, 'DARRELL POWER')\n",
      "(515, 'ANDRE RAPP')\n"
     ]
    }
   ],
   "source": [
    "sql_ex01 = \"\"\"\n",
    "SELECT \n",
    "    id_aluno,\n",
    "    nome\n",
    "FROM \n",
    "    faculdade.alunos\n",
    "WHERE\n",
    "    endereco1 LIKE '%São Paulo, %São Paulo%'\n",
    "    AND endereco2 LIKE '%São Paulo, %São Paulo%'\n",
    "ORDER BY\n",
    "    id_aluno\n",
    "\"\"\"\n",
    "\n",
    "db(sql_ex01)"
   ]
  },
  {
   "cell_type": "markdown",
   "id": "ed653f31",
   "metadata": {},
   "source": [
    "Após testar localmente e considerar sua solução correta, faça o envio clicando no botão abaixo!"
   ]
  },
  {
   "cell_type": "code",
   "execution_count": 7,
   "id": "b38f883b",
   "metadata": {},
   "outputs": [
    {
     "data": {
      "application/vnd.jupyter.widget-view+json": {
       "model_id": "07caf1c024654ddba00fbbd0333a31cd",
       "version_major": 2,
       "version_minor": 0
      },
      "text/plain": [
       "interactive(children=(Button(description='Enviar ex01', style=ButtonStyle()), Output()), _dom_classes=('widget…"
      ]
     },
     "execution_count": 7,
     "metadata": {},
     "output_type": "execute_result"
    }
   ],
   "source": [
    "ia.sender(answer=\"sql_ex01\", task=\"desafio_normalizacao\", question=\"ex01\", answer_type=\"pyvar\")"
   ]
  },
  {
   "cell_type": "markdown",
   "id": "4799a2b3",
   "metadata": {},
   "source": [
    "**Exercício 2**: Uma pesquisa interna revelou que existe um professor na faculdade que causa um aumento na taxa de felicidade dos alunos. Para identificar os alunos mais felizes, escreva uma query que retorne o id e o nome dos alunos que cursam ao mesmo tempo as disciplinas de Megadados e Big Data ou que cursam ao mesmo tempo as disciplinas de Megadados e MLOps. Ordene pelo id do aluno.\n",
    "\n",
    "**Disclaimer**: exercício criado pelo prof. Márcio, não sou tão convencido assim!"
   ]
  },
  {
   "cell_type": "code",
   "execution_count": 8,
   "id": "3be41b9a",
   "metadata": {
    "scrolled": true
   },
   "outputs": [
    {
     "name": "stdout",
     "output_type": "stream",
     "text": [
      "Executando query:\n",
      "(24, 'KIMBERLY LEE')\n",
      "(64, 'JUDITH COX')\n",
      "(77, 'JANE BENNETT')\n",
      "(126, 'ELLEN SIMPSON')\n",
      "(129, 'CARRIE PORTER')\n",
      "(168, 'REGINA BERRY')\n",
      "(176, 'JUNE CARROLL')\n",
      "(206, 'TERRI VASQUEZ')\n",
      "(211, 'STACEY MONTGOMERY')\n",
      "(216, 'NATALIE MEYER')\n",
      "(228, 'ALLISON STANLEY')\n",
      "(254, 'MAXINE SILVA')\n",
      "(260, 'CHRISTY VARGAS')\n",
      "(267, 'MARGIE WADE')\n",
      "(283, 'FELICIA SUTTON')\n",
      "(307, 'JOSEPH JOY')\n",
      "(313, 'DONALD MAHON')\n",
      "(320, 'ANTHONY SCHWAB')\n",
      "(322, 'JASON MORRISSEY')\n",
      "(325, 'TIMOTHY BUNN')\n",
      "(329, 'FRANK WAGGONER')\n",
      "(332, 'STEPHEN QUALLS')\n",
      "(333, 'ANDREW PURDY')\n",
      "(334, 'RAYMOND MCWHORTER')\n",
      "(361, 'LAWRENCE LAWTON')\n",
      "(362, 'NICHOLAS BARFIELD')\n",
      "(389, 'ALAN KAHN')\n",
      "(405, 'LEONARD SCHOFIELD')\n",
      "(422, 'MELVIN ELLINGTON')\n",
      "(436, 'TROY QUIGLEY')\n",
      "(443, 'FRANCISCO SKIDMORE')\n",
      "(445, 'MICHEAL FORMAN')\n",
      "(463, 'DARRELL POWER')\n",
      "(495, 'CHARLIE BESS')\n",
      "(527, 'CORY MEEHAN')\n",
      "(538, 'TED BREAUX')\n",
      "(552, 'HUGH WALDROP')\n",
      "(585, 'PERRY SWAFFORD')\n",
      "(594, 'EDUARDO HIATT')\n"
     ]
    }
   ],
   "source": [
    "sql_ex02 = \"\"\"\n",
    "SELECT \n",
    "    id_aluno,\n",
    "    nome\n",
    "FROM \n",
    "    faculdade.alunos\n",
    "WHERE\n",
    "    disciplinas LIKE '%Megadados%' AND disciplinas LIKE '%Big Data%'\n",
    "    OR disciplinas LIKE '%Megadados%' AND disciplinas LIKE '%MLOps%'\n",
    "ORDER BY\n",
    "    id_aluno\n",
    "\"\"\"\n",
    "\n",
    "db(sql_ex02)"
   ]
  },
  {
   "cell_type": "markdown",
   "id": "b5a7c345",
   "metadata": {},
   "source": [
    "Após testar localmente e considerar sua solução correta, faça o envio clicando no botão abaixo!"
   ]
  },
  {
   "cell_type": "code",
   "execution_count": 9,
   "id": "9046bc51",
   "metadata": {},
   "outputs": [
    {
     "data": {
      "application/vnd.jupyter.widget-view+json": {
       "model_id": "a33afc4f59984907a0f556e8057e3158",
       "version_major": 2,
       "version_minor": 0
      },
      "text/plain": [
       "interactive(children=(Button(description='Enviar ex02', style=ButtonStyle()), Output()), _dom_classes=('widget…"
      ]
     },
     "execution_count": 9,
     "metadata": {},
     "output_type": "execute_result"
    }
   ],
   "source": [
    "ia.sender(answer=\"sql_ex02\", task=\"desafio_normalizacao\", question=\"ex02\", answer_type=\"pyvar\")"
   ]
  },
  {
   "cell_type": "markdown",
   "id": "01da05ca",
   "metadata": {},
   "source": [
    "**Exercício 3**: A \"Avenida Marginal\" na cidade de Anápolis mudou de nome para \"Avenida Ribeirinha\". Escreva uma query que atualize o nome da rua para todos os endereços que possuem o nome \"Avenida Marginal\" nesta cidade."
   ]
  },
  {
   "cell_type": "code",
   "execution_count": 13,
   "id": "261f49cb",
   "metadata": {
    "scrolled": true
   },
   "outputs": [
    {
     "name": "stdout",
     "output_type": "stream",
     "text": [
      "Executando query:\n"
     ]
    }
   ],
   "source": [
    "sql_ex03 = \"\"\"\n",
    "UPDATE\n",
    "    faculdade.alunos\n",
    "SET\n",
    "    endereco1 = IF(endereco1 LIKE '%Avenida Marginal%' AND endereco1 LIKE '%Anápolis, Goiás%', REPLACE(endereco1, 'Avenida Marginal', 'Avenida Ribeirinha'), endereco1), \n",
    "    endereco2 = IF(endereco2 LIKE '%Avenida Marginal%' AND endereco2 LIKE '%Anápolis, Goiás%', REPLACE(endereco2, 'Avenida Marginal', 'Avenida Ribeirinha'), endereco2)\n",
    "\"\"\"\n",
    "\n",
    "db(sql_ex03)"
   ]
  },
  {
   "cell_type": "markdown",
   "id": "7c1caa11",
   "metadata": {},
   "source": [
    "Após testar localmente e considerar sua solução correta, faça o envio clicando no botão abaixo!"
   ]
  },
  {
   "cell_type": "code",
   "execution_count": 14,
   "id": "9439ee14",
   "metadata": {},
   "outputs": [
    {
     "data": {
      "application/vnd.jupyter.widget-view+json": {
       "model_id": "f8d4523a9a6a4da5b8e9908cbe0a4fe7",
       "version_major": 2,
       "version_minor": 0
      },
      "text/plain": [
       "interactive(children=(Button(description='Enviar ex03', style=ButtonStyle()), Output()), _dom_classes=('widget…"
      ]
     },
     "execution_count": 14,
     "metadata": {},
     "output_type": "execute_result"
    }
   ],
   "source": [
    "ia.sender(answer=\"sql_ex03\", task=\"desafio_normalizacao\", question=\"ex03\", answer_type=\"pyvar\")"
   ]
  },
  {
   "cell_type": "markdown",
   "id": "caeec0a6",
   "metadata": {},
   "source": [
    "**Exercício 4**: Crie uma query que retorne o **Nome** de todas as disciplinas presentes no banco de dados. Ordene pelo nome da disciplina."
   ]
  },
  {
   "cell_type": "code",
   "execution_count": 12,
   "id": "b757e995",
   "metadata": {
    "scrolled": true
   },
   "outputs": [
    {
     "name": "stdout",
     "output_type": "stream",
     "text": [
      "Executando query:\n",
      "('Big Data',)\n",
      "('Computação em Nuvem',)\n",
      "('Design de Computadores',)\n",
      "('Machine Learning',)\n",
      "('Meditação e Relaxamento',)\n",
      "('Megadados',)\n",
      "('MLOps',)\n",
      "('Redes Sociais',)\n"
     ]
    }
   ],
   "source": [
    "sql_ex04 = \"\"\"\n",
    "(SELECT\n",
    "    SUBSTRING_INDEX(disciplinas, ',', 1) AS disciplinas\n",
    "FROM\n",
    "    faculdade.alunos)\n",
    "UNION\n",
    "(SELECT\n",
    "    SUBSTRING_INDEX(SUBSTRING_INDEX(disciplinas, ', ', 2), ', ', -1) AS disciplinas\n",
    "FROM\n",
    "    faculdade.alunos)\n",
    "ORDER BY\n",
    "    disciplinas\n",
    "\"\"\"\n",
    "\n",
    "db(sql_ex04)"
   ]
  },
  {
   "cell_type": "markdown",
   "id": "58d5f71f",
   "metadata": {},
   "source": [
    "Após testar localmente e considerar sua solução correta, faça o envio clicando no botão abaixo!"
   ]
  },
  {
   "cell_type": "code",
   "execution_count": 11,
   "id": "94416a57",
   "metadata": {},
   "outputs": [
    {
     "data": {
      "application/vnd.jupyter.widget-view+json": {
       "model_id": "ef803994cd2c41618c11813c8b1aa8d7",
       "version_major": 2,
       "version_minor": 0
      },
      "text/plain": [
       "interactive(children=(Button(description='Enviar ex04', style=ButtonStyle()), Output()), _dom_classes=('widget…"
      ]
     },
     "execution_count": 11,
     "metadata": {},
     "output_type": "execute_result"
    }
   ],
   "source": [
    "ia.sender(answer=\"sql_ex04\", task=\"desafio_normalizacao\", question=\"ex04\", answer_type=\"pyvar\")"
   ]
  },
  {
   "cell_type": "markdown",
   "id": "a6cd4aa2",
   "metadata": {},
   "source": [
    "**Exercício 5**: A disciplina \"Meditação e Relaxamento\" foi cancelada por conta do baixo interesse nela pelos alunos. Escreva uma query que remova a disciplina do banco de dados sem que a estrutura da coluna seja afetada."
   ]
  },
  {
   "cell_type": "code",
   "execution_count": 15,
   "id": "191a5519",
   "metadata": {
    "scrolled": true
   },
   "outputs": [
    {
     "name": "stdout",
     "output_type": "stream",
     "text": [
      "Executando query:\n"
     ]
    }
   ],
   "source": [
    "sql_ex05 = \"\"\"\n",
    "UPDATE\n",
    "    faculdade.alunos\n",
    "SET\n",
    "    disciplinas = IF(disciplinas LIKE '%Meditação e Relaxamento, %', REPLACE(disciplinas, 'Meditação e Relaxamento, ', ''), disciplinas),\n",
    "    disciplinas = IF(disciplinas LIKE '%, Meditação e Relaxamento', REPLACE(disciplinas, ', Meditação e Relaxamento', ''), disciplinas),\n",
    "    disciplinas = IF(disciplinas LIKE '%Meditação e Relaxamento%', REPLACE(disciplinas, 'Meditação e Relaxamento', ''), disciplinas)\n",
    "\"\"\"\n",
    "\n",
    "db(sql_ex05)"
   ]
  },
  {
   "cell_type": "code",
   "execution_count": 16,
   "id": "003f021f",
   "metadata": {},
   "outputs": [
    {
     "data": {
      "application/vnd.jupyter.widget-view+json": {
       "model_id": "e1763bc166e14078a6e2d30d6d8eb3fd",
       "version_major": 2,
       "version_minor": 0
      },
      "text/plain": [
       "interactive(children=(Button(description='Enviar ex05', style=ButtonStyle()), Output()), _dom_classes=('widget…"
      ]
     },
     "execution_count": 16,
     "metadata": {},
     "output_type": "execute_result"
    }
   ],
   "source": [
    "ia.sender(answer=\"sql_ex05\", task=\"desafio_normalizacao\", question=\"ex05\", answer_type=\"pyvar\")"
   ]
  },
  {
   "cell_type": "markdown",
   "id": "a82a9b6e",
   "metadata": {},
   "source": [
    "### Conferindo as Notas\n",
    "\n",
    "Conferindo as Notas em cada exercício de **todas** as atividades disponíveis:"
   ]
  },
  {
   "cell_type": "markdown",
   "id": "46cedc17",
   "metadata": {},
   "source": [
    "Podemos filtrar por uma atividade:"
   ]
  },
  {
   "cell_type": "code",
   "execution_count": 17,
   "id": "86ad5ea7",
   "metadata": {},
   "outputs": [
    {
     "data": {
      "text/markdown": [
       "|    | Atividade            | Exercício   |   Peso |   Nota |\n",
       "|---:|:---------------------|:------------|-------:|-------:|\n",
       "|  0 | desafio_normalizacao | ex01        |      1 |     10 |\n",
       "|  1 | desafio_normalizacao | ex02        |      1 |     10 |\n",
       "|  2 | desafio_normalizacao | ex03        |      1 |     10 |\n",
       "|  3 | desafio_normalizacao | ex04        |      1 |     10 |\n",
       "|  4 | desafio_normalizacao | ex05        |      1 |     10 |"
      ],
      "text/plain": [
       "<IPython.core.display.Markdown object>"
      ]
     },
     "metadata": {},
     "output_type": "display_data"
    }
   ],
   "source": [
    "ia.grades(task=\"desafio_normalizacao\")"
   ]
  },
  {
   "cell_type": "markdown",
   "id": "d8f403ad",
   "metadata": {},
   "source": [
    "Nota por atividade (tarefa):"
   ]
  },
  {
   "cell_type": "code",
   "execution_count": 18,
   "id": "fdcdd52b",
   "metadata": {},
   "outputs": [
    {
     "data": {
      "text/markdown": [
       "|    | Tarefa               |   Nota |\n",
       "|---:|:---------------------|-------:|\n",
       "|  0 | agg_join             |  10    |\n",
       "|  1 | ai_md_23_1           |  10    |\n",
       "|  2 | ai_md_23_2           |  10    |\n",
       "|  3 | ai_md_24_1           |   7.5  |\n",
       "|  4 | ddl                  |  10    |\n",
       "|  5 | desafio_normalizacao |  10    |\n",
       "|  6 | dml                  |  10    |\n",
       "|  7 | group_having         |  10    |\n",
       "|  8 | newborn              |  10    |\n",
       "|  9 | permissions          |   6.92 |\n",
       "| 10 | select01             |  10    |\n",
       "| 11 | sql_review1          |  10    |\n",
       "| 12 | views                |   8.33 |"
      ],
      "text/plain": [
       "<IPython.core.display.Markdown object>"
      ]
     },
     "metadata": {},
     "output_type": "display_data"
    }
   ],
   "source": [
    "ia.grades(by=\"TASK\")"
   ]
  },
  {
   "cell_type": "markdown",
   "id": "14c242fb",
   "metadata": {},
   "source": [
    "Podendo filtrar apenas uma atividade:"
   ]
  },
  {
   "cell_type": "code",
   "execution_count": 19,
   "id": "e5f92f57",
   "metadata": {},
   "outputs": [
    {
     "data": {
      "text/markdown": [
       "|    | Tarefa               |   Nota |\n",
       "|---:|:---------------------|-------:|\n",
       "|  0 | desafio_normalizacao |     10 |"
      ],
      "text/plain": [
       "<IPython.core.display.Markdown object>"
      ]
     },
     "metadata": {},
     "output_type": "display_data"
    }
   ],
   "source": [
    "ia.grades(by=\"TASK\", task=\"desafio_normalizacao\")"
   ]
  }
 ],
 "metadata": {
  "kernelspec": {
   "display_name": "Python 3 (ipykernel)",
   "language": "python",
   "name": "python3"
  },
  "language_info": {
   "codemirror_mode": {
    "name": "ipython",
    "version": 3
   },
   "file_extension": ".py",
   "mimetype": "text/x-python",
   "name": "python",
   "nbconvert_exporter": "python",
   "pygments_lexer": "ipython3",
   "version": "3.12.2"
  }
 },
 "nbformat": 4,
 "nbformat_minor": 5
}
