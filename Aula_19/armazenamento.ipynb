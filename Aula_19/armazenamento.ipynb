{
 "cells": [
  {
   "cell_type": "markdown",
   "metadata": {},
   "source": [
    "# Sistemas de armazenamento\n",
    "\n",
    "A escolha de sistemas de armazenamento é uma passo fundamental do gerenciamento eficiente em Big Data. Produzimos uma quantidade cada vez maior de dados diariamente, logo é imprescindível ter uma solução escalável e duradoura para armazenar tais informações, previnindo problemas tanto de performance quanto de proteção de dados sensíveis."
   ]
  },
  {
   "cell_type": "markdown",
   "metadata": {},
   "source": [
    "## RAID\n",
    "\n",
    "RAID (**R**edundant **A**rray of **I**nexpensive **D**isks) é uma tecnologia de armazenamento que consiste na combinação de vários discos rígidos em um único sistema. O RAID pode ser configurado de várias maneiras diferentes, chamadas de níveis RAID, que oferecem diferentes benefícios e compromissos entre capacidade de armazenamento, velocidade de leitura/gravação e tolerância a falhas. O objetivo principal do RAID é fornecer um meio mais seguro e **confiável** de armazenar **grandes quantidades de dados**, com **redundância** para minimizar a perda de dados em caso de falha do hardware.\n",
    "\n",
    "Vamos ver alguns níveis RAID.\n",
    "\n",
    "### RAID `0`\n",
    "\n",
    "O RAID 0 distribui os dados uniformemente em dois ou mais discos, sem informações de paridade, redundância ou tolerância a falhas. É normalmente usado para aumentar o desempenho, embora também possa ser usado como uma forma de criar um grande volume lógico a partir de dois ou mais discos físicos.\n",
    "\n",
    "<img src=\"https://upload.wikimedia.org/wikipedia/commons/thumb/9/9b/RAID_0.svg/300px-RAID_0.svg.png\">\n",
    "\n",
    "Fonte: https://upload.wikimedia.org/wikipedia/commons/thumb/9/9b/RAID_0.svg/300px-RAID_0.svg.png\n",
    "\n",
    "Como o RAID 0 não fornece tolerância a falhas ou redundância, a falha de uma unidade fará com que todo o array falhe; como resultado da distribuição de dados em todos os discos, a falha resultará na perda total de dados.\n",
    "\n",
    "### RAID `1`\n",
    "\n",
    "O RAID 1 é um tipo de configuração de armazenamento em que os dados são copiados (produz *mirror* ou clone) para dois ou mais discos rígidos separados, oferecendo uma solução de backup imediata caso um dos discos falhe.\n",
    "\n",
    "<img src=\"https://upload.wikimedia.org/wikipedia/commons/thumb/b/b7/RAID_1.svg/300px-RAID_1.svg.png\">\n",
    "\n",
    "Fonte: https://upload.wikimedia.org/wikipedia/commons/thumb/b/b7/RAID_1.svg/300px-RAID_1.svg.png\n",
    "\n",
    "Nesta configuração, as solicitações de leitura podem ser atendidas e tratadas por qualquer unidade na matriz. Dependendo da natureza da carga de E/S, o desempenho de leitura aleatória de uma matriz RAID 1 pode ser igual à soma do desempenho de cada membro, enquanto o desempenho de gravação permanece no nível de um único disco.\n",
    "\n",
    "### RAID `5`\n",
    "\n",
    "O RAID 5 é um tipo de configuração de armazenamento que utiliza **três ou mais** discos rígidos para oferecer uma solução de armazenamento com desempenho e tolerância a falhas. Nessa configuração, os dados são distribuídos por todos os discos rígidos, o que permite que a leitura e gravação de dados ocorra de forma mais rápida.\n",
    "\n",
    "<img src=\"https://upload.wikimedia.org/wikipedia/commons/thumb/6/64/RAID_5.svg/600px-RAID_5.svg.png\">\n",
    "\n",
    "Fonte: https://upload.wikimedia.org/wikipedia/commons/thumb/6/64/RAID_5.svg/600px-RAID_5.svg.png\n",
    "\n",
    "Além disso, o RAID 5 possui um esquema de paridade distribuída, onde um bloco de paridade é armazenado em cada disco do conjunto. Isso significa que se um dos discos falhar, as informações contidas nele podem ser reconstruídas usando os dados armazenados nos outros discos e nas informações de paridade, garantindo a integridade dos dados e permitindo que o sistema continue operando sem perda de informações.\n",
    "\n",
    "\n",
    "\n",
    "Veja mais em https://en.wikipedia.org/wiki/Standard_RAID_levels"
   ]
  },
  {
   "cell_type": "markdown",
   "metadata": {},
   "source": [
    "## Exercícios"
   ]
  },
  {
   "cell_type": "markdown",
   "metadata": {},
   "source": [
    "**Exercício 1**\n",
    "\n",
    "Suponha que precise mover os dados armazenados em 10000 HDs de 1TB cada. O novo servidor está a 600Km de distância. \n",
    "\n",
    "**a)** Explique como você resolveria este problema. Cite tecnologias adequadas."
   ]
  },
  {
   "cell_type": "markdown",
   "metadata": {},
   "source": [
    "<div class=\"alert alert-success\">\n",
    "Sua resposta AQUI!    \n",
    "</div>"
   ]
  },
  {
   "cell_type": "markdown",
   "metadata": {},
   "source": [
    "**b)** Qual seria a latência da sua solução?"
   ]
  },
  {
   "cell_type": "markdown",
   "metadata": {},
   "source": [
    "<div class=\"alert alert-success\">\n",
    "Sua resposta AQUI!    \n",
    "</div>"
   ]
  },
  {
   "cell_type": "markdown",
   "metadata": {},
   "source": [
    "**c)** Qual a largura de banda e a taxa de transferência da sua solução?"
   ]
  },
  {
   "cell_type": "markdown",
   "metadata": {},
   "source": [
    "<div class=\"alert alert-success\">\n",
    "Sua resposta AQUI!    \n",
    "</div>"
   ]
  },
  {
   "cell_type": "markdown",
   "metadata": {},
   "source": [
    "**d)** Suponha que você resolva colocar todos os HDs em um caminhão e disparar! Qual seria a latência e a taxa de transferência da solução?"
   ]
  },
  {
   "cell_type": "markdown",
   "metadata": {},
   "source": [
    "<div class=\"alert alert-success\">\n",
    "\n",
    "Vamos ignorar o tempo para desmontar e remontar os HDs (senão perde toda a graça!)...\n",
    "Supondo que o caminhão viaja em média a 75 Km/h, então levará 8 horas para chegar ao destino. Logo, a latência é de aproximadamente 8 horas!\n",
    "\n",
    "A taxa de transferência é a quantidade transmitida dividido pelo tempo. Então vamos considerar GB e segundos como unidades.\n",
    "\n",
    "```python\n",
    "    qtde_hds = 10000 # Quantos HDs eu quero transferir\n",
    "    tb = qtde_hds * 1 # Cada HD tem 1TB, então calculamos o total de TB a serem transferidos\n",
    "    gb = tb * 1024 # Converte TB para GB \n",
    "\n",
    "    horas = 8\n",
    "    segundos = horas * 60 * 60\n",
    "\n",
    "    throughput = gb / segundos\n",
    "    throughput\n",
    "```\n",
    "Resultado: taxa de transferência de 355.56 GB/s\n",
    "\n",
    "</div>"
   ]
  },
  {
   "cell_type": "markdown",
   "metadata": {},
   "source": [
    "**Exercício 2** (*Prova Final 2019-2*)\n",
    "\n",
    "Em um cluster temos vários arquivos enormes, de tamanho médio 1 GB. Todos os arquivos são do tipo write-once-read-many: uma vez que o arquivo é criado, ele pode apenas ser removido por completo, nunca modificado parcialmente. Esse é o modo de operação do S3 da AWS. \n",
    "Os arquivos são divididos em blocos de 64 MB e estão armazenados de modo redundante, com fator de replicação 3 (este é o modo padrão do HDFS). Ou seja, cada bloco é armazenado 3 vezes, em máquinas diferentes. \n",
    "Desejamos armazenar 10000 arquivos destes, em máquinas com 4 discos de 1TB SSD cada, nas quais queremos que os dados ocupem no máximo 75% do espaço. \n",
    "Toda semana parte dos arquivos será processada usando Spark para alguma atividade de extração de informação. \n",
    "\n",
    "**a)** Quais as vantagens e desvantagens da replicação em máquinas diferentes, neste contexto? "
   ]
  },
  {
   "cell_type": "markdown",
   "metadata": {},
   "source": [
    "<div class=\"alert alert-success\">\n",
    "\n",
    "Vantagens:\n",
    "\n",
    "- confiabilidade: se uma máquina cai, o sistema continua a rodar\n",
    "- Desempenho: propicia acesso paralelo aos dados\n",
    "\n",
    "Desvantagens:\n",
    "- Custo de aquisição dos equipamentos\n",
    "- Custo de operação\n",
    "\n",
    "</div>"
   ]
  },
  {
   "cell_type": "markdown",
   "metadata": {},
   "source": [
    "**b)** Porque write-once-read-many é desejável aqui? "
   ]
  },
  {
   "cell_type": "markdown",
   "metadata": {},
   "source": [
    "<div class=\"alert alert-success\">\n",
    "\n",
    "É comum em BigData que ocorra apenas a leitura de dados brutos:\n",
    "    \n",
    "Dados brutos -> pipeline de processamentos -> dados processados -> Análise\n",
    "\n",
    "Caso necessário, os resultados da análise são armazenados, mas os dados originais são comumente mantidos.\n",
    "\n",
    "Além disso, não precisamos sincronizar dados entre cópias, o que facilita replicação de dados para desempenho e confiabilidade.\n",
    "</div>"
   ]
  },
  {
   "cell_type": "markdown",
   "metadata": {},
   "source": [
    "**c)** Quantas máquinas este cluster deve ter, no mínimo, para acomodar esses dados?"
   ]
  },
  {
   "cell_type": "markdown",
   "metadata": {},
   "source": [
    "<div class=\"alert alert-success\">\n",
    "Para determinar quantas máquinas são necessárias para acomodar os dados, precisamos considerar o tamanho total dos dados, o fator de replicação e a capacidade disponível em cada máquina.\n",
    "\n",
    "### Passos para Resolver o Problema:\n",
    "\n",
    "1. **Calcular o Tamanho Total dos Dados sem Replicação**:\n",
    "   - Cada arquivo tem, em média, 1 GB.\n",
    "   - Temos 10.000 arquivos.\n",
    "   - Portanto, o tamanho total dos dados é:\n",
    "     $$\n",
    "     \\text{Tamanho Total dos Dados} = 10.000 \\, \\text{arquivos} \\times 1 \\, \\text{GB/arquivo} = 10.000 \\, \\text{GB}\n",
    "     $$\n",
    "\n",
    "2. **Considerar o Fator de Replicação**:\n",
    "   - O fator de replicação é 3.\n",
    "   - Portanto, o tamanho total dos dados considerando a replicação é:\n",
    "     $$\n",
    "     \\text{Tamanho Total com Replicação} = 10.000 \\, \\text{GB} \\times 3 = 30.000 \\, \\text{GB}\n",
    "     $$\n",
    "\n",
    "3. **Calcular a Capacidade Disponível por Máquina**:\n",
    "   - Cada máquina tem 4 discos de 1 TB (ou 1000 GB) cada.\n",
    "   - Portanto, a capacidade total de armazenamento por máquina é:\n",
    "     $$\n",
    "     \\text{Capacidade Total por Máquina} = 4 \\, \\text{discos} \\times 1000 \\, \\text{GB/disco} = 4.000 \\, \\text{GB}\n",
    "     $$\n",
    "   - Queremos que os dados ocupem no máximo 75% do espaço disponível.\n",
    "   - Portanto, a capacidade utilizável por máquina é:\n",
    "     $$\n",
    "     \\text{Capacidade Utilizável por Máquina} = 4.000 \\, \\text{GB} \\times 0.75 = 3.000 \\, \\text{GB}\n",
    "     $$\n",
    "\n",
    "4. **Calcular o Número de Máquinas Necessárias**:\n",
    "   - O número de máquinas necessárias para acomodar os dados com a replicação é:\n",
    "     $$\n",
    "     \\text{Número de Máquinas} = \\frac{\\text{Tamanho Total com Replicação}}{\\text{Capacidade Utilizável por Máquina}} = \\frac{30.000 \\, \\text{GB}}{3.000 \\, \\text{GB/máquina}} = 10 \\, \\text{máquinas}\n",
    "     $$\n",
    "\n",
    "Portanto, o cluster deve ter, no mínimo, **10 máquinas** para acomodar os dados com o fator de replicação 3, utilizando até 75% da capacidade de armazenamento disponível em cada máquina. \n",
    "</div>"
   ]
  },
  {
   "cell_type": "markdown",
   "metadata": {},
   "source": [
    "**d)** Mais dados chegam constantemente ao sistema, que eventualmente ficará sem capacidade! Mas uma vez que a pipeline Spark é executada, os dados não são mais necessários de imediato. Proponha uma solução simples para não perder dados e não ter que aumentar indefinidamente o cluster. "
   ]
  },
  {
   "cell_type": "markdown",
   "metadata": {},
   "source": [
    "<div class=\"alert alert-success\">\n",
    "\n",
    "Para gerenciar a capacidade de armazenamento de maneira eficiente e garantir que os dados não sejam perdidos sem aumentar indefinidamente o cluster, podemos adotar uma abordagem que envolve o arquivamento de dados antigos para um armazenamento mais barato e o uso de um sistema de ciclo de vida dos dados. Abaixo está uma proposta de solução:\n",
    "\n",
    "### Solução Proposta: Arquivamento e Gerenciamento do Ciclo de Vida dos Dados\n",
    "\n",
    "1. **Arquivamento de Dados Antigos**:\n",
    "   - **Armazenamento em Nuvem**: Utilize um serviço de armazenamento em nuvem como o Amazon S3, Google Cloud Storage ou Azure Blob Storage para arquivar dados antigos. Esses serviços são mais baratos para armazenamento de longo prazo.\n",
    "   - **Transferência de Dados**: Após a execução da pipeline Spark e o processamento dos dados, transfira os dados antigos para o armazenamento em nuvem. Isso pode ser automatizado usando scripts que movem os dados periodicamente (por exemplo, diariamente ou semanalmente).\n",
    "\n",
    "2. **Configuração de Regras de Ciclo de Vida**:\n",
    "   - **Políticas de Retenção de Dados**: Configure políticas de retenção de dados que determinam por quanto tempo os dados permanecem no armazenamento principal (HDFS) antes de serem arquivados.\n",
    "   - **Regras de Expiração**: Configure regras de expiração no armazenamento em nuvem para deletar automaticamente os dados após um certo período, se não forem mais necessários.\n",
    "\n",
    "3. **Automação e Monitoramento**:\n",
    "   - **Automação de Processos**: Utilize ferramentas como Apache Airflow ou AWS Data Pipeline para automatizar o fluxo de dados, garantindo que os dados sejam movidos para o armazenamento em nuvem de acordo com as regras definidas.\n",
    "   - **Monitoramento de Capacidade**: Implemente um sistema de monitoramento para acompanhar a capacidade de armazenamento do cluster e alertar quando estiver próximo do limite. Ferramentas como Grafana e Prometheus podem ser usadas para isso.\n",
    "\n",
    "</div>"
   ]
  },
  {
   "cell_type": "markdown",
   "metadata": {},
   "source": [
    "**Exercício 3** (*Prova Final 2018-2*)\n",
    "\n",
    "Descreva um sistema de armazenamento adequado para edição de vídeo, onde temos grandes massas de dados e a necessidade de transferi-los em alta velocidade numa rede local. \n",
    "\n",
    "Estime capacidade e velocidade de transferência para editar vídeos full HD (1920x1080, 30 quadros por segundo, 24-bit RGB) com taxa de compressão típica de 30% (ou seja, o tamanho comprimido é 30% do tamanho original). \n",
    "\n",
    "Cite tecnologias adequadas para este sistema. \n"
   ]
  },
  {
   "cell_type": "markdown",
   "metadata": {},
   "source": [
    "<div class=\"alert alert-success\">\n",
    "\n",
    "### Sistema de Armazenamento para Edição de Vídeo\n",
    "\n",
    "Para um sistema de armazenamento adequado para edição de vídeo, onde temos grandes massas de dados e a necessidade de alta velocidade de transferência em uma rede local, precisamos considerar vários aspectos, incluindo capacidade de armazenamento, velocidade de transferência e tecnologias adequadas.\n",
    "\n",
    "### Requisitos de Armazenamento\n",
    "\n",
    "1. **Capacidade de Armazenamento**:\n",
    "   - Edição de vídeos full HD (1920x1080, 30 quadros por segundo, 24-bit RGB).\n",
    "   - Estimar a quantidade de armazenamento necessária considerando a compressão.\n",
    "\n",
    "2. **Velocidade de Transferência**:\n",
    "   - Alta velocidade de leitura e escrita para suportar a edição de vídeo sem latência.\n",
    "\n",
    "### Cálculo da Capacidade e Velocidade de Transferência\n",
    "\n",
    "#### 1. Capacidade de Armazenamento\n",
    "\n",
    "**Tamanho de um quadro não comprimido**:\n",
    "- Resolução: 1920x1080 pixels.\n",
    "- Cada pixel tem 24 bits (3 bytes) de cor (RGB).\n",
    "- Tamanho de um quadro:\n",
    "  $$\n",
    "  \\text{Tamanho de um quadro} = 1920 \\times 1080 \\times 3 \\, \\text{bytes} = 6220800 \\, \\text{bytes} \\approx 5.93 \\, \\text{MB}\n",
    "  $$\n",
    "\n",
    "**Tamanho do vídeo não comprimido**:\n",
    "- 30 quadros por segundo.\n",
    "- 1 minuto de vídeo:\n",
    "  $$\n",
    "  \\text{Tamanho de 1 minuto de vídeo} = 5.93 \\, \\text{MB} \\times 30 \\, \\text{quadros/segundo} \\times 60 \\, \\text{segundos} = 10656 \\, \\text{MB} \\approx 10.66 \\, \\text{GB}\n",
    "  $$\n",
    "\n",
    "**Tamanho do vídeo comprimido** (30% do tamanho original):\n",
    "  $$\n",
    "  \\text{Tamanho comprimido} = 0.30 \\times 10.66 \\, \\text{GB} = 3.198 \\, \\text{GB por minuto}\n",
    "  $$\n",
    "\n",
    "#### 2. Velocidade de Transferência\n",
    "\n",
    "**Taxa de dados não comprimidos**:\n",
    "  $$\n",
    "  \\text{Taxa de dados} = 5.93 \\, \\text{MB} \\times 30 \\, \\text{quadros/segundo} = 177.9 \\, \\text{MB/segundo}\n",
    "  $$\n",
    "\n",
    "**Taxa de dados comprimidos**:\n",
    "  $$\n",
    "  \\text{Taxa de dados comprimidos} = 0.30 \\times 177.9 \\, \\text{MB/segundo} = 53.37 \\, \\text{MB/segundo}\n",
    "  $$\n",
    "\n",
    "### Tecnologias Adequadas\n",
    "\n",
    "#### Armazenamento\n",
    "\n",
    "1. **RAID Arrays**:\n",
    "   - **RAID 0**: Alta performance de leitura e escrita (striping), mas sem redundância.\n",
    "   - **RAID 5**: Boa performance com redundância (striping com paridade).\n",
    "   - **RAID 10**: Combinação de RAID 1 (espelhamento) e RAID 0 (striping) para alta performance e redundância.\n",
    "\n",
    "2. **SSD (Solid State Drives)**:\n",
    "   - Alta velocidade de leitura e escrita.\n",
    "   - Baixa latência comparada aos HDDs (Hard Disk Drives).\n",
    "\n",
    "3. **NVMe (Non-Volatile Memory Express)**:\n",
    "   - Interface de comunicação para SSDs que permite taxas de transferência muito altas.\n",
    "\n",
    "#### Rede\n",
    "\n",
    "1. **10 Gigabit Ethernet**:\n",
    "   - Oferece velocidade de 10 Gbps (aproximadamente 1.25 GB/segundo), suficiente para a transferência de dados comprimidos.\n",
    "\n",
    "2. **InfiniBand**:\n",
    "   - Oferece alta largura de banda e baixa latência, usada em ambientes de alta performance.\n",
    "\n",
    "### Sistema Proposto\n",
    "\n",
    "#### Armazenamento\n",
    "\n",
    "**Configuração RAID 10 com SSDs NVMe**:\n",
    "- **Capacidade**: Supondo que cada SSD NVMe tenha 2 TB.\n",
    "- **Número de Discos**: 4 discos (2 pares espelhados, cada par em striping).\n",
    "- **Capacidade Utilizável**:\n",
    "  $$\n",
    "  \\text{Capacidade Utilizável} = \\frac{4 \\times 2 \\, \\text{TB}}{2} = 4 \\, \\text{TB}\n",
    "  $$\n",
    "- **Velocidade de Transferência**: Alta velocidade de leitura e escrita devido ao striping e uso de NVMe.\n",
    "\n",
    "#### Rede\n",
    "\n",
    "**10 Gigabit Ethernet**:\n",
    "- Suporte a transferência de dados a 10 Gbps.\n",
    "- Equipar todas as máquinas com adaptadores de rede de 10 Gigabit Ethernet.\n",
    "- Utilizar switches compatíveis para garantir a performance de rede.\n",
    "\n",
    "### Conclusão\n",
    "\n",
    "Para um sistema de armazenamento adequado para edição de vídeo full HD com alta velocidade de transferência em uma rede local, recomenda-se a utilização de uma configuração RAID 10 com SSDs NVMe para obter alta capacidade de armazenamento e velocidade de transferência. Complementar com uma rede de 10 Gigabit Ethernet para garantir a transferência rápida de dados entre as máquinas no cluster. Este sistema garante a performance necessária para edição de vídeo sem latências e com redundância adequada para segurança dos dados.\n",
    "\n",
    "</div>"
   ]
  },
  {
   "cell_type": "markdown",
   "metadata": {},
   "source": [
    "**Exercício 4** (*Prova Final 2017-2*)\n",
    "\n",
    "(contexto: nesta prova estávamos falando de uma rede social fictícia da start-up na qual você trabalha)\n",
    "\n",
    "A rede social está fazendo um sucesso inacreditável! Estima-se que daqui a 6 meses a rede terá 2 milhões de usuários, cada um postando uma média de 10kB por dia de conteúdo (fotos, áudio, texto, etc). Pelas regras desta rede social, todo o material postado nos últimos 12 meses estará rapidamente acessível, (em questão de milissegundos). A empresa deseja manter registros históricos de todo o material mais antigo (após 12 meses), indefinidamente. Projete uma solução de armazenamento para a empresa, indicando o tamanho esperado do(s) espaço(s) de armazenamento. \n"
   ]
  },
  {
   "cell_type": "markdown",
   "metadata": {},
   "source": [
    "<div class=\"alert alert-success\">\n",
    "\n",
    "### Solução de Armazenamento para Rede Social\n",
    "\n",
    "Para projetar uma solução de armazenamento para a rede social que mantenha registros de todo o material postado, tanto recente quanto histórico, precisamos considerar os seguintes fatores:\n",
    "\n",
    "1. **Crescimento do Número de Usuários**: Estima-se que em 6 meses haverá 2 milhões de usuários.\n",
    "2. **Volume de Postagens**: Cada usuário posta, em média, 10 kB por dia de conteúdo.\n",
    "3. **Requisitos de Acesso**:\n",
    "   - Todo o material postado nos últimos 12 meses deve estar rapidamente acessível.\n",
    "   - Material mais antigo deve ser mantido indefinidamente, mas pode ser armazenado em um meio de acesso mais lento.\n",
    "\n",
    "### Cálculo do Espaço de Armazenamento Necessário\n",
    "\n",
    "#### 1. Armazenamento Rápido para Conteúdo Recente (últimos 12 meses)\n",
    "\n",
    "**Volume diário de dados**:\n",
    "- Número de usuários: 2 milhões\n",
    "- Tamanho médio das postagens por usuário: 10 kB\n",
    "$$\n",
    "\\text{Volume diário} = 2 \\, \\text{milhões} \\times 10 \\, \\text{kB} = 20 \\, \\text{milhões de kB} = 20 \\, \\text{GB/dia}\n",
    "$$\n",
    "\n",
    "**Volume anual de dados**:\n",
    "$$\n",
    "\\text{Volume anual} = 20 \\, \\text{GB/dia} \\times 365 \\, \\text{dias} = 7300 \\, \\text{GB} \\approx 7.3 \\, \\text{TB}\n",
    "$$\n",
    "\n",
    "Portanto, para manter os dados dos últimos 12 meses rapidamente acessíveis, precisamos de **7.3 TB** de armazenamento rápido.\n",
    "\n",
    "#### 2. Armazenamento para Dados Históricos (mais de 12 meses)\n",
    "\n",
    "A empresa deseja manter registros históricos indefinidamente. Vamos calcular o volume de dados gerado em um ano e considerá-lo como a base para o armazenamento histórico.\n",
    "\n",
    "**Volume anual de dados**:\n",
    "$$\n",
    "\\text{Volume anual} = 20 \\, \\text{GB/dia} \\times 365 \\, \\text{dias} = 7300 \\, \\text{GB} \\approx 7.3 \\, \\text{TB}\n",
    "$$\n",
    "\n",
    "### Tecnologias Recomendadas\n",
    "\n",
    "#### 1. Armazenamento Rápido (Últimos 12 meses)\n",
    "\n",
    "**SSD (Solid State Drives)**:\n",
    "- Alta velocidade de leitura e escrita.\n",
    "- Baixa latência.\n",
    "- Ideal para dados que precisam ser rapidamente acessíveis.\n",
    "\n",
    "**NVMe (Non-Volatile Memory Express)**:\n",
    "- Interface para SSDs que permite taxas de transferência muito altas.\n",
    "- Excelente para cenários onde a velocidade é crítica.\n",
    "\n",
    "#### 2. Armazenamento para Dados Históricos\n",
    "\n",
    "**Armazenamento em Nuvem**:\n",
    "- Amazon S3 Glacier, Google Cloud Storage Nearline, ou Azure Blob Storage Archive.\n",
    "- Armazenamento de baixo custo para dados que são acessados com pouca frequência.\n",
    "- Solução escalável para armazenamento de longo prazo.\n",
    "\n",
    "**Sistemas de Backup e Arquivamento**:\n",
    "- Sistemas como Veritas, Commvault, ou ferramentas open-source como Bacula e Amanda.\n",
    "- Permitem a criação de políticas de backup e arquivamento que garantem a retenção de dados históricos.\n",
    "\n",
    "### Projeto de Armazenamento\n",
    "\n",
    "#### Armazenamento Rápido\n",
    "\n",
    "- **Capacidade Necessária**: 7.3 TB\n",
    "- **Tecnologia**: RAID 10 com SSDs NVMe para alta performance e redundância.\n",
    "\n",
    "#### Armazenamento Histórico\n",
    "\n",
    "- **Volume Anual**: 7.3 TB (com crescimento anual)\n",
    "- **Tecnologia**: Armazenamento em Nuvem (S3 Glacier, GCS Nearline) para baixo custo e escalabilidade.\n",
    "\n",
    "### Estimativa de Tamanho do Espaço de Armazenamento\n",
    "\n",
    "1. **Armazenamento Rápido (últimos 12 meses)**:\n",
    "   - **Capacidade Necessária**: 7.3 TB\n",
    "   - **Configuração**: RAID 10 com SSDs NVMe\n",
    "\n",
    "2. **Armazenamento Histórico (mais de 12 meses)**:\n",
    "   - **Capacidade Anual Inicial**: 7.3 TB\n",
    "   - **Tecnologia**: Armazenamento em Nuvem para escalabilidade.\n",
    "\n",
    "### Conclusão\n",
    "\n",
    "Para atender às necessidades de armazenamento da rede social, recomendamos um sistema híbrido:\n",
    "\n",
    "- **Armazenamento Rápido**: 7.3 TB de armazenamento rápido usando RAID 10 com SSDs NVMe para garantir que os dados dos últimos 12 meses estejam rapidamente acessíveis.\n",
    "- **Armazenamento Histórico**: Uso de serviços de armazenamento em nuvem de baixo custo para manter registros históricos indefinidamente.\n",
    "\n",
    "Essa solução garante alta performance para dados recentes e escalabilidade para dados históricos, otimizando custos e eficiência operacional.\n",
    "\n",
    "</div>"
   ]
  },
  {
   "cell_type": "markdown",
   "metadata": {},
   "source": [
    "**Exercício 5** Considerando a capacidade total de todos os discos, qual a porcentagem aproximada realmente disponível para armazenamento no RAID 0, RAID 1 e RAID 5 (considere 4 discos)?"
   ]
  },
  {
   "cell_type": "markdown",
   "metadata": {},
   "source": [
    "<div class=\"alert alert-success\">\n",
    "\n",
    "Para determinar a porcentagem aproximada da capacidade de armazenamento realmente disponível em diferentes configurações de RAID (RAID 0, RAID 1 e RAID 5) com 4 discos, precisamos entender como cada configuração utiliza a capacidade dos discos.\n",
    "\n",
    "### Capacidade Total de Todos os Discos\n",
    "\n",
    "Vamos assumir que cada disco tem uma capacidade de \\( C \\) terabytes (TB). Portanto, a capacidade total de todos os discos é:\n",
    "$$\n",
    "\\text{Capacidade Total} = 4 \\times C\n",
    "$$\n",
    "\n",
    "### RAID 0\n",
    "\n",
    "**RAID 0 (Striping)**:\n",
    "- Todos os discos são usados para armazenar dados, sem redundância.\n",
    "- A capacidade disponível para armazenamento é a soma da capacidade de todos os discos.\n",
    "$$\n",
    "\\text{Capacidade Disponível em RAID 0} = 4 \\times C\n",
    "$$\n",
    "- **Porcentagem de Capacidade Utilizável**:\n",
    "$$\n",
    "\\text{Porcentagem Disponível em RAID 0} = \\frac{\\text{Capacidade Disponível}}{\\text{Capacidade Total}} \\times 100\\% = \\frac{4C}{4C} \\times 100\\% = 100\\%\n",
    "$$\n",
    "\n",
    "### RAID 1\n",
    "\n",
    "**RAID 1 (Mirroring)**:\n",
    "- Cada par de discos espelha os dados, ou seja, os dados são duplicados.\n",
    "- A capacidade disponível para armazenamento é a metade da capacidade total.\n",
    "$$\n",
    "\\text{Capacidade Disponível em RAID 1} = \\frac{4 \\times C}{2} = 2 \\times C\n",
    "$$\n",
    "- **Porcentagem de Capacidade Utilizável**:\n",
    "$$\n",
    "\\text{Porcentagem Disponível em RAID 1} = \\frac{2C}{4C} \\times 100\\% = 50\\%\n",
    "$$\n",
    "\n",
    "### RAID 5\n",
    "\n",
    "**RAID 5 (Striping with Parity)**:\n",
    "- Os dados e a paridade são distribuídos entre todos os discos.\n",
    "- A capacidade de um disco é usada para armazenar paridade, permitindo que o sistema recupere dados no caso de falha de um único disco.\n",
    "- A capacidade disponível para armazenamento é a capacidade total menos a capacidade de um disco.\n",
    "$$\n",
    "\\text{Capacidade Disponível em RAID 5} = (4 - 1) \\times C = 3 \\times C\n",
    "$$\n",
    "- **Porcentagem de Capacidade Utilizável**:\n",
    "$$\n",
    "\\text{Porcentagem Disponível em RAID 5} = \\frac{3C}{4C} \\times 100\\% = 75\\%\n",
    "$$\n",
    "\n",
    "### Resumo das Porcentagens de Capacidade Utilizável\n",
    "\n",
    "1. **RAID 0**:\n",
    "   - **Capacidade Utilizável**: 100%\n",
    "   - **Justificativa**: Todos os discos são usados para armazenamento de dados sem redundância.\n",
    "\n",
    "2. **RAID 1**:\n",
    "   - **Capacidade Utilizável**: 50%\n",
    "   - **Justificativa**: Cada par de discos espelha os dados, resultando em metade da capacidade total disponível para armazenamento.\n",
    "\n",
    "3. **RAID 5**:\n",
    "   - **Capacidade Utilizável**: 75%\n",
    "   - **Justificativa**: Um disco é usado para paridade, permitindo a recuperação de dados no caso de falha de um único disco.\n",
    "\n",
    "Essas porcentagens ajudam a entender a eficiência de utilização do armazenamento em diferentes configurações de RAID, permitindo uma escolha informada com base nos requisitos de desempenho, redundância e capacidade.\n",
    "\n",
    "</div>"
   ]
  },
  {
   "cell_type": "markdown",
   "metadata": {},
   "source": [
    "**Exercício 6**\n",
    "\n",
    "Neste exercício vamos trabalhar com o AWS S3 utilizando a biblioteca `boto3`.\n",
    "\n",
    "**a)** Faça a instalação dela com `pip install boto3`."
   ]
  },
  {
   "cell_type": "code",
   "execution_count": null,
   "metadata": {},
   "outputs": [],
   "source": [
    "# !pip install boto3"
   ]
  },
  {
   "cell_type": "markdown",
   "metadata": {},
   "source": [
    "**b)** Utilize as credenciais disponibilizadas pelo professor para criar um `.env` na pasta da aula de hoje. Cuidado para não vazar estas credenciais, jamais disponibilize no github ou qualquer outro lugar público! Estas credenciais estarão válidas apenas durante a aula de hoje."
   ]
  },
  {
   "cell_type": "markdown",
   "metadata": {},
   "source": [
    "**c)** Vamos enviar uma imagem para o S3. Para isto, considere o arquivo `an_dalle.jpeg` gerado no bing utilizando o promp \"an\" (vai entender como este prompt gerou esta imagem, mas gostei!).\n",
    "\n",
    "<img src=\"an_dalle.jpeg\">\n",
    "\n",
    "A imagem deverá ser salva em `\"bucket/USUARIO_INSPER/an_dalle.jpeg\"`. Assim cada aluno consegue escrever e ler sem prejudicar os demais, uma vez que utilizaremos o mesmo bucket S3.\n",
    "\n",
    "Preencha seu usuário Insper no código e execute."
   ]
  },
  {
   "cell_type": "markdown",
   "metadata": {},
   "source": [
    "```python\n",
    "import boto3\n",
    "import os\n",
    "from dotenv import load_dotenv\n",
    "\n",
    "\n",
    "# Carrega variáveis de ambiente, confira seu .env\n",
    "load_dotenv()\n",
    "\n",
    "s3 = boto3.client(\n",
    "    \"s3\",\n",
    "    aws_access_key_id=os.getenv(\"AWS_ACCESS_KEY_ID\"),\n",
    "    aws_secret_access_key=os.getenv(\"AWS_SECRET_ACCESS_KEY\"),\n",
    ")\n",
    "\n",
    "# Na pasta da aula deve existir este arquivo\n",
    "fname = \"an_dalle.jpeg\"\n",
    "\n",
    "# Informe seu usuário insper para diferenciar, no bucket s3, o seu conteúdo\n",
    "# e o de seus colegas\n",
    "insper_username = \"seu_usuario_aqui\" # <--- Seu usuário Insper AQUI!\n",
    "bucket_name = os.getenv(\"AWS_BUCKET_NAME\")\n",
    "\n",
    "# A chave serve como um prefixo + arquivo (como em um sistema de pastas)\n",
    "key = f\"{insper_username}/{fname}\"\n",
    "\n",
    "# Faz o upload do arquivo para o bucket\n",
    "s3.upload_file(fname, bucket_name, key)\n",
    "print(\"Fez o upload!\")\n",
    "```"
   ]
  },
  {
   "cell_type": "markdown",
   "metadata": {},
   "source": [
    "**d)** Agora vamos conferir se conseguimos fazer a leitura da imagem.\n",
    "\n",
    "Preencha seu usuário Insper no código a seguir e confira se a imagem `an_dalle_downloaded.jpeg` é gerada corretamente."
   ]
  },
  {
   "cell_type": "markdown",
   "metadata": {},
   "source": [
    "```python\n",
    "import boto3\n",
    "import os\n",
    "from dotenv import load_dotenv\n",
    "\n",
    "# Carrega variáveis de ambiente, confira seu .env\n",
    "load_dotenv()\n",
    "\n",
    "s3 = boto3.client(\n",
    "    \"s3\",\n",
    "    aws_access_key_id=os.getenv(\"AWS_ACCESS_KEY_ID\"),\n",
    "    aws_secret_access_key=os.getenv(\"AWS_SECRET_ACCESS_KEY\"),\n",
    ")\n",
    "\n",
    "# Este é o arquivo que você quer baixar\n",
    "fname = \"an_dalle.jpeg\"\n",
    "insper_username = \"seu_usuario_aqui\" # <--- Seu usuário Insper AQUI!\n",
    "bucket_name = os.getenv(\"AWS_BUCKET_NAME\")\n",
    "\n",
    "# Com qual prefixo o arquivo está armazenado no bucket s3\n",
    "key = f\"{insper_username}/{fname}\"\n",
    "\n",
    "# Este será o nome do arquivo baixado\n",
    "local_file_path = \"an_dalle_downloaded.jpeg\"\n",
    "\n",
    "# Faz download do arquivo\n",
    "s3.download_file(bucket_name, key, local_file_path)\n",
    "print(f\"Fez o download, confira o arquivo {local_file_path}\")\n",
    "```"
   ]
  },
  {
   "cell_type": "markdown",
   "metadata": {},
   "source": [
    "**e)** Como funcionou para o `.jepg`, vamos utilizar a mesma ideia para subir no S3 um backup de uma base MySQL.\n",
    "\n",
    "Para isto, utilizaremos o `mysqldump`. Provavelmente o executável `mysqldump.exe` está na pasta `C:\\Program Files\\MySQL\\MySQL Server 8.0\\bin`. Localize o local correto e faça a adição dele ao `PATH` do sistema caso ainda não esteja.\n",
    "\n",
    "Em seguida, abra o terminal e faça o backup da base `classicmodels`:"
   ]
  },
  {
   "cell_type": "markdown",
   "metadata": {},
   "source": [
    "```console\n",
    "mysqldump -h localhost -u root -p classicmodels > classicmodels_261023.sql\n",
    "```"
   ]
  },
  {
   "cell_type": "markdown",
   "metadata": {},
   "source": [
    "Então, adapte o código para enviar este arquivo SQL para o S3, deixando-o em `\"bucket/USUARIO_INSPER/classicmodels_261023.sql\"`.\n",
    "\n",
    "Em seguida, adapte o código de download para baixar o arquivo SQL como `classicmodels_261023_downloaded.sql`.\n",
    "\n",
    "Então, faremos a reconstrução da base. Faremos drop com:"
   ]
  },
  {
   "cell_type": "markdown",
   "metadata": {},
   "source": [
    "```console\n",
    "mysql -h localhost -P 3306 -u root -p -e \"DROP DATABASE classicmodels;\"\n",
    "```"
   ]
  },
  {
   "cell_type": "markdown",
   "metadata": {},
   "source": [
    "Você pode abrir o Workbench e conferir se o drop realmente ocorreu!\n",
    "\n",
    "Crie o database novamente com:"
   ]
  },
  {
   "cell_type": "markdown",
   "metadata": {},
   "source": [
    "```console\n",
    "mysql -h localhost -P 3306 -u root -p -e \"CREATE DATABASE classicmodels;\"\n",
    "```"
   ]
  },
  {
   "cell_type": "markdown",
   "metadata": {},
   "source": [
    "E reconstrua as tabelas e dados com:"
   ]
  },
  {
   "cell_type": "markdown",
   "metadata": {},
   "source": [
    "```console\n",
    "mysql -h localhost -P 3306 -u root -p classicmodels < classicmodels_261023_downloaded.sql\n",
    "```"
   ]
  },
  {
   "cell_type": "markdown",
   "metadata": {},
   "source": [
    "Pronto! Abra o workbench e confira se a base foi restaurada."
   ]
  },
  {
   "cell_type": "markdown",
   "metadata": {},
   "source": [
    "**f)** Pesquise como deletar objetos no S3. Faça a deleção **apenas dos arquivos/keys enviados por você**!"
   ]
  },
  {
   "cell_type": "markdown",
   "metadata": {},
   "source": [
    "## Gabarito"
   ]
  },
  {
   "cell_type": "markdown",
   "metadata": {},
   "source": [
    "**<div id=\"gab_ex1\">**Exercício 1 d)**</div>**\n",
    "<div class=\"alert alert-warning\">\n",
    "\n",
    "Vamos ignorar o tempo para desmontar e remontar os HDs (senão perde toda a graça!)...\n",
    "Supondo que o caminhão viaja em média a 75 Km/h, então levará 8 horas para chegar ao destino. Logo, a latência é de aproximadamente 8 horas!\n",
    "\n",
    "A taxa de transferência é a quantidade transmitida dividido pelo tempo. Então vamos considerar GB e segundos como unidades.\n",
    "\n",
    "```python\n",
    "    qtde_hds = 10000 # Quantos HDs eu quero transferir\n",
    "    tb = qtde_hds * 1 # Cada HD tem 1TB, então calculamos o total de TB a serem transferidos\n",
    "    gb = tb * 1024 # Converte TB para GB \n",
    "\n",
    "    horas = 8\n",
    "    segundos = horas * 60 * 60\n",
    "\n",
    "    throughput = gb / segundos\n",
    "    throughput\n",
    "```\n",
    "Resultado: taxa de transferência de 355.56 GB/s\n",
    "\n",
    "\n",
    "</div>"
   ]
  },
  {
   "cell_type": "markdown",
   "metadata": {
    "tags": []
   },
   "source": [
    "**<div id=\"gab_ex2\">**Exercício 2**</div>**\n",
    "<div class=\"alert alert-warning\">\n",
    "\n",
    "**a)**\n",
    "\n",
    "Vantagens:\n",
    "\n",
    "- confiabilidade: se uma máquina cai, o sistema continua a rodar\n",
    "- Desempenho: propicia acesso paralelo aos dados\n",
    "\n",
    "Desvantagens:\n",
    "- Custo de aquisição dos equipamentos\n",
    "- Custo de operação\n",
    "\n",
    "**b)**\n",
    "    \n",
    "É comum em BigData que ocorra apenas a leitura de dados brutos:\n",
    "    \n",
    "Dados brutos -> pipeline de processamentos -> dados processados -> Análise\n",
    "\n",
    "Caso necessário, os resultados da análise são armazenados, mas os dados originais são comumente mantidos.\n",
    "\n",
    "Além disso, não precisamos sincronizar dados entre cópias, o que facilita replicação de dados para desempenho e confiabilidade.\n",
    "</div>"
   ]
  },
  {
   "cell_type": "markdown",
   "metadata": {
    "tags": []
   },
   "source": [
    "**<div id=\"gab_ex4\">**Exercício 4**</div>**\n",
    "<div class=\"alert alert-warning\">\n",
    "\n",
    "*(Resposta parcial)*\n",
    "\n",
    "Uma solução para teria as seguintes características propostas:\n",
    "\n",
    "- write-once-read-many: é raro querer editar posts, só postar, raramente deletar\n",
    "- 12 meses de dados \"live\", o resto é backup\n",
    "    \n",
    "Uma solução seria utilizar o S3 para manter os dados live e o Glacier para os dados mais antigos (backup). Os dados poderiam ser restaurados do Glacier caso fosse necessário fazer auditoria.\n",
    "</div>"
   ]
  },
  {
   "cell_type": "markdown",
   "metadata": {},
   "source": [
    "### Referências\n",
    "- Silberschatz cap. 11\n",
    "- Parte dos textos gerados utilizando https://chatbot.theb.ai/"
   ]
  }
 ],
 "metadata": {
  "kernelspec": {
   "display_name": "Python 3 (ipykernel)",
   "language": "python",
   "name": "python3"
  },
  "language_info": {
   "codemirror_mode": {
    "name": "ipython",
    "version": 3
   },
   "file_extension": ".py",
   "mimetype": "text/x-python",
   "name": "python",
   "nbconvert_exporter": "python",
   "pygments_lexer": "ipython3",
   "version": "3.10.12"
  },
  "toc": {
   "base_numbering": 1,
   "nav_menu": {},
   "number_sections": true,
   "sideBar": true,
   "skip_h1_title": false,
   "title_cell": "Table of Contents",
   "title_sidebar": "Contents",
   "toc_cell": false,
   "toc_position": {},
   "toc_section_display": true,
   "toc_window_display": false
  }
 },
 "nbformat": 4,
 "nbformat_minor": 4
}
